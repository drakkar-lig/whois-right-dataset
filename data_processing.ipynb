{
 "cells": [
  {
   "cell_type": "markdown",
   "id": "analyzed-croatia",
   "metadata": {},
   "source": [
    "# Loading the parsed values from the csv file"
   ]
  },
  {
   "cell_type": "code",
   "execution_count": 1,
   "id": "willing-updating",
   "metadata": {},
   "outputs": [],
   "source": [
    "import sqlite3\n",
    "\n",
    "db_path = \"../data/artefacts/parsed.db\"\n",
    "db = sqlite3.connect(db_path, isolation_level=\"EXCLUSIVE\")\n",
    "cur = db.cursor()"
   ]
  },
  {
   "cell_type": "markdown",
   "id": "ef50d464-d993-4a79-8035-25375c1a1473",
   "metadata": {
    "tags": []
   },
   "source": [
    "In the `parsed` table, the pattern is :\n",
    "```sqlite\n",
    "domain TEXT,\n",
    "mode TEXT,\n",
    "scan_depth INTEGER,\n",
    "retrieved_date TIMESTAMP,\n",
    "registrar TEXT,\n",
    "iana_id INTEGER,\n",
    "creation_date TIMESTAMP,\n",
    "expiration_date TIMESTAMP,\n",
    "nameservers TEXT,\n",
    "emails TEXT\n",
    "```"
   ]
  },
  {
   "cell_type": "code",
   "execution_count": 2,
   "id": "attempted-cyprus",
   "metadata": {},
   "outputs": [],
   "source": [
    "cur.execute(\"CREATE TABLE IF NOT EXISTS parsed( \"\n",
    "            \"domain TEXT,\"\n",
    "            \"mode TEXT,\"\n",
    "            \"scan_depth INTEGER,\"\n",
    "            \"retrieved_date TIMESTAMP DEFAULT 0,\"\n",
    "            \"registrar TEXT,\"\n",
    "            \"iana_id INTEGER DEFAULT 0,\"\n",
    "            \"creation_date TIMESTAMP DEFAULT 0,\"\n",
    "            \"expiration_date TIMESTAMP DEFAULT 0,\"\n",
    "            \"nameservers TEXT,\"\n",
    "            \"emails TEXT)\")\n",
    "db.commit()"
   ]
  },
  {
   "cell_type": "code",
   "execution_count": 3,
   "id": "spare-russian",
   "metadata": {},
   "outputs": [],
   "source": [
    "import csv\n",
    "\n",
    "with open(\"../data/artefacts/data.csv\") as f:\n",
    "    entries = csv.DictReader(f)\n",
    "    cur.executemany(\"INSERT INTO parsed VALUES(?, ?, ?, ?, ?, ?, ?, ?, ?, ?)\", \n",
    "                   ((e['domain'], e['mode'], e['scan_depth'], e['retrieved_date'], \n",
    "                     e['registrar'], e['iana_id'], e['creation_date'], e['expiration_date'],\n",
    "                    e['nameservers'], e['emails'])\n",
    "                     for e in entries))\n",
    "\n",
    "cur.execute(\"CREATE INDEX IF NOT EXISTS parsed_domain ON parsed (domain)\")\n",
    "\n",
    "db.commit()"
   ]
  },
  {
   "cell_type": "code",
   "execution_count": 4,
   "id": "abe15d76-8374-4868-8667-89e5b0c3414a",
   "metadata": {},
   "outputs": [
    {
     "data": {
      "text/plain": [
       "[('taplogiq.com',\n",
       "  'whois',\n",
       "  0,\n",
       "  '2022-12-06 09:53:51',\n",
       "  'GoDaddy.com, LLC',\n",
       "  146,\n",
       "  '2018-04-02 18:32:23+00:00',\n",
       "  '2024-04-02 18:32:23+00:00',\n",
       "  'ns1.squadhelp.com,ns2.squadhelp.com',\n",
       "  'abuse@godaddy.com')]"
      ]
     },
     "execution_count": 4,
     "metadata": {},
     "output_type": "execute_result"
    }
   ],
   "source": [
    "cur.execute(\"SELECT * FROM parsed LIMIT 1\")\n",
    "cur.fetchall()"
   ]
  },
  {
   "cell_type": "code",
   "execution_count": 9,
   "id": "unique-manitoba",
   "metadata": {},
   "outputs": [
    {
     "name": "stdout",
     "output_type": "stream",
     "text": [
      "The database contains (156086748,) entries, over (55014675,) unique domains\n"
     ]
    }
   ],
   "source": [
    "cur.execute(\"SELECT COUNT(*) FROM parsed\")\n",
    "total_entries = cur.fetchall()[0]\n",
    "\n",
    "cur.execute(\"SELECT COUNT(DISTINCT(domain)) FROM parsed\")\n",
    "total_domains = cur.fetchall()[0]\n",
    "\n",
    "print(f\"The database contains {total_entries} entries, over {total_domains} unique domains\")"
   ]
  },
  {
   "cell_type": "markdown",
   "id": "3910e695-551a-4767-bf2d-072ff26e7e2e",
   "metadata": {
    "jp-MarkdownHeadingCollapsed": true,
    "tags": []
   },
   "source": [
    "# Building the missmatch tables\n",
    "\n",
    "We built one missmatch table per field. \n",
    "\n",
    "Each table has the following format :\n",
    "```sqlite\n",
    "domain TEXT,\n",
    "left_id INTEGER,\n",
    "right_id INTEGER,\n",
    "left_val <Type>,\n",
    "right_val <Type>\n",
    "```\n",
    "Where `<Type>` is:\n",
    "- `TEXT` for table `missmatch_registrar`, `missmatch_email`, `missmatch_nameservers`\n",
    "- `TIMESTAMP` for table `missmatch_update_date`, `missmatch_expiration_date`, `missmatch_registration_date`\n",
    "- `INTEGER` for table `missmatch_iana_id`\n",
    "\n",
    "Where `left_id` and `right_id` are the `rowid` of the entry in the `parsed` table "
   ]
  },
  {
   "cell_type": "code",
   "execution_count": 5,
   "id": "72a620c0-331f-4f9e-8d30-9a9fa3f7f546",
   "metadata": {},
   "outputs": [
    {
     "data": {
      "text/plain": [
       "<sqlite3.Cursor at 0x7f4843ed3650>"
      ]
     },
     "execution_count": 5,
     "metadata": {},
     "output_type": "execute_result"
    }
   ],
   "source": [
    "missmatch_db_path = \"../data/artefacts/missmatches.db\"\n",
    "cur.execute(f\"ATTACH DATABASE '{missmatch_db_path}' AS missmatch\")"
   ]
  },
  {
   "cell_type": "code",
   "execution_count": 6,
   "id": "3877f8b1-24d4-4048-a7ce-e321ed698363",
   "metadata": {},
   "outputs": [],
   "source": [
    "cur.execute(\"CREATE TABLE IF NOT EXISTS missmatch.registrar(\"\n",
    "            \"domain TEXT,\"\n",
    "            \"left_id INTEGER,\"\n",
    "            \"right_id INTEGER,\"\n",
    "            \"left_val TEXT,\"\n",
    "            \"right_val TEXT)\")\n",
    "cur.execute(\"CREATE TABLE IF NOT EXISTS missmatch.emails(\"\n",
    "            \"domain TEXT,\"\n",
    "            \"left_id INTEGER,\"\n",
    "            \"right_id INTEGER,\"\n",
    "            \"left_val TEXT,\"\n",
    "            \"right_val TEXT)\")\n",
    "cur.execute(\"CREATE TABLE IF NOT EXISTS missmatch.nameservers(\"\n",
    "            \"domain TEXT,\"\n",
    "            \"left_id INTEGER,\"\n",
    "            \"right_id INTEGER,\"\n",
    "            \"left_val TEXT,\"\n",
    "            \"right_val TEXT)\")\n",
    "cur.execute(\"CREATE TABLE IF NOT EXISTS missmatch.iana_id(\"\n",
    "            \"domain TEXT,\"\n",
    "            \"left_id INTEGER,\"\n",
    "            \"right_id INTEGER,\"\n",
    "            \"left_val INTEGER,\"\n",
    "            \"right_val INTEGER)\")\n",
    "cur.execute(\"CREATE TABLE IF NOT EXISTS missmatch.creation_date(\"\n",
    "            \"domain TEXT,\"\n",
    "            \"left_id INTEGER,\"\n",
    "            \"right_id INTEGER,\"\n",
    "            \"left_val TIMESTAMP,\"\n",
    "            \"right_val TIMESTAMP)\")\n",
    "cur.execute(\"CREATE TABLE IF NOT EXISTS missmatch.expiration_date(\"\n",
    "            \"domain TEXT,\"\n",
    "            \"left_id INTEGER,\"\n",
    "            \"right_id INTEGER,\"\n",
    "            \"left_val TIMESTAMP,\"\n",
    "            \"right_val TIMESTAMP)\")\n",
    "db.commit()"
   ]
  },
  {
   "cell_type": "markdown",
   "id": "06b0a7cd-3704-4a09-b58e-4612fc3f31b7",
   "metadata": {},
   "source": [
    "## Computing the different Missmatches"
   ]
  },
  {
   "cell_type": "markdown",
   "id": "c02d2da9-dde5-47b6-9fc3-93f37b36d397",
   "metadata": {},
   "source": [
    "### Registrar"
   ]
  },
  {
   "cell_type": "code",
   "execution_count": 7,
   "id": "531b7379-1762-4c38-b973-d7eed8dd52e9",
   "metadata": {},
   "outputs": [
    {
     "name": "stdout",
     "output_type": "stream",
     "text": [
      "2024-01-25 16:13:22.316987\n",
      "0:15:25.684484\n"
     ]
    }
   ],
   "source": [
    "import datetime\n",
    "\n",
    "start = datetime.datetime.now()\n",
    "print(start)\n",
    "cur.execute(\"INSERT INTO missmatch.registrar \"\n",
    "            \"SELECT a.domain, a.rowid, b.rowid, a.registrar, b.registrar \"\n",
    "            \"FROM parsed AS a JOIN parsed AS b \"\n",
    "            \"ON (a.domain = b.domain) \"\n",
    "            \"WHERE (a.rowid < b.rowid) AND (a.registrar != b.registrar)\")\n",
    "db.commit()\n",
    "print(datetime.datetime.now() - start)"
   ]
  },
  {
   "cell_type": "markdown",
   "id": "673d2e3c-7ffe-4dc3-b44a-eaf910335da7",
   "metadata": {},
   "source": [
    "### Nameservers"
   ]
  },
  {
   "cell_type": "code",
   "execution_count": 5,
   "id": "32b9a5f7-917e-4b27-8970-e1be91178129",
   "metadata": {},
   "outputs": [
    {
     "name": "stdout",
     "output_type": "stream",
     "text": [
      "2024-01-25 11:12:56.369923\n",
      "0:00:54.678084\n"
     ]
    }
   ],
   "source": [
    "import datetime\n",
    "\n",
    "start = datetime.datetime.utcnow()\n",
    "print(start)\n",
    "cur.execute(\"INSERT INTO missmatch.nameservers \"\n",
    "            \"SELECT a.domain, a.rowid, b.rowid, a.nameservers, b.nameservers \"\n",
    "            \"FROM parsed AS a JOIN parsed AS b \"\n",
    "            \"ON (a.domain = b.domain) \"\n",
    "            \"WHERE (a.rowid < b.rowid) AND \"\n",
    "            \"(a.nameservers != '') AND \"\n",
    "            \"(b.nameservers != '') AND \"\n",
    "            \"(a.nameservers != b.nameservers)\")\n",
    "db.commit()\n",
    "print(datetime.datetime.utcnow() - start)"
   ]
  },
  {
   "cell_type": "markdown",
   "id": "ea588370-5264-44c7-8e5c-9fe7f2e3afea",
   "metadata": {},
   "source": [
    "### Emails"
   ]
  },
  {
   "cell_type": "code",
   "execution_count": 6,
   "id": "d410bd0d-23df-4557-bc54-628418a5bc5f",
   "metadata": {},
   "outputs": [
    {
     "name": "stdout",
     "output_type": "stream",
     "text": [
      "2024-01-25 11:13:51.054217\n",
      "0:00:51.249785\n"
     ]
    }
   ],
   "source": [
    "import datetime\n",
    "\n",
    "start = datetime.datetime.utcnow()\n",
    "print(start)\n",
    "cur.execute(\"INSERT INTO missmatch.emails \"\n",
    "            \"SELECT a.domain, a.rowid, b.rowid, a.emails, b.emails \"\n",
    "            \"FROM parsed AS a JOIN parsed AS b \"\n",
    "            \"ON (a.domain = b.domain) \"\n",
    "            \"WHERE (a.rowid < b.rowid) AND \"\n",
    "            \"(a.emails != '') AND \"\n",
    "            \"(b.emails != '') AND \"\n",
    "            \"(a.emails != b.emails)\")\n",
    "db.commit()\n",
    "print(datetime.datetime.utcnow() - start)"
   ]
  },
  {
   "cell_type": "markdown",
   "id": "7d6f1fc7-56a4-4ae4-8c16-05ab16c36e3d",
   "metadata": {},
   "source": [
    "### Creation date"
   ]
  },
  {
   "cell_type": "code",
   "execution_count": 7,
   "id": "6b42c716-7a0f-4b08-a673-86694ff76276",
   "metadata": {},
   "outputs": [
    {
     "name": "stdout",
     "output_type": "stream",
     "text": [
      "2024-01-25 12:14:42.309811\n",
      "0:00:55.791811\n"
     ]
    }
   ],
   "source": [
    "import datetime\n",
    "\n",
    "start = datetime.datetime.now()\n",
    "print(start)\n",
    "cur.execute(\"INSERT INTO missmatch.creation_date \"\n",
    "            \"SELECT a.domain, a.rowid, b.rowid, a.creation_date, b.creation_date \"\n",
    "            \"FROM parsed AS a JOIN parsed AS b \"\n",
    "            \"ON (a.domain = b.domain) \"\n",
    "            \"WHERE (a.rowid < b.rowid) AND \"\n",
    "            \"(a.creation_date != '') AND \"\n",
    "            \"(b.creation_date != '') AND \"\n",
    "            \"(a.creation_date != b.creation_date)\")\n",
    "db.commit()\n",
    "print(datetime.datetime.now() - start)"
   ]
  },
  {
   "cell_type": "markdown",
   "id": "edf7cf7b-25ae-4e15-9a5b-2efac11838c8",
   "metadata": {},
   "source": [
    "### Expiration date"
   ]
  },
  {
   "cell_type": "code",
   "execution_count": 8,
   "id": "419a4fe3-9349-4ae5-874f-776f99cc590d",
   "metadata": {},
   "outputs": [
    {
     "name": "stdout",
     "output_type": "stream",
     "text": [
      "2024-01-25 12:15:38.107503\n",
      "0:00:55.815163\n"
     ]
    }
   ],
   "source": [
    "import datetime\n",
    "\n",
    "start = datetime.datetime.now()\n",
    "print(start)\n",
    "cur.execute(\"INSERT INTO missmatch.expiration_date \"\n",
    "            \"SELECT a.domain, a.rowid, b.rowid, a.expiration_date, b.expiration_date \"\n",
    "            \"FROM parsed AS a JOIN parsed AS b \"\n",
    "            \"ON (a.domain = b.domain) \"\n",
    "            \"WHERE (a.rowid < b.rowid) AND \"\n",
    "            \"(a.expiration_date != '') AND \"\n",
    "            \"(b.expiration_date != '') AND \"\n",
    "            \"(a.expiration_date != b.expiration_date)\")\n",
    "db.commit()\n",
    "print(datetime.datetime.now() - start)"
   ]
  },
  {
   "cell_type": "markdown",
   "id": "203f2d14-ce30-4edf-b08d-46f61a9282f1",
   "metadata": {
    "tags": []
   },
   "source": [
    "### IANA IDs"
   ]
  },
  {
   "cell_type": "code",
   "execution_count": 9,
   "id": "cbab8cd2-59fa-491e-9d72-f0ca76c4a3b0",
   "metadata": {},
   "outputs": [
    {
     "name": "stdout",
     "output_type": "stream",
     "text": [
      "2024-01-25 11:16:33.928832\n",
      "0:00:50.969221\n"
     ]
    }
   ],
   "source": [
    "import datetime\n",
    "\n",
    "start = datetime.datetime.utcnow()\n",
    "print(start)\n",
    "cur.execute(\"INSERT INTO missmatch.iana_id \"\n",
    "            \"SELECT a.domain, a.rowid, b.rowid, a.iana_id, b.iana_id \"\n",
    "            \"FROM parsed AS a JOIN parsed AS b \"\n",
    "            \"ON (a.domain = b.domain) \"\n",
    "            \"WHERE (a.rowid < b.rowid) AND (a.iana_id != b.iana_id)\")\n",
    "db.commit()\n",
    "print(datetime.datetime.utcnow() - start)"
   ]
  },
  {
   "cell_type": "markdown",
   "id": "25b03345-9fed-464e-bd9b-7b8c512a82ea",
   "metadata": {},
   "source": [
    "# Cleaning the different tables"
   ]
  },
  {
   "cell_type": "markdown",
   "id": "e773a12d-3028-4233-85d5-07ce931a5225",
   "metadata": {
    "tags": []
   },
   "source": [
    "## Different names for each registrar\n",
    "\n",
    "The \"Registrar\" field of WHOIS and RDAP is not formated, and some registrars have different names used to fill those fields. For example, NameCheap can be found as:\n",
    "- `NameCheap Ltd`\n",
    "- `NameCheap Ltd.`\n",
    "- `Name Cheap LTD`\n",
    "- `NameCheap.com`\n",
    "\n",
    "We built a database to match those multiple names to the Cannonical name used in IANA list of registrars with their IANA ID\n",
    "\n",
    "The database has the following fields:\n",
    "```sqlite\n",
    "name TEXT,\n",
    "cname TEXT,\n",
    "iana_id INTEGER,\n",
    "icann_acc INTEGER,\n",
    "comment TEXT,\n",
    "recid TEXT,\n",
    "```\n",
    "\n",
    "- `name`: the value in the Registrar field\n",
    "- `cname`: the cannonical name of the registrar\n",
    "- `iana_id`: the IANA ID of the registrar (positives for official ids, negative for non-official ids that are still wide spread)\n",
    "- `icann_acc`: if the ID is accredited\n",
    "- `comment`: additionnal comment\n",
    "- `recid`: MD5 hash of `name`, for fast lookups"
   ]
  },
  {
   "cell_type": "code",
   "execution_count": 10,
   "id": "e9c003a9-7cd4-4223-b3ae-9cb5fd7630b3",
   "metadata": {},
   "outputs": [],
   "source": [
    "import csv\n",
    "\n",
    "cur.execute(\"CREATE TABLE IF NOT EXISTS registrars(\"\n",
    "            \"name TEXT,\"\n",
    "            \"cname TEXT,\"\n",
    "            \"iana_id INTEGER,\"\n",
    "            \"icann_acc INTEGER,\"\n",
    "            \"comment TEXT,\"\n",
    "            \"recid TEXT)\")\n",
    "\n",
    "cur.execute(\"CREATE INDEX IF NOT EXISTS registrars_name ON registrars (name)\")\n",
    "\n",
    "\n",
    "with open(\"../data/artefacts/registrars.csv\") as f:\n",
    "    entries = csv.DictReader(f)\n",
    "    cur.executemany(\"INSERT INTO registrars VALUES(?, ?, ?, ?, ?, ?)\", \n",
    "                   ((e['name'], e['cname'], e['iana_id'], e['icann_acc'], e['comment'], e['recid'])\n",
    "                     for e in entries))\n",
    "db.commit()"
   ]
  },
  {
   "cell_type": "code",
   "execution_count": 11,
   "id": "familiar-disability",
   "metadata": {},
   "outputs": [
    {
     "data": {
      "text/plain": [
       "[('! #1 Host Australia, LLC',\n",
       "  '! #1 Host Australia, LLC',\n",
       "  967,\n",
       "  1,\n",
       "  'ICANN accredited',\n",
       "  '708b9e9c851e4d76d44581bcb3476664')]"
      ]
     },
     "execution_count": 11,
     "metadata": {},
     "output_type": "execute_result"
    }
   ],
   "source": [
    "cur.execute(\"SELECT * FROM registrars LIMIT 1\")\n",
    "cur.fetchall()"
   ]
  },
  {
   "cell_type": "markdown",
   "id": "9ce3c60e-11ee-4fc2-a44e-14dfb8eff390",
   "metadata": {},
   "source": [
    "Updating the `missmatch_regstrar` table to use cannonical names"
   ]
  },
  {
   "cell_type": "code",
   "execution_count": 12,
   "id": "d4146a73-1fd8-4716-8e8f-447df92603eb",
   "metadata": {},
   "outputs": [],
   "source": [
    "cur.execute(\"ALTER TABLE missmatch.registrar ADD COLUMN left_cname TEXT\")\n",
    "cur.execute(\"ALTER TABLE missmatch.registrar ADD COLUMN right_cname TEXT\")\n",
    "db.commit()"
   ]
  },
  {
   "cell_type": "code",
   "execution_count": 14,
   "id": "bbf1ba37-b31c-4cda-9c42-bf758d67ee37",
   "metadata": {},
   "outputs": [],
   "source": [
    "cur.execute(\"UPDATE missmatch.registrar SET \"\n",
    "            \"left_cname = (SELECT registrars.cname FROM registrars WHERE missmatch.registrar.left_val = registrars.name), \"\n",
    "            \"right_cname = (SELECT registrars.cname FROM registrars WHERE missmatch.registrar.right_val = registrars.name) \"\n",
    "            \"WHERE left_cname IS NULL OR right_cname IS NULL\")\n",
    "db.commit()"
   ]
  },
  {
   "cell_type": "code",
   "execution_count": 15,
   "id": "rolled-titanium",
   "metadata": {},
   "outputs": [
    {
     "data": {
      "text/plain": [
       "[('seanbeckmedia.com',\n",
       "  7,\n",
       "  146,\n",
       "  'NameCheap, Inc.',\n",
       "  'NAMECHEAP INC',\n",
       "  'NameCheap, Inc.',\n",
       "  'NameCheap, Inc.')]"
      ]
     },
     "execution_count": 15,
     "metadata": {},
     "output_type": "execute_result"
    }
   ],
   "source": [
    "cur.execute(\"SELECT * FROM missmatch.registrar LIMIT 1\")\n",
    "cur.fetchall()"
   ]
  },
  {
   "cell_type": "markdown",
   "id": "31aa7284-63b5-47ff-8fe2-8e0187c3e1a0",
   "metadata": {
    "jp-MarkdownHeadingCollapsed": true,
    "tags": []
   },
   "source": [
    "## Nameserver missmatches for DNS check\n",
    "\n",
    "First, lets clean false positives\n",
    "\n",
    "- Parse the nameservers\n",
    "- Split on ' ' because some have the format `ns1.example.com [OK]` or `ns1.example.com (127.0.0.1)`\n",
    "- Remove trailing dots\n",
    "- Put everything to lowercase\n",
    "- Sort the list, to simplify comparison\n",
    "- Remove duplicates\n",
    "- Recompare the entries. Remove false-positives, update missmatches\n"
   ]
  },
  {
   "cell_type": "code",
   "execution_count": 17,
   "id": "0fd2e2c5-26cd-45cf-9ed5-5aff14583e33",
   "metadata": {},
   "outputs": [
    {
     "name": "stdout",
     "output_type": "stream",
     "text": [
      "990251\n",
      "1980254\n",
      "2970830\n",
      "3961423\n",
      "4950947\n",
      "5941417\n",
      "6932003\n",
      "7210949\n",
      "DONE ! 7210949 to delete, 71821 to update\n"
     ]
    }
   ],
   "source": [
    "\n",
    "cur.execute(\"SELECT rowid, * FROM missmatch.nameservers\")\n",
    "\n",
    "false_positives = []\n",
    "true_positives = []\n",
    "while True:\n",
    "    entries = cur.fetchmany(1_000_000)\n",
    "    if not entries:\n",
    "        break\n",
    "        \n",
    "    for (rowid, domain, id1, id2, ns1, ns2) in entries:\n",
    "        ns1_formated = list(set(d.split(' ')[0].strip('.').lower() for d in ns1.split(',')))\n",
    "        ns2_formated = list(set(d.split(' ')[0].strip('.').lower() for d in ns2.split(',')))\n",
    "\n",
    "        ns1_formated.sort()\n",
    "        ns2_formated.sort()\n",
    "\n",
    "        if ns1_formated == ns2_formated:\n",
    "            false_positives.append(rowid)\n",
    "        else :\n",
    "            true_positives.append((rowid, ns1_formated, ns2_formated))\n",
    "            \n",
    "    print(len(false_positives))\n",
    "\n",
    "print(f\"DONE ! {len(false_positives)} to delete, {len(true_positives)} to update\")"
   ]
  },
  {
   "cell_type": "code",
   "execution_count": 18,
   "id": "4c1e5f49-2111-4820-b82b-f0bef1c46ce7",
   "metadata": {},
   "outputs": [],
   "source": [
    "cur.executemany(\"DELETE FROM missmatch.nameservers WHERE rowid=?\", ((rid,) for rid in false_positives) )\n",
    "db.commit()"
   ]
  },
  {
   "cell_type": "code",
   "execution_count": 19,
   "id": "856ea239-a7e0-43ec-8f5d-e89f8a70dbde",
   "metadata": {},
   "outputs": [],
   "source": [
    "cur.executemany(\"UPDATE missmatch.nameservers \"\n",
    "                    \"SET left_val=?, right_val=? \"\n",
    "                    \"WHERE rowid=?\", \n",
    "                   ((\",\".join(ns1), \",\".join(ns2), rowid) for (rowid, ns1, ns2) in true_positives))\n",
    "db.commit()"
   ]
  },
  {
   "cell_type": "markdown",
   "id": "62fe0199-7d7f-45c2-b701-e6888078407f",
   "metadata": {
    "jp-MarkdownHeadingCollapsed": true,
    "tags": []
   },
   "source": [
    "## Mails\n",
    "\n",
    "Same as for Nameservers"
   ]
  },
  {
   "cell_type": "code",
   "execution_count": 20,
   "id": "abc0d24e-497d-4690-b580-fe5f5be1b00b",
   "metadata": {},
   "outputs": [
    {
     "name": "stdout",
     "output_type": "stream",
     "text": [
      "15796\n",
      "31765\n",
      "49051\n",
      "61151\n",
      "DONE ! 61151 to delete, 3824332 to update\n"
     ]
    }
   ],
   "source": [
    "cur.execute(\"SELECT rowid, * FROM missmatch.emails\")\n",
    "\n",
    "false_positives = []\n",
    "true_positives = []\n",
    "while True:\n",
    "    entries = cur.fetchmany(1_000_000)\n",
    "    if not entries:\n",
    "        break\n",
    "        \n",
    "    for (rowid, domain, id1, id2, m1, m2) in entries:\n",
    "        m1_formated = list(set(d.split(' ')[0].strip('.').lower() for d in m1.split(',')))\n",
    "        m2_formated = list(set(d.split(' ')[0].strip('.').lower() for d in m2.split(',')))\n",
    "\n",
    "        m1_formated.sort()\n",
    "        m2_formated.sort()\n",
    "\n",
    "        if m1_formated == m2_formated:\n",
    "            false_positives.append(rowid)\n",
    "        else :\n",
    "            true_positives.append((rowid, m1_formated, m2_formated))\n",
    "            \n",
    "    print(len(false_positives))\n",
    "\n",
    "print(f\"DONE ! {len(false_positives)} to delete, {len(true_positives)} to update\")"
   ]
  },
  {
   "cell_type": "code",
   "execution_count": 21,
   "id": "fc1046e3-27df-4786-a88c-7d180ef72abc",
   "metadata": {},
   "outputs": [],
   "source": [
    "cur.executemany(\"DELETE FROM missmatch.emails WHERE rowid=?\", ((rid,) for rid in false_positives) )\n",
    "db.commit()"
   ]
  },
  {
   "cell_type": "code",
   "execution_count": 22,
   "id": "e6982d21-87e6-4bce-83cc-141c9d28af9e",
   "metadata": {},
   "outputs": [],
   "source": [
    "cur.executemany(\"UPDATE missmatch.emails \"\n",
    "                    \"SET left_val=?, right_val=? \"\n",
    "                    \"WHERE rowid=?\", \n",
    "                   ((\",\".join(m1), \",\".join(m2), rowid) for (rowid, m1, m2) in true_positives))\n",
    "db.commit()"
   ]
  },
  {
   "cell_type": "markdown",
   "id": "209bd760-23bd-4686-b10e-bb70a6601f2d",
   "metadata": {},
   "source": [
    "## Date missmatches - Round to date\n",
    "\n",
    "Some entities do not write the time in their dates, so we strip all timestamps to the date, to have a way to compare them"
   ]
  },
  {
   "cell_type": "code",
   "execution_count": 23,
   "id": "07d64168-1001-463f-a61c-cb142f0652c7",
   "metadata": {},
   "outputs": [
    {
     "name": "stdout",
     "output_type": "stream",
     "text": [
      "Updating creation_date table\n",
      "Deleting entries that are no longer missmatches\n"
     ]
    }
   ],
   "source": [
    "print(\"Updating creation_date table\")\n",
    "cur.execute(\"UPDATE missmatch.creation_date \"\n",
    "                \"SET left_val = date(left_val), \"\n",
    "                \"right_val = date(right_val) \")\n",
    "\n",
    "print(\"Deleting entries that are no longer missmatches\")\n",
    "cur.execute(\"DELETE FROM missmatch.creation_date WHERE left_val = right_val\")\n",
    "db.commit()"
   ]
  },
  {
   "cell_type": "code",
   "execution_count": 25,
   "id": "9917489b-f359-4e47-9bcd-da22074213ab",
   "metadata": {},
   "outputs": [
    {
     "name": "stdout",
     "output_type": "stream",
     "text": [
      "Updating expiration_date table\n",
      "Deleting entries that are no longer missmatches\n"
     ]
    }
   ],
   "source": [
    "print(\"Updating expiration_date table\")\n",
    "cur.execute(\"UPDATE missmatch.expiration_date \"\n",
    "                \"SET left_val = date(left_val), \"\n",
    "                \"right_val = date(right_val) \")\n",
    "\n",
    "print(\"Deleting entries that are no longer missmatches\")\n",
    "cur.execute(\"DELETE FROM missmatch.expiration_date WHERE left_val = right_val\")\n",
    "db.commit()"
   ]
  },
  {
   "cell_type": "code",
   "execution_count": 28,
   "id": "65d6a533-98b7-4920-b91c-916657c9e1c8",
   "metadata": {},
   "outputs": [
    {
     "name": "stdout",
     "output_type": "stream",
     "text": [
      "Deleting dates before or equal to Epoch\n"
     ]
    }
   ],
   "source": [
    "print(\"Deleting dates before or equal to Epoch\")\n",
    "cur.execute(\"DELETE FROM missmatch.creation_date WHERE left_val <= DATE('1970-01-01') OR right_val <= DATE('1970-01-01')\")\n",
    "cur.execute(\"DELETE FROM missmatch.expiration_date WHERE left_val <= DATE('1970-01-01') OR right_val <= DATE('1970-01-01')\")\n",
    "db.commit()"
   ]
  },
  {
   "cell_type": "markdown",
   "id": "b4513925-b7ac-42dc-a22f-08c7e60ab1c5",
   "metadata": {},
   "source": [
    "# Analysis\n",
    "## IANA ID missmatches"
   ]
  },
  {
   "cell_type": "code",
   "execution_count": null,
   "id": "5dd02153-9893-434d-8638-7d8c1c51a12c",
   "metadata": {},
   "outputs": [],
   "source": [
    "cur.execute(\"SELECT MIN(left_val, right_val), MAX(left_val, right_val), COUNT(DISTINCT(domain)) \"\n",
    "            \"FROM missmatch_integer \"\n",
    "            \"GROUP BY MIN(left_val, right_val), MAX(left_val, right_val) \"\n",
    "            \"ORDER BY COUNT(DISTINCT(domain)) DESC\")\n",
    "invalid_ids = cur.fetchall()"
   ]
  },
  {
   "cell_type": "code",
   "execution_count": 13,
   "id": "d7daef2c-c7b0-4115-b353-d170b54c3e81",
   "metadata": {},
   "outputs": [
    {
     "data": {
      "text/html": [
       "<div>\n",
       "<style scoped>\n",
       "    .dataframe tbody tr th:only-of-type {\n",
       "        vertical-align: middle;\n",
       "    }\n",
       "\n",
       "    .dataframe tbody tr th {\n",
       "        vertical-align: top;\n",
       "    }\n",
       "\n",
       "    .dataframe thead th {\n",
       "        text-align: right;\n",
       "    }\n",
       "</style>\n",
       "<table border=\"1\" class=\"dataframe\">\n",
       "  <thead>\n",
       "    <tr style=\"text-align: right;\">\n",
       "      <th></th>\n",
       "      <th>id1</th>\n",
       "      <th>id2</th>\n",
       "      <th>count</th>\n",
       "    </tr>\n",
       "  </thead>\n",
       "  <tbody>\n",
       "    <tr>\n",
       "      <th>0</th>\n",
       "      <td>1556</td>\n",
       "      <td>1915</td>\n",
       "      <td>96944</td>\n",
       "    </tr>\n",
       "    <tr>\n",
       "      <th>1</th>\n",
       "      <td>3951</td>\n",
       "      <td>5555555</td>\n",
       "      <td>3709</td>\n",
       "    </tr>\n",
       "    <tr>\n",
       "      <th>2</th>\n",
       "      <td>1556</td>\n",
       "      <td>3824</td>\n",
       "      <td>3067</td>\n",
       "    </tr>\n",
       "    <tr>\n",
       "      <th>3</th>\n",
       "      <td>600</td>\n",
       "      <td>735</td>\n",
       "      <td>405</td>\n",
       "    </tr>\n",
       "    <tr>\n",
       "      <th>4</th>\n",
       "      <td>1564</td>\n",
       "      <td>2487</td>\n",
       "      <td>235</td>\n",
       "    </tr>\n",
       "    <tr>\n",
       "      <th>...</th>\n",
       "      <td>...</td>\n",
       "      <td>...</td>\n",
       "      <td>...</td>\n",
       "    </tr>\n",
       "    <tr>\n",
       "      <th>294</th>\n",
       "      <td>1923</td>\n",
       "      <td>3432</td>\n",
       "      <td>1</td>\n",
       "    </tr>\n",
       "    <tr>\n",
       "      <th>295</th>\n",
       "      <td>2116</td>\n",
       "      <td>3775</td>\n",
       "      <td>1</td>\n",
       "    </tr>\n",
       "    <tr>\n",
       "      <th>296</th>\n",
       "      <td>3768</td>\n",
       "      <td>30149320</td>\n",
       "      <td>1</td>\n",
       "    </tr>\n",
       "    <tr>\n",
       "      <th>297</th>\n",
       "      <td>3863</td>\n",
       "      <td>3961</td>\n",
       "      <td>1</td>\n",
       "    </tr>\n",
       "    <tr>\n",
       "      <th>298</th>\n",
       "      <td>3863</td>\n",
       "      <td>3966</td>\n",
       "      <td>1</td>\n",
       "    </tr>\n",
       "  </tbody>\n",
       "</table>\n",
       "<p>299 rows × 3 columns</p>\n",
       "</div>"
      ],
      "text/plain": [
       "      id1       id2  count\n",
       "0    1556      1915  96944\n",
       "1    3951   5555555   3709\n",
       "2    1556      3824   3067\n",
       "3     600       735    405\n",
       "4    1564      2487    235\n",
       "..    ...       ...    ...\n",
       "294  1923      3432      1\n",
       "295  2116      3775      1\n",
       "296  3768  30149320      1\n",
       "297  3863      3961      1\n",
       "298  3863      3966      1\n",
       "\n",
       "[299 rows x 3 columns]"
      ]
     },
     "execution_count": 13,
     "metadata": {},
     "output_type": "execute_result"
    }
   ],
   "source": [
    "import pandas as pd\n",
    "\n",
    "invalid_iana = pd.DataFrame(invalid_ids, columns=[\"id1\", \"id2\", \"count\"])\n",
    "invalid_iana"
   ]
  },
  {
   "cell_type": "code",
   "execution_count": 39,
   "id": "32162df2-202e-4235-978f-89fea3dad9b2",
   "metadata": {},
   "outputs": [
    {
     "data": {
      "text/html": [
       "<div>\n",
       "<style scoped>\n",
       "    .dataframe tbody tr th:only-of-type {\n",
       "        vertical-align: middle;\n",
       "    }\n",
       "\n",
       "    .dataframe tbody tr th {\n",
       "        vertical-align: top;\n",
       "    }\n",
       "\n",
       "    .dataframe thead th {\n",
       "        text-align: right;\n",
       "    }\n",
       "</style>\n",
       "<table border=\"1\" class=\"dataframe\">\n",
       "  <thead>\n",
       "    <tr style=\"text-align: right;\">\n",
       "      <th></th>\n",
       "      <th>cname</th>\n",
       "      <th>comment</th>\n",
       "    </tr>\n",
       "    <tr>\n",
       "      <th>id</th>\n",
       "      <th></th>\n",
       "      <th></th>\n",
       "    </tr>\n",
       "  </thead>\n",
       "  <tbody>\n",
       "    <tr>\n",
       "      <th>-28</th>\n",
       "      <td>Open Contact, Ltd</td>\n",
       "      <td>domain.by</td>\n",
       "    </tr>\n",
       "    <tr>\n",
       "      <th>-27</th>\n",
       "      <td>APT</td>\n",
       "      <td>emanager.aptg.com.tw</td>\n",
       "    </tr>\n",
       "    <tr>\n",
       "      <th>-26</th>\n",
       "      <td>Euronic Oy</td>\n",
       "      <td>euronic.fi</td>\n",
       "    </tr>\n",
       "    <tr>\n",
       "      <th>-25</th>\n",
       "      <td>ukfast.net Ltd t/a UKFast.Net Limited</td>\n",
       "      <td>ukfast.net</td>\n",
       "    </tr>\n",
       "    <tr>\n",
       "      <th>-24</th>\n",
       "      <td>Loopia AB</td>\n",
       "      <td>Loopia.com</td>\n",
       "    </tr>\n",
       "    <tr>\n",
       "      <th>...</th>\n",
       "      <td>...</td>\n",
       "      <td>...</td>\n",
       "    </tr>\n",
       "    <tr>\n",
       "      <th>9999</th>\n",
       "      <td>Reserved_by_ICANN_9999</td>\n",
       "      <td>Reserved by ICANN</td>\n",
       "    </tr>\n",
       "    <tr>\n",
       "      <th>10007</th>\n",
       "      <td>Domain The Net Technologies Ltd.</td>\n",
       "      <td>IANA-ID Match</td>\n",
       "    </tr>\n",
       "    <tr>\n",
       "      <th>10009</th>\n",
       "      <td>Reserved_by_ICANN_10009</td>\n",
       "      <td>Reserved by ICANN</td>\n",
       "    </tr>\n",
       "    <tr>\n",
       "      <th>4000001</th>\n",
       "      <td>Reserved_by_ICANN_4000001</td>\n",
       "      <td>Reserved by ICANN</td>\n",
       "    </tr>\n",
       "    <tr>\n",
       "      <th>8888888</th>\n",
       "      <td>Reserved_by_ICANN_8888888</td>\n",
       "      <td>Reserved (DGA, etc)</td>\n",
       "    </tr>\n",
       "  </tbody>\n",
       "</table>\n",
       "<p>2634 rows × 2 columns</p>\n",
       "</div>"
      ],
      "text/plain": [
       "                                          cname               comment\n",
       "id                                                                   \n",
       "-28                           Open Contact, Ltd             domain.by\n",
       "-27                                         APT  emanager.aptg.com.tw\n",
       "-26                                  Euronic Oy            euronic.fi\n",
       "-25       ukfast.net Ltd t/a UKFast.Net Limited            ukfast.net\n",
       "-24                                   Loopia AB            Loopia.com\n",
       "...                                         ...                   ...\n",
       " 9999                    Reserved_by_ICANN_9999     Reserved by ICANN\n",
       " 10007         Domain The Net Technologies Ltd.         IANA-ID Match\n",
       " 10009                  Reserved_by_ICANN_10009     Reserved by ICANN\n",
       " 4000001              Reserved_by_ICANN_4000001     Reserved by ICANN\n",
       " 8888888              Reserved_by_ICANN_8888888   Reserved (DGA, etc)\n",
       "\n",
       "[2634 rows x 2 columns]"
      ]
     },
     "execution_count": 39,
     "metadata": {},
     "output_type": "execute_result"
    }
   ],
   "source": [
    "from collections import defaultdict\n",
    "\n",
    "cur.execute(\"SELECT iana_id, MIN(cname), MIN(comment) FROM registrars GROUP BY iana_id\")\n",
    "\n",
    "iana_ids = pd.DataFrame(cur.fetchall(), columns=[\"id\", \"cname\", \"comment\"])\n",
    "iana_ids.set_index(\"id\", inplace=True)\n",
    "iana_ids.sort_index()"
   ]
  },
  {
   "cell_type": "code",
   "execution_count": 40,
   "id": "f3fcaaef-4f1e-4701-8dbf-6c4a38deffbe",
   "metadata": {},
   "outputs": [
    {
     "data": {
      "text/html": [
       "<div>\n",
       "<style scoped>\n",
       "    .dataframe tbody tr th:only-of-type {\n",
       "        vertical-align: middle;\n",
       "    }\n",
       "\n",
       "    .dataframe tbody tr th {\n",
       "        vertical-align: top;\n",
       "    }\n",
       "\n",
       "    .dataframe thead th {\n",
       "        text-align: right;\n",
       "    }\n",
       "</style>\n",
       "<table border=\"1\" class=\"dataframe\">\n",
       "  <thead>\n",
       "    <tr style=\"text-align: right;\">\n",
       "      <th></th>\n",
       "      <th>id2</th>\n",
       "      <th>id1</th>\n",
       "      <th>count</th>\n",
       "      <th>cname</th>\n",
       "      <th>comment</th>\n",
       "      <th>cname_2</th>\n",
       "      <th>comment_2</th>\n",
       "    </tr>\n",
       "  </thead>\n",
       "  <tbody>\n",
       "    <tr>\n",
       "      <th>0</th>\n",
       "      <td>1915</td>\n",
       "      <td>1556</td>\n",
       "      <td>96944</td>\n",
       "      <td>Chengdu West Dimension Digital Technology Co.,...</td>\n",
       "      <td>IANA-ID Match</td>\n",
       "      <td>West263 International Limited</td>\n",
       "      <td>IANA-ID Match</td>\n",
       "    </tr>\n",
       "    <tr>\n",
       "      <th>1</th>\n",
       "      <td>5555555</td>\n",
       "      <td>3951</td>\n",
       "      <td>3709</td>\n",
       "      <td>Webempresa Europa, S.L.</td>\n",
       "      <td>ICANN accredited</td>\n",
       "      <td>NaN</td>\n",
       "      <td>NaN</td>\n",
       "    </tr>\n",
       "    <tr>\n",
       "      <th>2</th>\n",
       "      <td>3824</td>\n",
       "      <td>1556</td>\n",
       "      <td>3067</td>\n",
       "      <td>Chengdu West Dimension Digital Technology Co.,...</td>\n",
       "      <td>IANA-ID Match</td>\n",
       "      <td>Cloud Yuqu LLC</td>\n",
       "      <td>ICANN accredited</td>\n",
       "    </tr>\n",
       "    <tr>\n",
       "      <th>3</th>\n",
       "      <td>735</td>\n",
       "      <td>600</td>\n",
       "      <td>405</td>\n",
       "      <td>Rebel Ltd</td>\n",
       "      <td>IANA-ID Match</td>\n",
       "      <td>Rebel.ca Corp.</td>\n",
       "      <td>IANA-ID Match</td>\n",
       "    </tr>\n",
       "    <tr>\n",
       "      <th>4</th>\n",
       "      <td>2487</td>\n",
       "      <td>1564</td>\n",
       "      <td>235</td>\n",
       "      <td>TLD Registrar Solutions Ltd.</td>\n",
       "      <td>IANA-ID Match</td>\n",
       "      <td>Internet Domain Service BS Corp</td>\n",
       "      <td>ICANN accredited</td>\n",
       "    </tr>\n",
       "    <tr>\n",
       "      <th>...</th>\n",
       "      <td>...</td>\n",
       "      <td>...</td>\n",
       "      <td>...</td>\n",
       "      <td>...</td>\n",
       "      <td>...</td>\n",
       "      <td>...</td>\n",
       "      <td>...</td>\n",
       "    </tr>\n",
       "    <tr>\n",
       "      <th>294</th>\n",
       "      <td>1728</td>\n",
       "      <td>433</td>\n",
       "      <td>1</td>\n",
       "      <td>OVH sas</td>\n",
       "      <td>IANA-ID Match</td>\n",
       "      <td>IP Twins SAS</td>\n",
       "      <td>IANA-ID Match</td>\n",
       "    </tr>\n",
       "    <tr>\n",
       "      <th>295</th>\n",
       "      <td>1741</td>\n",
       "      <td>303</td>\n",
       "      <td>1</td>\n",
       "      <td>PDR Ltd. d/b/a PublicDomainRegistry.com</td>\n",
       "      <td>IANA-ID Match</td>\n",
       "      <td>Shinjiru Technology Sdn Bhd</td>\n",
       "      <td>IANA-ID Match</td>\n",
       "    </tr>\n",
       "    <tr>\n",
       "      <th>296</th>\n",
       "      <td>1795</td>\n",
       "      <td>1441</td>\n",
       "      <td>1</td>\n",
       "      <td>TurnCommerce, Inc. DBA NameBright.com</td>\n",
       "      <td>ICANN accredited</td>\n",
       "      <td>DropCatch.com 384 LLC</td>\n",
       "      <td>ICANN accredited</td>\n",
       "    </tr>\n",
       "    <tr>\n",
       "      <th>297</th>\n",
       "      <td>1807</td>\n",
       "      <td>1441</td>\n",
       "      <td>1</td>\n",
       "      <td>TurnCommerce, Inc. DBA NameBright.com</td>\n",
       "      <td>ICANN accredited</td>\n",
       "      <td>DropCatch.com 396 LLC</td>\n",
       "      <td>ICANN accredited</td>\n",
       "    </tr>\n",
       "    <tr>\n",
       "      <th>298</th>\n",
       "      <td>1923</td>\n",
       "      <td>1214</td>\n",
       "      <td>1</td>\n",
       "      <td>Heavydomains.net LLC</td>\n",
       "      <td>ICANN accredited</td>\n",
       "      <td>Gname.com Pte. Ltd.</td>\n",
       "      <td>ICANN accredited</td>\n",
       "    </tr>\n",
       "  </tbody>\n",
       "</table>\n",
       "<p>299 rows × 7 columns</p>\n",
       "</div>"
      ],
      "text/plain": [
       "         id2   id1  count                                              cname  \\\n",
       "0       1915  1556  96944  Chengdu West Dimension Digital Technology Co.,...   \n",
       "1    5555555  3951   3709                            Webempresa Europa, S.L.   \n",
       "2       3824  1556   3067  Chengdu West Dimension Digital Technology Co.,...   \n",
       "3        735   600    405                                          Rebel Ltd   \n",
       "4       2487  1564    235                       TLD Registrar Solutions Ltd.   \n",
       "..       ...   ...    ...                                                ...   \n",
       "294     1728   433      1                                            OVH sas   \n",
       "295     1741   303      1            PDR Ltd. d/b/a PublicDomainRegistry.com   \n",
       "296     1795  1441      1              TurnCommerce, Inc. DBA NameBright.com   \n",
       "297     1807  1441      1              TurnCommerce, Inc. DBA NameBright.com   \n",
       "298     1923  1214      1                               Heavydomains.net LLC   \n",
       "\n",
       "              comment                          cname_2         comment_2  \n",
       "0       IANA-ID Match    West263 International Limited     IANA-ID Match  \n",
       "1    ICANN accredited                              NaN               NaN  \n",
       "2       IANA-ID Match                   Cloud Yuqu LLC  ICANN accredited  \n",
       "3       IANA-ID Match                   Rebel.ca Corp.     IANA-ID Match  \n",
       "4       IANA-ID Match  Internet Domain Service BS Corp  ICANN accredited  \n",
       "..                ...                              ...               ...  \n",
       "294     IANA-ID Match                     IP Twins SAS     IANA-ID Match  \n",
       "295     IANA-ID Match      Shinjiru Technology Sdn Bhd     IANA-ID Match  \n",
       "296  ICANN accredited            DropCatch.com 384 LLC  ICANN accredited  \n",
       "297  ICANN accredited            DropCatch.com 396 LLC  ICANN accredited  \n",
       "298  ICANN accredited              Gname.com Pte. Ltd.  ICANN accredited  \n",
       "\n",
       "[299 rows x 7 columns]"
      ]
     },
     "execution_count": 40,
     "metadata": {},
     "output_type": "execute_result"
    }
   ],
   "source": [
    "invalid_iana.set_index(\"id1\").join(iana_ids, rsuffix=\"_1\").reset_index(names=\"id1\").set_index(\"id2\").join(iana_ids, rsuffix=\"_2\").sort_values(\"count\", ascending=False).reset_index(names=\"id2\")"
   ]
  },
  {
   "cell_type": "markdown",
   "id": "a67ac13a-4d13-4b45-997d-a2efd18e313d",
   "metadata": {},
   "source": [
    "Extract the faulty registrars"
   ]
  },
  {
   "cell_type": "code",
   "execution_count": 4,
   "id": "8a8f7832-101f-4f46-9cb4-9cbb1bf28999",
   "metadata": {},
   "outputs": [],
   "source": [
    "cur.execute(\"SELECT iana_id, COUNT(DISTINCT(missmatch.domain)) \"\n",
    "            \"FROM missmatch JOIN parsed ON missmatch.left_id = parsed.rowid \"\n",
    "            \"WHERE field='nameservers' \"\n",
    "            \"GROUP BY iana_id \"\n",
    "            \"ORDER BY COUNT(DISTINCT(missmatch.domain)) DESC \"\n",
    "            \"LIMIT 100\")\n",
    "ns_faulty_ids = cur.fetchall()"
   ]
  },
  {
   "cell_type": "code",
   "execution_count": 10,
   "id": "683a754f-9263-49ea-860a-92de84511d19",
   "metadata": {},
   "outputs": [
    {
     "data": {
      "text/plain": [
       "iana_id    5688178\n",
       "count      7085469\n",
       "dtype: int64"
      ]
     },
     "execution_count": 10,
     "metadata": {},
     "output_type": "execute_result"
    }
   ],
   "source": [
    "import pandas as pd\n",
    "\n",
    "ns_missmatches = pd.DataFrame(ns_faulty_ids, columns=[\"iana_id\", \"count\"])\n",
    "ns_missmatches[ns_missmatches.iana_id != -1].sum()"
   ]
  },
  {
   "cell_type": "code",
   "execution_count": null,
   "id": "e801c799-91b6-48e4-a074-c183ae5a344c",
   "metadata": {},
   "outputs": [],
   "source": [
    "ns_faulty_ids"
   ]
  },
  {
   "cell_type": "code",
   "execution_count": 1,
   "id": "ad614c9c-ea20-4f37-add7-78072ebe95ea",
   "metadata": {},
   "outputs": [
    {
     "name": "stdout",
     "output_type": "stream",
     "text": [
      "/home/jovyan/app/src\n"
     ]
    }
   ],
   "source": [
    "%cd ~/app/src"
   ]
  },
  {
   "cell_type": "code",
   "execution_count": 2,
   "id": "4e3162f7-7398-4f1c-8169-0ee3fa8d9f70",
   "metadata": {},
   "outputs": [],
   "source": [
    "import ns_parser"
   ]
  },
  {
   "cell_type": "code",
   "execution_count": 3,
   "id": "30fd5f61-6052-46a3-86a4-02d7a672b0df",
   "metadata": {},
   "outputs": [
    {
     "name": "stdout",
     "output_type": "stream",
     "text": [
      "/home/jovyan/app\n"
     ]
    }
   ],
   "source": [
    "%cd ~/app/"
   ]
  },
  {
   "cell_type": "code",
   "execution_count": 5,
   "id": "c5220085-ecc9-4b3e-8824-e198c0e983ca",
   "metadata": {},
   "outputs": [],
   "source": []
  },
  {
   "cell_type": "code",
   "execution_count": null,
   "id": "c3032f06-e5de-46ee-b5e6-2e43b2cd039c",
   "metadata": {},
   "outputs": [
    {
     "name": "stdout",
     "output_type": "stream",
     "text": [
      "Spawning the 12 parsing processes\n",
      "Spawning the writing process\n",
      "Sending the file to the parsers...\n"
     ]
    },
    {
     "name": "stderr",
     "output_type": "stream",
     "text": [
      "13601610it [2:56:12, 1481.70it/s]"
     ]
    }
   ],
   "source": [
    "import time\n",
    "\n",
    "ns_parser.parse_whois_rdap_file(\"data/ns_rescan_2/whois.json\", \"data/ns_rescan_2/ns_rescan.db\", nb_readers=12)\n",
    "ns_parser.parse_whois_rdap_file(\"data/ns_rescan_2/rdap.json\", \"data/ns_rescan_2/ns_rescan.db\", nb_readers=12)\n",
    "ns_parser.parse_zdns_file(\"data/ns_rescan_2/zdns.json\", \"data/ns_rescan_2/ns_rescan.db\", nb_readers=12)"
   ]
  },
  {
   "cell_type": "code",
   "execution_count": 17,
   "id": "84d5b70c-d2c6-4b3e-8c86-ac4abe905d1f",
   "metadata": {},
   "outputs": [
    {
     "name": "stdout",
     "output_type": "stream",
     "text": [
      "[('hinescounsel.com', 7, 287, 'ns-unused-9078.fastdomain.com,ns-unused-9079.fastdomain.com', 'ns1.1marketinghost.com,ns2.1marketinghost.com'), ('hospicandelustraznych.cz', 21, 13452727, 'ns.forpsi.cz,ns.forpsi.it,ns.forpsi.net', 'ns.forpsi.cz (81.2.209.185, 2001:15e8:201:1::d1b9),ns.forpsi.it,ns.forpsi.net'), ('zeiner.no', 55, 13452046, 'ns01.no.brand.one.com,ns02.no.brand.one.com', 'nsno2078h-norid,nsno2079h-norid'), ('etx.studio', 82, 415, 'ns-1031.awsdns-00.org,ns-1636.awsdns-12.co.uk,ns-314.awsdns-39.com,ns-846.awsdns-41.net', 'ns-1031.awsdns-00.org,ns-314.awsdns-39.com,ns-846.awsdns-41.net'), ('sangocongnghiepvietnam.com', 108, 13453689, 'ns1.dotvndns.vn,ns2.dotvndns.vn,nsbak.dotvndns.com', 'ns1.dotvndns.vn,ns2.dotvndns.vndnssec:unsigned,nsbak.dotvndns.com')]\n"
     ]
    }
   ],
   "source": [
    "import sqlite3\n",
    "\n",
    "db = sqlite3.connect(\"../data/ns_rescan_2/ns_rescan.db\")\n",
    "cur = db.cursor()\n",
    "\n",
    "cur.execute(\"SELECT * FROM missmatch LIMIT 5\")\n",
    "print(cur.fetchall())"
   ]
  },
  {
   "cell_type": "code",
   "execution_count": 13,
   "id": "cb487cc7-1933-4a6c-afb2-00b77a56faed",
   "metadata": {},
   "outputs": [
    {
     "name": "stdout",
     "output_type": "stream",
     "text": [
      "2345\n",
      "DONE ! 2345 to delete, 642352 to update\n"
     ]
    }
   ],
   "source": [
    "cur.execute(\"SELECT rowid, * FROM missmatch\")\n",
    "\n",
    "false_positives = []\n",
    "true_positives = []\n",
    "while True:\n",
    "    entries = cur.fetchmany(1_000_000)\n",
    "    if not entries:\n",
    "        break\n",
    "        \n",
    "    for (rowid, domain, id1, id2, ns1, ns2) in entries:\n",
    "        ns1_formated = list(set(d.split(' ')[0].strip('.').lower() for d in ns1.split(',')))\n",
    "        ns2_formated = list(set(d.split(' ')[0].strip('.').lower() for d in ns2.split(',')))\n",
    "\n",
    "        ns1_formated.sort()\n",
    "        ns2_formated.sort()\n",
    "\n",
    "        if ns1_formated == ns2_formated:\n",
    "            false_positives.append(rowid)\n",
    "        else :\n",
    "            true_positives.append((rowid, ns1_formated, ns2_formated))\n",
    "            \n",
    "    print(len(false_positives))\n",
    "\n",
    "print(f\"DONE ! {len(false_positives)} to delete, {len(true_positives)} to update\")"
   ]
  },
  {
   "cell_type": "code",
   "execution_count": 18,
   "id": "d593b506-3318-4341-a127-fb88bbf0fecf",
   "metadata": {},
   "outputs": [],
   "source": [
    "cur.executemany(\"DELETE FROM missmatch WHERE rowid=?\", ((rid,) for rid in false_positives) )\n",
    "db.commit()"
   ]
  },
  {
   "cell_type": "code",
   "execution_count": 19,
   "id": "53a9e1d4-a655-41bf-a6aa-df257353fb3c",
   "metadata": {},
   "outputs": [],
   "source": [
    "cur.executemany(\"UPDATE missmatch \"\n",
    "                    \"SET left_ns=?, right_ns=? \"\n",
    "                    \"WHERE rowid=?\", \n",
    "                   ((\",\".join(ns1), \",\".join(ns2), rowid) for (rowid, ns1, ns2) in true_positives))\n",
    "db.commit()"
   ]
  },
  {
   "cell_type": "code",
   "execution_count": null,
   "id": "fb6d80ff-97f1-4dc3-a317-9c0f1197cb3d",
   "metadata": {},
   "outputs": [],
   "source": []
  }
 ],
 "metadata": {
  "kernelspec": {
   "display_name": "Python 3 (ipykernel)",
   "language": "python",
   "name": "python3"
  },
  "language_info": {
   "codemirror_mode": {
    "name": "ipython",
    "version": 3
   },
   "file_extension": ".py",
   "mimetype": "text/x-python",
   "name": "python",
   "nbconvert_exporter": "python",
   "pygments_lexer": "ipython3",
   "version": "3.9.2"
  }
 },
 "nbformat": 4,
 "nbformat_minor": 5
}
