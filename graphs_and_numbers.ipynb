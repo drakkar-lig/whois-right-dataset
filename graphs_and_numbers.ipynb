{
 "cells": [
  {
   "cell_type": "markdown",
   "id": "95ca7e31-bc30-4aca-a387-20b0e777d649",
   "metadata": {},
   "source": [
    "# Content of this Notebook\n",
    "\n",
    "This notebook will contain all the data analysis that will be included in the paper, the numbers, the graphs etc...\n",
    "\n",
    "Its organization will follow the article structure"
   ]
  },
  {
   "cell_type": "code",
   "execution_count": 1,
   "id": "4a810d95-62a7-46c1-b946-c6befb12cc3e",
   "metadata": {},
   "outputs": [
    {
     "data": {
      "text/plain": [
       "<sqlite3.Cursor at 0x7fc1e00bdb40>"
      ]
     },
     "execution_count": 1,
     "metadata": {},
     "output_type": "execute_result"
    }
   ],
   "source": [
    "import sqlite3\n",
    "\n",
    "scan_db_path = \"../data/data.db\"\n",
    "scan_db = sqlite3.connect(scan_db_path, isolation_level=\"EXCLUSIVE\")\n",
    "scan_cur = scan_db.cursor()\n",
    "\n",
    "parsed_db_path = \"../data/parsed.db\"\n",
    "parsed_db = sqlite3.connect(parsed_db_path, isolation_level=\"EXCLUSIVE\")\n",
    "parsed_cur = parsed_db.cursor()\n",
    "\n",
    "missmatch_db_path = \"../data/missmatches.db\"\n",
    "missmatch_db = sqlite3.connect(missmatch_db_path, isolation_level=\"EXCLUSIVE\")\n",
    "missmatch_cur = missmatch_db.cursor()\n",
    "missmatch_cur.execute(f\"ATTACH DATABASE '{scan_db_path}' AS source\")\n"
   ]
  },
  {
   "cell_type": "code",
   "execution_count": 12,
   "id": "5c912b1a-452f-4935-bfdd-3863ef02c19a",
   "metadata": {},
   "outputs": [],
   "source": [
    "total_entries = 156086733\n",
    "total_domains =  55014675"
   ]
  },
  {
   "cell_type": "code",
   "execution_count": 2,
   "id": "4e6525a9-84a0-463d-87f1-26b265ec4313",
   "metadata": {},
   "outputs": [],
   "source": [
    "%load_ext rpy2.ipython"
   ]
  },
  {
   "cell_type": "code",
   "execution_count": 3,
   "id": "c7f50446-4242-4224-8f0a-e82840ff9441",
   "metadata": {},
   "outputs": [
    {
     "name": "stderr",
     "output_type": "stream",
     "text": [
      "R[write to console]: Loading required package: ggplot2\n",
      "\n"
     ]
    },
    {
     "data": {
      "text/html": [
       "\n",
       "        <span>BoolVector with 1 elements.</span>\n",
       "        <table>\n",
       "        <tbody>\n",
       "          <tr>\n",
       "          \n",
       "            <td>\n",
       "                   1\n",
       "            </td>\n",
       "          \n",
       "          </tr>\n",
       "        </tbody>\n",
       "        </table>\n",
       "        "
      ],
      "text/plain": [
       "<rpy2.robjects.vectors.BoolVector object at 0x7f400820a040> [RTYPES.LGLSXP]\n",
       "R classes: ('logical',)\n",
       "[       1]"
      ]
     },
     "execution_count": 3,
     "metadata": {},
     "output_type": "execute_result"
    }
   ],
   "source": [
    "%R require(ggplot2)"
   ]
  },
  {
   "cell_type": "markdown",
   "id": "00deef67-9cb1-4e5b-b5a4-1e07a067c65d",
   "metadata": {},
   "source": [
    "# Introduction"
   ]
  },
  {
   "cell_type": "markdown",
   "id": "96abdb51-c7f5-4a7d-b3ca-7a5dcb608927",
   "metadata": {},
   "source": [
    "# Background"
   ]
  },
  {
   "cell_type": "markdown",
   "id": "d761cb71-507d-4d00-b55a-6d3c66785d74",
   "metadata": {
    "tags": []
   },
   "source": [
    "# WHOIS vs RDAP"
   ]
  },
  {
   "cell_type": "markdown",
   "id": "f6665b78-3f7f-4f7e-b95f-3c9fc131928c",
   "metadata": {
    "tags": []
   },
   "source": [
    "## Methodology"
   ]
  },
  {
   "cell_type": "markdown",
   "id": "5789c2e0-f945-41ce-8679-1190ef39940d",
   "metadata": {
    "jp-MarkdownHeadingCollapsed": true,
    "tags": []
   },
   "source": [
    "## Results"
   ]
  },
  {
   "cell_type": "markdown",
   "id": "725fb227-f8a2-4dfa-8c1b-28c89658aee0",
   "metadata": {
    "jp-MarkdownHeadingCollapsed": true,
    "tags": []
   },
   "source": [
    "## Generic\n",
    "\n",
    "Plot the number of missmatches and domains for each category"
   ]
  },
  {
   "cell_type": "code",
   "execution_count": 108,
   "id": "02e18781-34fb-4d84-ad51-64e5bfbc1b0a",
   "metadata": {},
   "outputs": [
    {
     "name": "stdout",
     "output_type": "stream",
     "text": [
      "Counting registrar errors\n",
      "Counting iana_id errors\n",
      "Counting nameservers errors\n",
      "Counting creation_date errors\n",
      "Counting expiration_date errors\n",
      "Counting emails errors\n"
     ]
    }
   ],
   "source": [
    "counts = {}\n",
    "\n",
    "def count_missmatches(field):\n",
    "    print(f\"Counting {field} errors\")\n",
    "    missmatch_cur.execute(f\"SELECT COUNT(*), COUNT(DISTINCT(domain)) FROM {field}\")\n",
    "    return missmatch_cur.fetchall()[0]\n",
    "\n",
    "counts['registrar'] = count_missmatches('registrar')\n",
    "counts['iana_id'] = count_missmatches('iana_id')\n",
    "counts['nameservers'] = count_missmatches('nameservers')\n",
    "counts['creation_date'] = count_missmatches('creation_date')\n",
    "counts['expiration_date'] = count_missmatches('expiration_date')\n",
    "counts['emails'] = count_missmatches('emails')"
   ]
  },
  {
   "cell_type": "code",
   "execution_count": 110,
   "id": "6a3f50e3-50a9-43a0-9105-e16e4fc25db7",
   "metadata": {},
   "outputs": [
    {
     "name": "stdout",
     "output_type": "stream",
     "text": [
      "Counting the total number of domains\n"
     ]
    }
   ],
   "source": [
    "print(\"Counting the total number of domains\")\n",
    "scan_cur.execute(\"SELECT COUNT(DISTINCT(domain)) FROM parsed\")\n",
    "nb_doms = scan_cur.fetchall()[0][0]"
   ]
  },
  {
   "cell_type": "code",
   "execution_count": 111,
   "id": "9839a160-2d42-462d-be0a-745920ba5447",
   "metadata": {},
   "outputs": [
    {
     "data": {
      "text/plain": [
       "{'registrar': (64129548, 21980976),\n",
       " 'iana_id': (264584, 106813),\n",
       " 'nameservers': (1044268, 573790),\n",
       " 'creation_date': (67056160, 23701591),\n",
       " 'expiration_date': (110740985, 38066346),\n",
       " 'emails': (50148892, 18958821)}"
      ]
     },
     "execution_count": 111,
     "metadata": {},
     "output_type": "execute_result"
    }
   ],
   "source": [
    "import pandas as pd\n",
    "\n",
    "nb_per_field = pd.DataFrame(counts, columns=ns=[\"missmatches\", \"domains\"])\n",
    "100*nb_per_field[\"domains\"]/nb_doms"
   ]
  },
  {
   "cell_type": "code",
   "execution_count": null,
   "id": "1f92a2f6-afa2-44ef-a86b-90c8f1410c20",
   "metadata": {},
   "outputs": [],
   "source": [
    "missmatch_cur.execute(\"SELECT *\""
   ]
  },
  {
   "cell_type": "markdown",
   "id": "c4304d76-e4aa-4334-a6cf-05ea14e0bfb8",
   "metadata": {
    "jp-MarkdownHeadingCollapsed": true,
    "tags": []
   },
   "source": [
    "### Plot the fault rate of each registrar"
   ]
  },
  {
   "cell_type": "code",
   "execution_count": null,
   "id": "0e80885b-9447-4b9a-806e-5439eca11df9",
   "metadata": {},
   "outputs": [],
   "source": [
    "import pandas as pd\n",
    "\n",
    "sample_registrars = pd.read_sql(\n",
    "    \"SELECT iana_id, COUNT(DISTINCT(domain)) \"\n",
    "    \"FROM parsed \"\n",
    "    \"GROUP BY iana_id\", scan_db)\n",
    "sample_registrars"
   ]
  },
  {
   "cell_type": "code",
   "execution_count": null,
   "id": "45c5bf3d-3220-4f7e-a84e-af7f3076c817",
   "metadata": {},
   "outputs": [],
   "source": [
    "creation_iana = pd.read_sql(\n",
    "    \"SELECT r.iana_id, COUNT(DISTINCT(creation_date.domain)) \"\n",
    "    \"FROM creation_date \"\n",
    "    \"JOIN source.parsed AS r ON creation_date.right_id=r.rowid \"\n",
    "    \"GROUP BY r.iana_id\", missmatch_db)\n",
    "creation_iana"
   ]
  },
  {
   "cell_type": "code",
   "execution_count": null,
   "id": "5143e76a-3668-4509-9b13-c6ee413be21f",
   "metadata": {},
   "outputs": [],
   "source": [
    "expiration_iana = pd.read_sql(\n",
    "    \"SELECT r.iana_id, COUNT(DISTINCT(expiration_date.domain)) \"\n",
    "    \"FROM expiration_date \"\n",
    "    \"JOIN source.parsed AS r ON expiration_date.right_id=r.rowid \"\n",
    "    \"GROUP BY r.iana_id\", missmatch_db)\n",
    "expiration_iana"
   ]
  },
  {
   "cell_type": "code",
   "execution_count": 97,
   "id": "4a249385-ea28-49e6-81ca-d7370bbd60e7",
   "metadata": {},
   "outputs": [
    {
     "data": {
      "text/html": [
       "<div>\n",
       "<style scoped>\n",
       "    .dataframe tbody tr th:only-of-type {\n",
       "        vertical-align: middle;\n",
       "    }\n",
       "\n",
       "    .dataframe tbody tr th {\n",
       "        vertical-align: top;\n",
       "    }\n",
       "\n",
       "    .dataframe thead th {\n",
       "        text-align: right;\n",
       "    }\n",
       "</style>\n",
       "<table border=\"1\" class=\"dataframe\">\n",
       "  <thead>\n",
       "    <tr style=\"text-align: right;\">\n",
       "      <th></th>\n",
       "      <th>iana_id</th>\n",
       "      <th>COUNT(DISTINCT(update_date.domain))</th>\n",
       "    </tr>\n",
       "  </thead>\n",
       "  <tbody>\n",
       "    <tr>\n",
       "      <th>0</th>\n",
       "      <td>-1</td>\n",
       "      <td>7955407</td>\n",
       "    </tr>\n",
       "    <tr>\n",
       "      <th>1</th>\n",
       "      <td>0</td>\n",
       "      <td>46</td>\n",
       "    </tr>\n",
       "    <tr>\n",
       "      <th>2</th>\n",
       "      <td>2</td>\n",
       "      <td>103834</td>\n",
       "    </tr>\n",
       "    <tr>\n",
       "      <th>3</th>\n",
       "      <td>9</td>\n",
       "      <td>52785</td>\n",
       "    </tr>\n",
       "    <tr>\n",
       "      <th>4</th>\n",
       "      <td>13</td>\n",
       "      <td>4473</td>\n",
       "    </tr>\n",
       "    <tr>\n",
       "      <th>...</th>\n",
       "      <td>...</td>\n",
       "      <td>...</td>\n",
       "    </tr>\n",
       "    <tr>\n",
       "      <th>2309</th>\n",
       "      <td>30149320</td>\n",
       "      <td>1</td>\n",
       "    </tr>\n",
       "    <tr>\n",
       "      <th>2310</th>\n",
       "      <td>30157399</td>\n",
       "      <td>3</td>\n",
       "    </tr>\n",
       "    <tr>\n",
       "      <th>2311</th>\n",
       "      <td>30696040</td>\n",
       "      <td>3</td>\n",
       "    </tr>\n",
       "    <tr>\n",
       "      <th>2312</th>\n",
       "      <td>30852007</td>\n",
       "      <td>2</td>\n",
       "    </tr>\n",
       "    <tr>\n",
       "      <th>2313</th>\n",
       "      <td>30934604</td>\n",
       "      <td>34</td>\n",
       "    </tr>\n",
       "  </tbody>\n",
       "</table>\n",
       "<p>2314 rows × 2 columns</p>\n",
       "</div>"
      ],
      "text/plain": [
       "       iana_id  COUNT(DISTINCT(update_date.domain))\n",
       "0           -1                              7955407\n",
       "1            0                                   46\n",
       "2            2                               103834\n",
       "3            9                                52785\n",
       "4           13                                 4473\n",
       "...        ...                                  ...\n",
       "2309  30149320                                    1\n",
       "2310  30157399                                    3\n",
       "2311  30696040                                    3\n",
       "2312  30852007                                    2\n",
       "2313  30934604                                   34\n",
       "\n",
       "[2314 rows x 2 columns]"
      ]
     },
     "execution_count": 97,
     "metadata": {},
     "output_type": "execute_result"
    }
   ],
   "source": [
    "update_iana = pd.read_sql(\n",
    "    \"SELECT r.iana_id, COUNT(DISTINCT(update_date.domain)) \"\n",
    "    \"FROM update_date \"\n",
    "    \"JOIN source.parsed AS r ON update_date.right_id=r.rowid \"\n",
    "    \"GROUP BY r.iana_id\", missmatch_db)\n",
    "update_iana"
   ]
  },
  {
   "cell_type": "code",
   "execution_count": null,
   "id": "fa17b720-51d0-43cc-878f-3019c818e735",
   "metadata": {},
   "outputs": [],
   "source": [
    "nameservers_iana = pd.read_sql(\n",
    "    \"SELECT r.iana_id, COUNT(DISTINCT(nameservers.domain)) \"\n",
    "    \"FROM nameservers \"\n",
    "    \"JOIN source.parsed AS r ON nameservers.right_id=r.rowid \"\n",
    "    \"GROUP BY r.iana_id\", missmatch_db)\n",
    "nameservers_iana"
   ]
  },
  {
   "cell_type": "code",
   "execution_count": null,
   "id": "9082a3c2-c982-4832-b345-bf45ce2beafd",
   "metadata": {},
   "outputs": [],
   "source": [
    "emails_iana = pd.read_sql(\n",
    "    \"SELECT r.iana_id, COUNT(DISTINCT(emails.domain)) \"\n",
    "    \"FROM emails \"\n",
    "    \"JOIN source.parsed AS r ON emails.right_id=r.rowid \"\n",
    "    \"GROUP BY r.iana_id\", missmatch_db)\n",
    "nameservers_iana"
   ]
  },
  {
   "cell_type": "code",
   "execution_count": 65,
   "id": "46fce4f0-7ca5-4e3a-a60e-c01cdfe538d5",
   "metadata": {},
   "outputs": [
    {
     "ename": "NameError",
     "evalue": "name 'nameservers' is not defined",
     "output_type": "error",
     "traceback": [
      "\u001b[0;31m---------------------------------------------------------------------------\u001b[0m",
      "\u001b[0;31mNameError\u001b[0m                                 Traceback (most recent call last)",
      "Cell \u001b[0;32mIn [65], line 7\u001b[0m\n\u001b[1;32m      5\u001b[0m expiration_iana\u001b[38;5;241m.\u001b[39mset_index(\u001b[38;5;124m'\u001b[39m\u001b[38;5;124miana_id\u001b[39m\u001b[38;5;124m'\u001b[39m, inplace\u001b[38;5;241m=\u001b[39m\u001b[38;5;28;01mTrue\u001b[39;00m)\n\u001b[1;32m      6\u001b[0m expiration_iana\u001b[38;5;241m.\u001b[39mcolumns \u001b[38;5;241m=\u001b[39m [\u001b[38;5;124m'\u001b[39m\u001b[38;5;124mexpiration_date\u001b[39m\u001b[38;5;124m'\u001b[39m]\n\u001b[0;32m----> 7\u001b[0m nameservers\u001b[38;5;241m.\u001b[39mset_index(\u001b[38;5;124m'\u001b[39m\u001b[38;5;124miana_id\u001b[39m\u001b[38;5;124m'\u001b[39m, inplace\u001b[38;5;241m=\u001b[39m\u001b[38;5;28;01mTrue\u001b[39;00m)\n\u001b[1;32m      8\u001b[0m nameservers\u001b[38;5;241m.\u001b[39mcolumns \u001b[38;5;241m=\u001b[39m [\u001b[38;5;124m'\u001b[39m\u001b[38;5;124mnameservers\u001b[39m\u001b[38;5;124m'\u001b[39m]\n\u001b[1;32m      9\u001b[0m emails_iana\u001b[38;5;241m.\u001b[39mset_index(\u001b[38;5;124m'\u001b[39m\u001b[38;5;124miana_id\u001b[39m\u001b[38;5;124m'\u001b[39m, inplace\u001b[38;5;241m=\u001b[39m\u001b[38;5;28;01mTrue\u001b[39;00m)\n",
      "\u001b[0;31mNameError\u001b[0m: name 'nameservers' is not defined"
     ]
    }
   ],
   "source": [
    "sample_registrars.set_index('iana_id', inplace=True)\n",
    "sample_registrars.columns = ['total']\n",
    "creation_iana.set_index('iana_id', inplace=True)\n",
    "creation_iana.columns = ['creation_date']\n",
    "expiration_iana.set_index('iana_id', inplace=True)\n",
    "expiration_iana.columns = ['expiration_date']\n",
    "nameservers_iana.set_index('iana_id', inplace=True)\n",
    "nameservers_iana.columns = ['nameservers']\n",
    "emails_iana.set_index('iana_id', inplace=True)\n",
    "emails_iana.columns = ['emails']"
   ]
  },
  {
   "cell_type": "code",
   "execution_count": 98,
   "id": "126e275b-ea5b-4a44-8f2d-154acf54a35f",
   "metadata": {},
   "outputs": [],
   "source": [
    "update_iana.set_index('iana_id', inplace=True)\n",
    "update_iana.columns = ['update_date']"
   ]
  },
  {
   "cell_type": "code",
   "execution_count": 99,
   "id": "776b93b9-3d76-4d1c-b207-b1c5e4bdf8ae",
   "metadata": {},
   "outputs": [],
   "source": [
    "faulty_registrars = pd.concat([sample_registrars, update_iana, creation_iana, expiration_iana, nameservers_iana, emails_iana], axis=1)"
   ]
  },
  {
   "cell_type": "code",
   "execution_count": 71,
   "id": "f2586eb1-ad68-4e66-8a3a-84fd00d67fac",
   "metadata": {},
   "outputs": [
    {
     "data": {
      "text/html": [
       "<div>\n",
       "<style scoped>\n",
       "    .dataframe tbody tr th:only-of-type {\n",
       "        vertical-align: middle;\n",
       "    }\n",
       "\n",
       "    .dataframe tbody tr th {\n",
       "        vertical-align: top;\n",
       "    }\n",
       "\n",
       "    .dataframe thead th {\n",
       "        text-align: right;\n",
       "    }\n",
       "</style>\n",
       "<table border=\"1\" class=\"dataframe\">\n",
       "  <thead>\n",
       "    <tr style=\"text-align: right;\">\n",
       "      <th></th>\n",
       "      <th>total</th>\n",
       "      <th>creation_date</th>\n",
       "      <th>expiration_date</th>\n",
       "      <th>nameservers</th>\n",
       "      <th>emails</th>\n",
       "    </tr>\n",
       "    <tr>\n",
       "      <th>iana_id</th>\n",
       "      <th></th>\n",
       "      <th></th>\n",
       "      <th></th>\n",
       "      <th></th>\n",
       "      <th></th>\n",
       "    </tr>\n",
       "  </thead>\n",
       "  <tbody>\n",
       "    <tr>\n",
       "      <th>146</th>\n",
       "      <td>16216010</td>\n",
       "      <td>1623733.0</td>\n",
       "      <td>1474880.0</td>\n",
       "      <td>8636.0</td>\n",
       "      <td>496679.0</td>\n",
       "    </tr>\n",
       "    <tr>\n",
       "      <th>-1</th>\n",
       "      <td>14220406</td>\n",
       "      <td>612292.0</td>\n",
       "      <td>598229.0</td>\n",
       "      <td>379582.0</td>\n",
       "      <td>2651426.0</td>\n",
       "    </tr>\n",
       "    <tr>\n",
       "      <th>1068</th>\n",
       "      <td>3295682</td>\n",
       "      <td>3467.0</td>\n",
       "      <td>2058.0</td>\n",
       "      <td>1276.0</td>\n",
       "      <td>2388214.0</td>\n",
       "    </tr>\n",
       "    <tr>\n",
       "      <th>69</th>\n",
       "      <td>2250859</td>\n",
       "      <td>18.0</td>\n",
       "      <td>21106.0</td>\n",
       "      <td>282.0</td>\n",
       "      <td>957242.0</td>\n",
       "    </tr>\n",
       "    <tr>\n",
       "      <th>895</th>\n",
       "      <td>1969323</td>\n",
       "      <td>200409.0</td>\n",
       "      <td>19095.0</td>\n",
       "      <td>2.0</td>\n",
       "      <td>1477617.0</td>\n",
       "    </tr>\n",
       "    <tr>\n",
       "      <th>...</th>\n",
       "      <td>...</td>\n",
       "      <td>...</td>\n",
       "      <td>...</td>\n",
       "      <td>...</td>\n",
       "      <td>...</td>\n",
       "    </tr>\n",
       "    <tr>\n",
       "      <th>2502</th>\n",
       "      <td>1</td>\n",
       "      <td>NaN</td>\n",
       "      <td>NaN</td>\n",
       "      <td>NaN</td>\n",
       "      <td>NaN</td>\n",
       "    </tr>\n",
       "    <tr>\n",
       "      <th>627</th>\n",
       "      <td>1</td>\n",
       "      <td>NaN</td>\n",
       "      <td>NaN</td>\n",
       "      <td>NaN</td>\n",
       "      <td>NaN</td>\n",
       "    </tr>\n",
       "    <tr>\n",
       "      <th>1882</th>\n",
       "      <td>1</td>\n",
       "      <td>NaN</td>\n",
       "      <td>NaN</td>\n",
       "      <td>NaN</td>\n",
       "      <td>NaN</td>\n",
       "    </tr>\n",
       "    <tr>\n",
       "      <th>1879</th>\n",
       "      <td>1</td>\n",
       "      <td>NaN</td>\n",
       "      <td>NaN</td>\n",
       "      <td>NaN</td>\n",
       "      <td>NaN</td>\n",
       "    </tr>\n",
       "    <tr>\n",
       "      <th>4128</th>\n",
       "      <td>1</td>\n",
       "      <td>NaN</td>\n",
       "      <td>NaN</td>\n",
       "      <td>NaN</td>\n",
       "      <td>NaN</td>\n",
       "    </tr>\n",
       "  </tbody>\n",
       "</table>\n",
       "<p>2494 rows × 5 columns</p>\n",
       "</div>"
      ],
      "text/plain": [
       "            total  creation_date  expiration_date  nameservers     emails\n",
       "iana_id                                                                  \n",
       " 146     16216010      1623733.0        1474880.0       8636.0   496679.0\n",
       "-1       14220406       612292.0         598229.0     379582.0  2651426.0\n",
       " 1068     3295682         3467.0           2058.0       1276.0  2388214.0\n",
       " 69       2250859           18.0          21106.0        282.0   957242.0\n",
       " 895      1969323       200409.0          19095.0          2.0  1477617.0\n",
       "...           ...            ...              ...          ...        ...\n",
       " 2502           1            NaN              NaN          NaN        NaN\n",
       " 627            1            NaN              NaN          NaN        NaN\n",
       " 1882           1            NaN              NaN          NaN        NaN\n",
       " 1879           1            NaN              NaN          NaN        NaN\n",
       " 4128           1            NaN              NaN          NaN        NaN\n",
       "\n",
       "[2494 rows x 5 columns]"
      ]
     },
     "execution_count": 71,
     "metadata": {},
     "output_type": "execute_result"
    }
   ],
   "source": [
    "faulty_registrars.sort_values('total', ascending=False)"
   ]
  },
  {
   "cell_type": "code",
   "execution_count": 72,
   "id": "63d7bf2c-de0a-462e-91a1-67e0d3caf0de",
   "metadata": {},
   "outputs": [
    {
     "data": {
      "text/plain": [
       "iana_id\n",
       "1871        0.964564\n",
       "1873        0.957154\n",
       "1863        0.957153\n",
       "1907        0.956765\n",
       "1019        0.955241\n",
       "              ...   \n",
       "30149320         NaN\n",
       "30157399         NaN\n",
       "30696040         NaN\n",
       "30852007         NaN\n",
       "30934604         NaN\n",
       "Length: 2494, dtype: float64"
      ]
     },
     "execution_count": 72,
     "metadata": {},
     "output_type": "execute_result"
    }
   ],
   "source": [
    "(faulty_registrars['creation_date'] / faulty_registrars['total']).sort_values(ascending=False)"
   ]
  },
  {
   "cell_type": "code",
   "execution_count": 101,
   "id": "d0699313-3140-4e57-9d0b-9c61ac7221b9",
   "metadata": {},
   "outputs": [],
   "source": [
    "top_faulty = faulty_registrars.sort_values('total', ascending=False).head(1000)"
   ]
  },
  {
   "cell_type": "code",
   "execution_count": 102,
   "id": "da7faaf4-2b7a-48b5-a7c7-631e37275791",
   "metadata": {},
   "outputs": [
    {
     "name": "stderr",
     "output_type": "stream",
     "text": [
      "/opt/conda/lib/python3.10/site-packages/rpy2/robjects/pandas2ri.py:54: FutureWarning: iteritems is deprecated and will be removed in a future version. Use .items instead.\n",
      "  for name, values in obj.iteritems():\n"
     ]
    },
    {
     "data": {
      "image/png": "[encoded data removed]"
     },
     "metadata": {},
     "output_type": "display_data"
    }
   ],
   "source": [
    "%%R -i top_faulty\n",
    "\n",
    "ggplot(data=top_faulty, aes(x=total, y=update_date/total)) +\n",
    "    geom_point() +\n",
    "    scale_x_log10() +\n",
    "    xlab(\"Registrar size\") +\n",
    "    ylab(\"Mismatch rate\") +\n",
    "    ylim(0, 1) +\n",
    "    theme_bw()\n",
    "    \n",
    "    \n",
    "ggsave('../article/figs/update_iana.pdf', units=\"in\", width= 3.1, height=2)\n",
    "last_plot()"
   ]
  },
  {
   "cell_type": "code",
   "execution_count": 103,
   "id": "d06da670-80b1-4b6b-98cb-78aa0520d6d5",
   "metadata": {},
   "outputs": [
    {
     "name": "stderr",
     "output_type": "stream",
     "text": [
      "/opt/conda/lib/python3.10/site-packages/rpy2/robjects/pandas2ri.py:54: FutureWarning: iteritems is deprecated and will be removed in a future version. Use .items instead.\n",
      "  for name, values in obj.iteritems():\n"
     ]
    },
    {
     "data": {
      "image/png": "[encoded data removed]"
     },
     "metadata": {},
     "output_type": "display_data"
    }
   ],
   "source": [
    "%%R -i top_faulty\n",
    "\n",
    "ggplot(data=top_faulty, aes(x=total, y=creation_date/total)) +\n",
    "    geom_point() +\n",
    "    scale_x_log10() +\n",
    "    xlab(\"Registrar size\") +\n",
    "    ylab(\"Mismatch rate\") +\n",
    "    ylim(0, 1) +\n",
    "    theme_bw()\n",
    "    \n",
    "    \n",
    "ggsave('../article/figs/creation_iana.pdf', units=\"in\", width= 3.1, height=2)\n",
    "last_plot()"
   ]
  },
  {
   "cell_type": "code",
   "execution_count": 104,
   "id": "7af18ee6-c8c3-41dc-9cd1-033642371aa5",
   "metadata": {},
   "outputs": [
    {
     "name": "stderr",
     "output_type": "stream",
     "text": [
      "/opt/conda/lib/python3.10/site-packages/rpy2/robjects/pandas2ri.py:54: FutureWarning: iteritems is deprecated and will be removed in a future version. Use .items instead.\n",
      "  for name, values in obj.iteritems():\n"
     ]
    },
    {
     "data": {
      "image/png": "[encoded data removed]"
     },
     "metadata": {},
     "output_type": "display_data"
    }
   ],
   "source": [
    "%%R -i top_faulty\n",
    "\n",
    "ggplot(data=top_faulty, aes(x=total, y=expiration_date/total)) +\n",
    "    geom_point() +\n",
    "    scale_x_log10() +\n",
    "    ylim(0, 1) +\n",
    "    xlab(\"Registrar size\") +\n",
    "    ylab(\"Mismatch rate\") +\n",
    "    theme_bw()\n",
    "    \n",
    "    \n",
    "ggsave('../article/figs/expiration_iana.pdf', units=\"in\", width= 3.1, height=2)\n",
    "last_plot()"
   ]
  },
  {
   "cell_type": "code",
   "execution_count": 105,
   "id": "3773af4a-1b8d-4151-8b9d-b6ac3824c126",
   "metadata": {},
   "outputs": [
    {
     "name": "stderr",
     "output_type": "stream",
     "text": [
      "/opt/conda/lib/python3.10/site-packages/rpy2/robjects/pandas2ri.py:54: FutureWarning: iteritems is deprecated and will be removed in a future version. Use .items instead.\n",
      "  for name, values in obj.iteritems():\n"
     ]
    },
    {
     "data": {
      "image/png": "[encoded data removed]"
     },
     "metadata": {},
     "output_type": "display_data"
    }
   ],
   "source": [
    "%%R -i top_faulty\n",
    "\n",
    "ggplot(data=top_faulty, aes(x=total, y=nameservers/total)) +\n",
    "    geom_point() +\n",
    "    scale_x_log10() +\n",
    "    ylim(0, 1) +\n",
    "    xlab(\"Registrar size\") +\n",
    "    ylab(\"Mismatch rate\") +\n",
    "    theme_bw()\n",
    "    \n",
    "    \n",
    "ggsave('../article/figs/nameservers_iana.pdf', units=\"in\", width= 3.1, height=2)\n",
    "last_plot()"
   ]
  },
  {
   "cell_type": "code",
   "execution_count": 106,
   "id": "cd2b0700-f176-4ec8-82b7-2c817fd01c76",
   "metadata": {},
   "outputs": [
    {
     "name": "stderr",
     "output_type": "stream",
     "text": [
      "/opt/conda/lib/python3.10/site-packages/rpy2/robjects/pandas2ri.py:54: FutureWarning: iteritems is deprecated and will be removed in a future version. Use .items instead.\n",
      "  for name, values in obj.iteritems():\n"
     ]
    },
    {
     "data": {
      "image/png": "[encoded data removed]"
     },
     "metadata": {},
     "output_type": "display_data"
    }
   ],
   "source": [
    "%%R -i top_faulty\n",
    "\n",
    "ggplot(data=top_faulty, aes(x=total, y=emails/total)) +\n",
    "    geom_point() +\n",
    "    scale_x_log10() +\n",
    "    ylim(0, 1) +\n",
    "    xlab(\"Registrar size\") +\n",
    "    ylab(\"Mismatch rate\") +\n",
    "    theme_bw()\n",
    "    \n",
    "    \n",
    "ggsave('../article/figs/emails_iana.pdf', units=\"in\", width= 3.1, height=2)\n",
    "last_plot()"
   ]
  },
  {
   "cell_type": "markdown",
   "id": "efe79f85-bed0-494e-9d66-c1226908be95",
   "metadata": {
    "jp-MarkdownHeadingCollapsed": true,
    "tags": []
   },
   "source": [
    "## Update dates"
   ]
  },
  {
   "cell_type": "code",
   "execution_count": 28,
   "id": "c41588c2-6616-471f-abce-76cd1fc7dac8",
   "metadata": {},
   "outputs": [],
   "source": [
    "import pandas as pd\n",
    "\n",
    "ud_missmatches = pd.read_sql(\n",
    "    \"SELECT update_date.domain, r.iana_id, l.mode, update_date.left_val, r.mode, update_date.right_val \"\n",
    "    \"FROM update_date \"\n",
    "    \"JOIN source.parsed AS l ON update_date.left_id=l.rowid \"\n",
    "    \"JOIN source.parsed AS r ON update_date.right_id=r.rowid \"\n",
    "    \"WHERE l.mode != r.mode AND l.scan_depth = r.scan_depth\", missmatch_db)\n",
    "ud_missmatches.columns = [\"domain\", \"iana_id\", \"left_mode\", \"left_date\", \"right_mode\", \"right_date\"]"
   ]
  },
  {
   "cell_type": "code",
   "execution_count": 29,
   "id": "1fb9ccbd-fe45-4bad-bf65-867aff4afd6f",
   "metadata": {},
   "outputs": [
    {
     "data": {
      "text/plain": [
       "iana_id\n",
       "-1          1973192\n",
       " 146        1450776\n",
       " 895        1185078\n",
       " 69          902589\n",
       " 1923        503757\n",
       "             ...   \n",
       " 1557             1\n",
       " 379              1\n",
       " 1234             1\n",
       " 1207             1\n",
       " 1278552          1\n",
       "Length: 1513, dtype: int64"
      ]
     },
     "execution_count": 29,
     "metadata": {},
     "output_type": "execute_result"
    }
   ],
   "source": [
    "ud_missmatches.value_counts('iana_id')"
   ]
  },
  {
   "cell_type": "code",
   "execution_count": 30,
   "id": "af0137ab-6ce7-471b-a27b-a0ada8aa3ce8",
   "metadata": {},
   "outputs": [],
   "source": [
    "ud_missmatches['left_date'] = pd.to_datetime(ud_missmatches['left_date'], errors='coerce')\n",
    "ud_missmatches['right_date'] = pd.to_datetime(ud_missmatches['right_date'], errors='coerce')"
   ]
  },
  {
   "cell_type": "code",
   "execution_count": 31,
   "id": "098b9a45-f826-49f3-896d-46dc3686d6b5",
   "metadata": {},
   "outputs": [
    {
     "name": "stdout",
     "output_type": "stream",
     "text": [
      "To the left, only WHOIS :  whois    7528734\n",
      "Name: left_mode, dtype: int64\n",
      "To the right, only RDAP :  rdap    7528734\n",
      "Name: right_mode, dtype: int64\n"
     ]
    }
   ],
   "source": [
    "print(\"To the left, only WHOIS : \", ud_missmatches['left_mode'].value_counts())\n",
    "print(\"To the right, only RDAP : \", ud_missmatches['right_mode'].value_counts())"
   ]
  },
  {
   "cell_type": "code",
   "execution_count": 32,
   "id": "9c9771e4-6052-46bb-a826-359679f515b1",
   "metadata": {},
   "outputs": [
    {
     "data": {
      "text/html": [
       "<div>\n",
       "<style scoped>\n",
       "    .dataframe tbody tr th:only-of-type {\n",
       "        vertical-align: middle;\n",
       "    }\n",
       "\n",
       "    .dataframe tbody tr th {\n",
       "        vertical-align: top;\n",
       "    }\n",
       "\n",
       "    .dataframe thead th {\n",
       "        text-align: right;\n",
       "    }\n",
       "</style>\n",
       "<table border=\"1\" class=\"dataframe\">\n",
       "  <thead>\n",
       "    <tr style=\"text-align: right;\">\n",
       "      <th></th>\n",
       "      <th>domain</th>\n",
       "      <th>iana_id</th>\n",
       "      <th>left_mode</th>\n",
       "      <th>left_date</th>\n",
       "      <th>right_mode</th>\n",
       "      <th>right_date</th>\n",
       "      <th>delta</th>\n",
       "    </tr>\n",
       "  </thead>\n",
       "  <tbody>\n",
       "    <tr>\n",
       "      <th>0</th>\n",
       "      <td>peracon.cz</td>\n",
       "      <td>-1</td>\n",
       "      <td>whois</td>\n",
       "      <td>2018-09-24</td>\n",
       "      <td>rdap</td>\n",
       "      <td>1970-01-01</td>\n",
       "      <td>-17798.0</td>\n",
       "    </tr>\n",
       "    <tr>\n",
       "      <th>1</th>\n",
       "      <td>miamijenny.com</td>\n",
       "      <td>69</td>\n",
       "      <td>whois</td>\n",
       "      <td>1970-01-01</td>\n",
       "      <td>rdap</td>\n",
       "      <td>2021-10-01</td>\n",
       "      <td>18901.0</td>\n",
       "    </tr>\n",
       "    <tr>\n",
       "      <th>2</th>\n",
       "      <td>champagneproductions.africa</td>\n",
       "      <td>2287</td>\n",
       "      <td>whois</td>\n",
       "      <td>2022-03-19</td>\n",
       "      <td>rdap</td>\n",
       "      <td>1970-01-01</td>\n",
       "      <td>-19070.0</td>\n",
       "    </tr>\n",
       "    <tr>\n",
       "      <th>3</th>\n",
       "      <td>qrticketscan.app</td>\n",
       "      <td>1345</td>\n",
       "      <td>whois</td>\n",
       "      <td>2022-05-19</td>\n",
       "      <td>rdap</td>\n",
       "      <td>2022-05-23</td>\n",
       "      <td>4.0</td>\n",
       "    </tr>\n",
       "    <tr>\n",
       "      <th>4</th>\n",
       "      <td>maleadeco.com</td>\n",
       "      <td>433</td>\n",
       "      <td>whois</td>\n",
       "      <td>2022-07-01</td>\n",
       "      <td>rdap</td>\n",
       "      <td>1970-01-01</td>\n",
       "      <td>-19174.0</td>\n",
       "    </tr>\n",
       "    <tr>\n",
       "      <th>...</th>\n",
       "      <td>...</td>\n",
       "      <td>...</td>\n",
       "      <td>...</td>\n",
       "      <td>...</td>\n",
       "      <td>...</td>\n",
       "      <td>...</td>\n",
       "      <td>...</td>\n",
       "    </tr>\n",
       "    <tr>\n",
       "      <th>7528729</th>\n",
       "      <td>savanhasunwines.com</td>\n",
       "      <td>-1</td>\n",
       "      <td>whois</td>\n",
       "      <td>2022-06-14</td>\n",
       "      <td>rdap</td>\n",
       "      <td>1970-01-01</td>\n",
       "      <td>-19157.0</td>\n",
       "    </tr>\n",
       "    <tr>\n",
       "      <th>7528730</th>\n",
       "      <td>yuanjing168.net</td>\n",
       "      <td>-1</td>\n",
       "      <td>whois</td>\n",
       "      <td>2022-12-09</td>\n",
       "      <td>rdap</td>\n",
       "      <td>1970-01-01</td>\n",
       "      <td>-19335.0</td>\n",
       "    </tr>\n",
       "    <tr>\n",
       "      <th>7528731</th>\n",
       "      <td>slachttechniek.com</td>\n",
       "      <td>839</td>\n",
       "      <td>whois</td>\n",
       "      <td>1970-01-01</td>\n",
       "      <td>rdap</td>\n",
       "      <td>2022-10-31</td>\n",
       "      <td>19296.0</td>\n",
       "    </tr>\n",
       "    <tr>\n",
       "      <th>7528732</th>\n",
       "      <td>freshfacebeautyuk.com</td>\n",
       "      <td>69</td>\n",
       "      <td>whois</td>\n",
       "      <td>1970-01-01</td>\n",
       "      <td>rdap</td>\n",
       "      <td>2022-01-25</td>\n",
       "      <td>19017.0</td>\n",
       "    </tr>\n",
       "    <tr>\n",
       "      <th>7528733</th>\n",
       "      <td>jonathantiong.com</td>\n",
       "      <td>69</td>\n",
       "      <td>whois</td>\n",
       "      <td>1970-01-01</td>\n",
       "      <td>rdap</td>\n",
       "      <td>2022-06-27</td>\n",
       "      <td>19170.0</td>\n",
       "    </tr>\n",
       "  </tbody>\n",
       "</table>\n",
       "<p>7528734 rows × 7 columns</p>\n",
       "</div>"
      ],
      "text/plain": [
       "                              domain  iana_id left_mode  left_date right_mode  \\\n",
       "0                         peracon.cz       -1     whois 2018-09-24       rdap   \n",
       "1                     miamijenny.com       69     whois 1970-01-01       rdap   \n",
       "2        champagneproductions.africa     2287     whois 2022-03-19       rdap   \n",
       "3                   qrticketscan.app     1345     whois 2022-05-19       rdap   \n",
       "4                      maleadeco.com      433     whois 2022-07-01       rdap   \n",
       "...                              ...      ...       ...        ...        ...   \n",
       "7528729          savanhasunwines.com       -1     whois 2022-06-14       rdap   \n",
       "7528730              yuanjing168.net       -1     whois 2022-12-09       rdap   \n",
       "7528731           slachttechniek.com      839     whois 1970-01-01       rdap   \n",
       "7528732        freshfacebeautyuk.com       69     whois 1970-01-01       rdap   \n",
       "7528733            jonathantiong.com       69     whois 1970-01-01       rdap   \n",
       "\n",
       "        right_date    delta  \n",
       "0       1970-01-01 -17798.0  \n",
       "1       2021-10-01  18901.0  \n",
       "2       1970-01-01 -19070.0  \n",
       "3       2022-05-23      4.0  \n",
       "4       1970-01-01 -19174.0  \n",
       "...            ...      ...  \n",
       "7528729 1970-01-01 -19157.0  \n",
       "7528730 1970-01-01 -19335.0  \n",
       "7528731 2022-10-31  19296.0  \n",
       "7528732 2022-01-25  19017.0  \n",
       "7528733 2022-06-27  19170.0  \n",
       "\n",
       "[7528734 rows x 7 columns]"
      ]
     },
     "execution_count": 32,
     "metadata": {},
     "output_type": "execute_result"
    }
   ],
   "source": [
    "ud_missmatches['delta'] = ud_missmatches['right_date'] - ud_missmatches['left_date']\n",
    "ud_missmatches['delta'] = ud_missmatches['delta'].dt.days\n",
    "ud_missmatches"
   ]
  },
  {
   "cell_type": "code",
   "execution_count": 84,
   "id": "ba64894e-1ef0-4185-ad83-ab1fc9bae59b",
   "metadata": {},
   "outputs": [
    {
     "data": {
      "text/plain": [
       "0.03924696363636364"
      ]
     },
     "execution_count": 84,
     "metadata": {},
     "output_type": "execute_result"
    }
   ],
   "source": [
    "ud['domain'].nunique() / 55_000_000"
   ]
  },
  {
   "cell_type": "code",
   "execution_count": 33,
   "id": "103355d7-5730-4428-9072-f4fba4fff86f",
   "metadata": {},
   "outputs": [
    {
     "data": {
      "text/html": [
       "<div>\n",
       "<style scoped>\n",
       "    .dataframe tbody tr th:only-of-type {\n",
       "        vertical-align: middle;\n",
       "    }\n",
       "\n",
       "    .dataframe tbody tr th {\n",
       "        vertical-align: top;\n",
       "    }\n",
       "\n",
       "    .dataframe thead th {\n",
       "        text-align: right;\n",
       "    }\n",
       "</style>\n",
       "<table border=\"1\" class=\"dataframe\">\n",
       "  <thead>\n",
       "    <tr style=\"text-align: right;\">\n",
       "      <th></th>\n",
       "      <th>delta</th>\n",
       "      <th>proportion</th>\n",
       "      <th>cumulated</th>\n",
       "    </tr>\n",
       "  </thead>\n",
       "  <tbody>\n",
       "    <tr>\n",
       "      <th>0</th>\n",
       "      <td>-20152.0</td>\n",
       "      <td>1.329714e-07</td>\n",
       "      <td>1.329714e-07</td>\n",
       "    </tr>\n",
       "    <tr>\n",
       "      <th>1</th>\n",
       "      <td>-20068.0</td>\n",
       "      <td>1.329714e-07</td>\n",
       "      <td>2.659429e-07</td>\n",
       "    </tr>\n",
       "    <tr>\n",
       "      <th>2</th>\n",
       "      <td>-19761.0</td>\n",
       "      <td>1.329714e-07</td>\n",
       "      <td>3.989143e-07</td>\n",
       "    </tr>\n",
       "    <tr>\n",
       "      <th>3</th>\n",
       "      <td>-19674.0</td>\n",
       "      <td>1.329714e-07</td>\n",
       "      <td>5.318858e-07</td>\n",
       "    </tr>\n",
       "    <tr>\n",
       "      <th>4</th>\n",
       "      <td>-19647.0</td>\n",
       "      <td>1.329714e-07</td>\n",
       "      <td>6.648572e-07</td>\n",
       "    </tr>\n",
       "    <tr>\n",
       "      <th>...</th>\n",
       "      <td>...</td>\n",
       "      <td>...</td>\n",
       "      <td>...</td>\n",
       "    </tr>\n",
       "    <tr>\n",
       "      <th>14733</th>\n",
       "      <td>19353.0</td>\n",
       "      <td>1.487950e-04</td>\n",
       "      <td>9.997387e-01</td>\n",
       "    </tr>\n",
       "    <tr>\n",
       "      <th>14734</th>\n",
       "      <td>19354.0</td>\n",
       "      <td>1.311098e-04</td>\n",
       "      <td>9.998698e-01</td>\n",
       "    </tr>\n",
       "    <tr>\n",
       "      <th>14735</th>\n",
       "      <td>19355.0</td>\n",
       "      <td>7.020892e-05</td>\n",
       "      <td>9.999400e-01</td>\n",
       "    </tr>\n",
       "    <tr>\n",
       "      <th>14736</th>\n",
       "      <td>19356.0</td>\n",
       "      <td>4.228492e-05</td>\n",
       "      <td>9.999823e-01</td>\n",
       "    </tr>\n",
       "    <tr>\n",
       "      <th>14737</th>\n",
       "      <td>19357.0</td>\n",
       "      <td>1.768520e-05</td>\n",
       "      <td>1.000000e+00</td>\n",
       "    </tr>\n",
       "  </tbody>\n",
       "</table>\n",
       "<p>14738 rows × 3 columns</p>\n",
       "</div>"
      ],
      "text/plain": [
       "         delta    proportion     cumulated\n",
       "0     -20152.0  1.329714e-07  1.329714e-07\n",
       "1     -20068.0  1.329714e-07  2.659429e-07\n",
       "2     -19761.0  1.329714e-07  3.989143e-07\n",
       "3     -19674.0  1.329714e-07  5.318858e-07\n",
       "4     -19647.0  1.329714e-07  6.648572e-07\n",
       "...        ...           ...           ...\n",
       "14733  19353.0  1.487950e-04  9.997387e-01\n",
       "14734  19354.0  1.311098e-04  9.998698e-01\n",
       "14735  19355.0  7.020892e-05  9.999400e-01\n",
       "14736  19356.0  4.228492e-05  9.999823e-01\n",
       "14737  19357.0  1.768520e-05  1.000000e+00\n",
       "\n",
       "[14738 rows x 3 columns]"
      ]
     },
     "execution_count": 33,
     "metadata": {},
     "output_type": "execute_result"
    }
   ],
   "source": [
    "deltas = ud_missmatches['delta'].value_counts(normalize=True).sort_index()\n",
    "deltas = deltas.to_frame(name=\"proportion\").reset_index(names='delta')\n",
    "deltas['cumulated'] = deltas['proportion'].cumsum()\n",
    "deltas"
   ]
  },
  {
   "cell_type": "code",
   "execution_count": 86,
   "id": "b12fb500-b129-4d1d-938f-4306d44a6586",
   "metadata": {},
   "outputs": [
    {
     "name": "stderr",
     "output_type": "stream",
     "text": [
      "/opt/conda/lib/python3.10/site-packages/rpy2/robjects/pandas2ri.py:54: FutureWarning: iteritems is deprecated and will be removed in a future version. Use .items instead.\n",
      "  for name, values in obj.iteritems():\n"
     ]
    },
    {
     "data": {
      "image/png": "[encoded data removed]"
     },
     "metadata": {},
     "output_type": "display_data"
    }
   ],
   "source": [
    "%%R -i deltas\n",
    "ggplot(data=deltas, aes(x=delta, y=cumulated)) +\n",
    "    geom_line() +\n",
    "    xlim(-100, 100) +\n",
    "    xlab(\"delta (days)\") +\n",
    "    ylab(\"domain proportion\") +\n",
    "    theme_bw()\n",
    "    \n",
    "ggsave('../article/figs/update_time.pdf', units=\"in\", width= 3.3, height=2)\n",
    "last_plot()"
   ]
  },
  {
   "cell_type": "code",
   "execution_count": 62,
   "id": "4b843f14-8437-44c5-82bc-c6b6c6e95145",
   "metadata": {},
   "outputs": [
    {
     "name": "stderr",
     "output_type": "stream",
     "text": [
      "/opt/conda/lib/python3.10/site-packages/rpy2/robjects/pandas2ri.py:54: FutureWarning: iteritems is deprecated and will be removed in a future version. Use .items instead.\n",
      "  for name, values in obj.iteritems():\n"
     ]
    },
    {
     "data": {
      "image/png": "[encoded data removed]"
     },
     "metadata": {},
     "output_type": "display_data"
    }
   ],
   "source": [
    "%%R -i deltas\n",
    "ggplot(data=deltas, aes(x=delta, y=proportion)) +\n",
    "    geom_line() +\n",
    "    xlim(-8, 8) +\n",
    "    xlab(\"delta (days)\") +\n",
    "    ylab(\"proportion\") +\n",
    "    theme_bw()\n",
    "    \n",
    "ggsave('../article/figs/update_time_week.pdf', units=\"in\", width= 3.3, height=2)\n",
    "last_plot()"
   ]
  },
  {
   "cell_type": "code",
   "execution_count": 73,
   "id": "9e7af06e-8050-4c24-964c-ee12f20804dc",
   "metadata": {},
   "outputs": [
    {
     "data": {
      "text/plain": [
       "0.11207146108350488"
      ]
     },
     "execution_count": 73,
     "metadata": {},
     "output_type": "execute_result"
    }
   ],
   "source": [
    "deltas[abs(deltas.delta) <= 1]['proportion'].sum()"
   ]
  },
  {
   "cell_type": "code",
   "execution_count": 93,
   "id": "3c12b375-782e-4a56-95c8-88844bbd16fe",
   "metadata": {},
   "outputs": [
    {
     "data": {
      "text/plain": [
       "iana_id\n",
       " 895     1083913\n",
       "-1        448788\n",
       " 146      369093\n",
       " 69        51229\n",
       " 1556      32379\n",
       " 151       16526\n",
       " 1154      14556\n",
       " 226       12670\n",
       " 470       11191\n",
       " 1390      10540\n",
       "dtype: int64"
      ]
     },
     "execution_count": 93,
     "metadata": {},
     "output_type": "execute_result"
    }
   ],
   "source": [
    "ud.value_counts('iana_id').head(10)"
   ]
  },
  {
   "cell_type": "code",
   "execution_count": 34,
   "id": "cdec6ec4-19d6-4de3-b48b-71a6f8861705",
   "metadata": {},
   "outputs": [],
   "source": [
    "top_reg = ud_missmatches[ud_missmatches.iana_id.isin([895, 146, 69, 1556, 151])][['iana_id', 'delta']]\n",
    "top_reg['iana_id'] = top_reg['iana_id'].astype('str')"
   ]
  },
  {
   "cell_type": "code",
   "execution_count": null,
   "id": "806d7cd9-10e4-4d17-adc4-3026387aaba6",
   "metadata": {},
   "outputs": [
    {
     "name": "stderr",
     "output_type": "stream",
     "text": [
      "/opt/conda/lib/python3.10/site-packages/rpy2/robjects/pandas2ri.py:54: FutureWarning: iteritems is deprecated and will be removed in a future version. Use .items instead.\n",
      "  for name, values in obj.iteritems():\n"
     ]
    }
   ],
   "source": [
    "%%R -i top_reg\n",
    "\n",
    "ggplot(data=top_reg, aes(x=delta, after_stat(density))) +\n",
    "    geom_freqpoly(aes(linetype=iana_id), binwidth=1) + \n",
    "    xlab(\"delta (days)\") +\n",
    "    ylab(\"density\") +\n",
    "    xlim(-8, +8) +\n",
    "    theme_bw()\n",
    "    \n",
    "ggsave('../article/figs/update_time_top_5.pdf', units=\"in\", width= 3.3, height=1.8)\n",
    "last_plot()"
   ]
  },
  {
   "cell_type": "markdown",
   "id": "11d75c98-12d1-41a4-85ec-a0afc8af0155",
   "metadata": {
    "jp-MarkdownHeadingCollapsed": true,
    "tags": []
   },
   "source": [
    "## Other dates"
   ]
  },
  {
   "cell_type": "markdown",
   "id": "ed7e9629-f233-47dc-8a71-eb8d3419ea99",
   "metadata": {},
   "source": [
    "Loading the date mismatches..."
   ]
  },
  {
   "cell_type": "code",
   "execution_count": 12,
   "id": "20739ccf-d07a-45dd-9c40-8e88b46dd4bc",
   "metadata": {},
   "outputs": [],
   "source": [
    "import pandas as pd"
   ]
  },
  {
   "cell_type": "code",
   "execution_count": 13,
   "id": "630e5594-f9ec-407a-8eb5-7b0c08bdf9b0",
   "metadata": {},
   "outputs": [],
   "source": [
    "reg_missmatches = pd.read_sql(\n",
    "    \"SELECT creation_date.domain, r.iana_id, l.mode, creation_date.left_val, r.mode, creation_date.right_val \"\n",
    "    \"FROM creation_date \"\n",
    "    \"JOIN source.parsed AS l ON creation_date.left_id=l.rowid \"\n",
    "    \"JOIN source.parsed AS r ON creation_date.right_id=r.rowid \", missmatch_db)\n",
    "reg_missmatches.columns = [\"domain\", \"iana_id\", \"left_mode\", \"left_date\", \"right_mode\", \"right_date\"]"
   ]
  },
  {
   "cell_type": "code",
   "execution_count": 14,
   "id": "cdde1dae-ac07-444f-aeb8-a88fcc808250",
   "metadata": {},
   "outputs": [],
   "source": [
    "exp_missmatches = pd.read_sql(\n",
    "    \"SELECT expiration_date.domain, r.iana_id, l.mode, expiration_date.left_val, r.mode, expiration_date.right_val \"\n",
    "    \"FROM expiration_date \"\n",
    "    \"JOIN source.parsed AS l ON expiration_date.left_id=l.rowid \"\n",
    "    \"JOIN source.parsed AS r ON expiration_date.right_id=r.rowid \"\n",
    "    \"WHERE expiration_date.left_val > DATE('1970-01-01') AND  expiration_date.right_val > DATE('1970-01-01')\", missmatch_db)\n",
    "exp_missmatches.columns = [\"domain\", \"iana_id\", \"left_mode\", \"left_date\", \"right_mode\", \"right_date\"]"
   ]
  },
  {
   "cell_type": "markdown",
   "id": "e56aa73c-614a-434a-818a-d6ed3bdde640",
   "metadata": {},
   "source": [
    "Parsing the dates"
   ]
  },
  {
   "cell_type": "code",
   "execution_count": 15,
   "id": "99934142-b33a-491e-8d34-6119504d1dbc",
   "metadata": {},
   "outputs": [],
   "source": [
    "reg_missmatches['left_date'] = pd.to_datetime(reg_missmatches['left_date'], errors='coerce')\n",
    "reg_missmatches['right_date'] = pd.to_datetime(reg_missmatches['right_date'], errors='coerce')"
   ]
  },
  {
   "cell_type": "code",
   "execution_count": 16,
   "id": "90a7d55f-8299-44df-9dee-a27c5580cfab",
   "metadata": {},
   "outputs": [],
   "source": [
    "exp_missmatches['left_date'] = pd.to_datetime(exp_missmatches['left_date'], errors='coerce')\n",
    "exp_missmatches['right_date'] = pd.to_datetime(exp_missmatches['right_date'], errors='coerce')"
   ]
  },
  {
   "cell_type": "markdown",
   "id": "5300fc89-030a-4f83-a544-bea83c31c6f1",
   "metadata": {},
   "source": [
    "Compute the difference between the two mismatching dates"
   ]
  },
  {
   "cell_type": "code",
   "execution_count": 17,
   "id": "93a4c3ad-b2c3-4620-8bf0-118028deace3",
   "metadata": {},
   "outputs": [
    {
     "data": {
      "text/html": [
       "<div>\n",
       "<style scoped>\n",
       "    .dataframe tbody tr th:only-of-type {\n",
       "        vertical-align: middle;\n",
       "    }\n",
       "\n",
       "    .dataframe tbody tr th {\n",
       "        vertical-align: top;\n",
       "    }\n",
       "\n",
       "    .dataframe thead th {\n",
       "        text-align: right;\n",
       "    }\n",
       "</style>\n",
       "<table border=\"1\" class=\"dataframe\">\n",
       "  <thead>\n",
       "    <tr style=\"text-align: right;\">\n",
       "      <th></th>\n",
       "      <th>domain</th>\n",
       "      <th>iana_id</th>\n",
       "      <th>left_mode</th>\n",
       "      <th>left_date</th>\n",
       "      <th>right_mode</th>\n",
       "      <th>right_date</th>\n",
       "      <th>delta</th>\n",
       "    </tr>\n",
       "  </thead>\n",
       "  <tbody>\n",
       "    <tr>\n",
       "      <th>0</th>\n",
       "      <td>omaharoofingandgutter.com</td>\n",
       "      <td>146</td>\n",
       "      <td>whois</td>\n",
       "      <td>2015-04-10</td>\n",
       "      <td>rdap</td>\n",
       "      <td>2015-04-09</td>\n",
       "      <td>-1.0</td>\n",
       "    </tr>\n",
       "    <tr>\n",
       "      <th>1</th>\n",
       "      <td>f4fcz.com</td>\n",
       "      <td>81</td>\n",
       "      <td>whois</td>\n",
       "      <td>2014-06-16</td>\n",
       "      <td>whois</td>\n",
       "      <td>2014-06-15</td>\n",
       "      <td>-1.0</td>\n",
       "    </tr>\n",
       "    <tr>\n",
       "      <th>2</th>\n",
       "      <td>donghyn.com</td>\n",
       "      <td>244</td>\n",
       "      <td>whois</td>\n",
       "      <td>2020-12-26</td>\n",
       "      <td>whois</td>\n",
       "      <td>2020-12-25</td>\n",
       "      <td>-1.0</td>\n",
       "    </tr>\n",
       "    <tr>\n",
       "      <th>3</th>\n",
       "      <td>vintageheavy.com</td>\n",
       "      <td>146</td>\n",
       "      <td>whois</td>\n",
       "      <td>2016-06-13</td>\n",
       "      <td>whois</td>\n",
       "      <td>2016-06-12</td>\n",
       "      <td>-1.0</td>\n",
       "    </tr>\n",
       "    <tr>\n",
       "      <th>4</th>\n",
       "      <td>sdrixin.com</td>\n",
       "      <td>817</td>\n",
       "      <td>whois</td>\n",
       "      <td>2021-02-11</td>\n",
       "      <td>whois</td>\n",
       "      <td>2021-02-12</td>\n",
       "      <td>1.0</td>\n",
       "    </tr>\n",
       "    <tr>\n",
       "      <th>...</th>\n",
       "      <td>...</td>\n",
       "      <td>...</td>\n",
       "      <td>...</td>\n",
       "      <td>...</td>\n",
       "      <td>...</td>\n",
       "      <td>...</td>\n",
       "      <td>...</td>\n",
       "    </tr>\n",
       "    <tr>\n",
       "      <th>8144208</th>\n",
       "      <td>hello-cuba.net</td>\n",
       "      <td>151</td>\n",
       "      <td>rdap</td>\n",
       "      <td>2017-08-10</td>\n",
       "      <td>rdap</td>\n",
       "      <td>2002-05-17</td>\n",
       "      <td>-5564.0</td>\n",
       "    </tr>\n",
       "    <tr>\n",
       "      <th>8144209</th>\n",
       "      <td>otsuka.group</td>\n",
       "      <td>-1</td>\n",
       "      <td>rdap</td>\n",
       "      <td>2017-08-03</td>\n",
       "      <td>rdap</td>\n",
       "      <td>2017-08-02</td>\n",
       "      <td>-1.0</td>\n",
       "    </tr>\n",
       "    <tr>\n",
       "      <th>8144210</th>\n",
       "      <td>cleantouchpro.com</td>\n",
       "      <td>146</td>\n",
       "      <td>rdap</td>\n",
       "      <td>2020-04-08</td>\n",
       "      <td>rdap</td>\n",
       "      <td>2020-04-07</td>\n",
       "      <td>-1.0</td>\n",
       "    </tr>\n",
       "    <tr>\n",
       "      <th>8144211</th>\n",
       "      <td>piperscloset.com</td>\n",
       "      <td>895</td>\n",
       "      <td>rdap</td>\n",
       "      <td>2005-02-08</td>\n",
       "      <td>rdap</td>\n",
       "      <td>2016-11-14</td>\n",
       "      <td>4297.0</td>\n",
       "    </tr>\n",
       "    <tr>\n",
       "      <th>8144212</th>\n",
       "      <td>ellera.com</td>\n",
       "      <td>146</td>\n",
       "      <td>rdap</td>\n",
       "      <td>2004-11-30</td>\n",
       "      <td>rdap</td>\n",
       "      <td>2004-12-01</td>\n",
       "      <td>1.0</td>\n",
       "    </tr>\n",
       "  </tbody>\n",
       "</table>\n",
       "<p>8144213 rows × 7 columns</p>\n",
       "</div>"
      ],
      "text/plain": [
       "                            domain  iana_id left_mode  left_date right_mode  \\\n",
       "0        omaharoofingandgutter.com      146     whois 2015-04-10       rdap   \n",
       "1                        f4fcz.com       81     whois 2014-06-16      whois   \n",
       "2                      donghyn.com      244     whois 2020-12-26      whois   \n",
       "3                 vintageheavy.com      146     whois 2016-06-13      whois   \n",
       "4                      sdrixin.com      817     whois 2021-02-11      whois   \n",
       "...                            ...      ...       ...        ...        ...   \n",
       "8144208             hello-cuba.net      151      rdap 2017-08-10       rdap   \n",
       "8144209               otsuka.group       -1      rdap 2017-08-03       rdap   \n",
       "8144210          cleantouchpro.com      146      rdap 2020-04-08       rdap   \n",
       "8144211           piperscloset.com      895      rdap 2005-02-08       rdap   \n",
       "8144212                 ellera.com      146      rdap 2004-11-30       rdap   \n",
       "\n",
       "        right_date   delta  \n",
       "0       2015-04-09    -1.0  \n",
       "1       2014-06-15    -1.0  \n",
       "2       2020-12-25    -1.0  \n",
       "3       2016-06-12    -1.0  \n",
       "4       2021-02-12     1.0  \n",
       "...            ...     ...  \n",
       "8144208 2002-05-17 -5564.0  \n",
       "8144209 2017-08-02    -1.0  \n",
       "8144210 2020-04-07    -1.0  \n",
       "8144211 2016-11-14  4297.0  \n",
       "8144212 2004-12-01     1.0  \n",
       "\n",
       "[8144213 rows x 7 columns]"
      ]
     },
     "execution_count": 17,
     "metadata": {},
     "output_type": "execute_result"
    }
   ],
   "source": [
    "reg_missmatches['delta'] = (reg_missmatches['right_date'] - reg_missmatches['left_date']).dt.days\n",
    "reg_missmatches"
   ]
  },
  {
   "cell_type": "code",
   "execution_count": 18,
   "id": "31546ebb-85a3-489b-bf88-10243be129d2",
   "metadata": {},
   "outputs": [
    {
     "data": {
      "text/html": [
       "<div>\n",
       "<style scoped>\n",
       "    .dataframe tbody tr th:only-of-type {\n",
       "        vertical-align: middle;\n",
       "    }\n",
       "\n",
       "    .dataframe tbody tr th {\n",
       "        vertical-align: top;\n",
       "    }\n",
       "\n",
       "    .dataframe thead th {\n",
       "        text-align: right;\n",
       "    }\n",
       "</style>\n",
       "<table border=\"1\" class=\"dataframe\">\n",
       "  <thead>\n",
       "    <tr style=\"text-align: right;\">\n",
       "      <th></th>\n",
       "      <th>domain</th>\n",
       "      <th>iana_id</th>\n",
       "      <th>left_mode</th>\n",
       "      <th>left_date</th>\n",
       "      <th>right_mode</th>\n",
       "      <th>right_date</th>\n",
       "      <th>delta</th>\n",
       "    </tr>\n",
       "  </thead>\n",
       "  <tbody>\n",
       "    <tr>\n",
       "      <th>0</th>\n",
       "      <td>omaharoofingandgutter.com</td>\n",
       "      <td>146</td>\n",
       "      <td>whois</td>\n",
       "      <td>2023-04-10</td>\n",
       "      <td>rdap</td>\n",
       "      <td>2023-04-09</td>\n",
       "      <td>-1.0</td>\n",
       "    </tr>\n",
       "    <tr>\n",
       "      <th>1</th>\n",
       "      <td>holdgain.com</td>\n",
       "      <td>3759</td>\n",
       "      <td>whois</td>\n",
       "      <td>2023-09-22</td>\n",
       "      <td>whois</td>\n",
       "      <td>2023-09-23</td>\n",
       "      <td>1.0</td>\n",
       "    </tr>\n",
       "    <tr>\n",
       "      <th>2</th>\n",
       "      <td>marathonmg.com</td>\n",
       "      <td>146</td>\n",
       "      <td>whois</td>\n",
       "      <td>2023-07-14</td>\n",
       "      <td>rdap</td>\n",
       "      <td>2023-07-13</td>\n",
       "      <td>-1.0</td>\n",
       "    </tr>\n",
       "    <tr>\n",
       "      <th>3</th>\n",
       "      <td>underwaterantics.net</td>\n",
       "      <td>146</td>\n",
       "      <td>whois</td>\n",
       "      <td>2023-04-22</td>\n",
       "      <td>rdap</td>\n",
       "      <td>2023-04-21</td>\n",
       "      <td>-1.0</td>\n",
       "    </tr>\n",
       "    <tr>\n",
       "      <th>4</th>\n",
       "      <td>summerbreezeworld.com</td>\n",
       "      <td>146</td>\n",
       "      <td>whois</td>\n",
       "      <td>2022-12-17</td>\n",
       "      <td>rdap</td>\n",
       "      <td>2022-12-16</td>\n",
       "      <td>-1.0</td>\n",
       "    </tr>\n",
       "    <tr>\n",
       "      <th>...</th>\n",
       "      <td>...</td>\n",
       "      <td>...</td>\n",
       "      <td>...</td>\n",
       "      <td>...</td>\n",
       "      <td>...</td>\n",
       "      <td>...</td>\n",
       "      <td>...</td>\n",
       "    </tr>\n",
       "    <tr>\n",
       "      <th>4964080</th>\n",
       "      <td>xn--rdesheimer-weinbrand-pec.com</td>\n",
       "      <td>1725</td>\n",
       "      <td>rdap</td>\n",
       "      <td>2019-12-14</td>\n",
       "      <td>rdap</td>\n",
       "      <td>2023-12-14</td>\n",
       "      <td>1461.0</td>\n",
       "    </tr>\n",
       "    <tr>\n",
       "      <th>4964081</th>\n",
       "      <td>airomoist.com</td>\n",
       "      <td>463</td>\n",
       "      <td>rdap</td>\n",
       "      <td>2023-03-02</td>\n",
       "      <td>rdap</td>\n",
       "      <td>2023-03-01</td>\n",
       "      <td>-1.0</td>\n",
       "    </tr>\n",
       "    <tr>\n",
       "      <th>4964082</th>\n",
       "      <td>otsuka.group</td>\n",
       "      <td>-1</td>\n",
       "      <td>rdap</td>\n",
       "      <td>2023-08-03</td>\n",
       "      <td>rdap</td>\n",
       "      <td>2023-08-02</td>\n",
       "      <td>-1.0</td>\n",
       "    </tr>\n",
       "    <tr>\n",
       "      <th>4964083</th>\n",
       "      <td>cleantouchpro.com</td>\n",
       "      <td>146</td>\n",
       "      <td>rdap</td>\n",
       "      <td>2023-04-08</td>\n",
       "      <td>rdap</td>\n",
       "      <td>2023-04-07</td>\n",
       "      <td>-1.0</td>\n",
       "    </tr>\n",
       "    <tr>\n",
       "      <th>4964084</th>\n",
       "      <td>ellera.com</td>\n",
       "      <td>146</td>\n",
       "      <td>rdap</td>\n",
       "      <td>2025-11-30</td>\n",
       "      <td>rdap</td>\n",
       "      <td>2025-12-01</td>\n",
       "      <td>1.0</td>\n",
       "    </tr>\n",
       "  </tbody>\n",
       "</table>\n",
       "<p>4964085 rows × 7 columns</p>\n",
       "</div>"
      ],
      "text/plain": [
       "                                   domain  iana_id left_mode  left_date  \\\n",
       "0               omaharoofingandgutter.com      146     whois 2023-04-10   \n",
       "1                            holdgain.com     3759     whois 2023-09-22   \n",
       "2                          marathonmg.com      146     whois 2023-07-14   \n",
       "3                    underwaterantics.net      146     whois 2023-04-22   \n",
       "4                   summerbreezeworld.com      146     whois 2022-12-17   \n",
       "...                                   ...      ...       ...        ...   \n",
       "4964080  xn--rdesheimer-weinbrand-pec.com     1725      rdap 2019-12-14   \n",
       "4964081                     airomoist.com      463      rdap 2023-03-02   \n",
       "4964082                      otsuka.group       -1      rdap 2023-08-03   \n",
       "4964083                 cleantouchpro.com      146      rdap 2023-04-08   \n",
       "4964084                        ellera.com      146      rdap 2025-11-30   \n",
       "\n",
       "        right_mode right_date   delta  \n",
       "0             rdap 2023-04-09    -1.0  \n",
       "1            whois 2023-09-23     1.0  \n",
       "2             rdap 2023-07-13    -1.0  \n",
       "3             rdap 2023-04-21    -1.0  \n",
       "4             rdap 2022-12-16    -1.0  \n",
       "...            ...        ...     ...  \n",
       "4964080       rdap 2023-12-14  1461.0  \n",
       "4964081       rdap 2023-03-01    -1.0  \n",
       "4964082       rdap 2023-08-02    -1.0  \n",
       "4964083       rdap 2023-04-07    -1.0  \n",
       "4964084       rdap 2025-12-01     1.0  \n",
       "\n",
       "[4964085 rows x 7 columns]"
      ]
     },
     "execution_count": 18,
     "metadata": {},
     "output_type": "execute_result"
    }
   ],
   "source": [
    "exp_missmatches['delta'] = (exp_missmatches['right_date'] - exp_missmatches['left_date']).dt.days\n",
    "exp_missmatches"
   ]
  },
  {
   "cell_type": "code",
   "execution_count": 19,
   "id": "dba99415-289b-4c3b-a4b1-7974c30fefc8",
   "metadata": {},
   "outputs": [
    {
     "name": "stdout",
     "output_type": "stream",
     "text": [
      "Detected 8144213 mismatches on Registration Date\n"
     ]
    }
   ],
   "source": [
    "print(f\"Detected {len(reg_missmatches)} mismatches on Registration Date\")"
   ]
  },
  {
   "cell_type": "code",
   "execution_count": 20,
   "id": "de68ec81-0ff2-4878-a10c-cea8cda7d74c",
   "metadata": {},
   "outputs": [
    {
     "name": "stdout",
     "output_type": "stream",
     "text": [
      "Detected 4964085 mismatches on Expiration Date\n"
     ]
    }
   ],
   "source": [
    "print(f\"Detected {len(exp_missmatches)} mismatches on Expiration Date\")"
   ]
  },
  {
   "cell_type": "code",
   "execution_count": 32,
   "id": "f0f1e322-e05a-45d5-87af-06e35c62ea4d",
   "metadata": {},
   "outputs": [
    {
     "name": "stdout",
     "output_type": "stream",
     "text": [
      "Proportion of domains with a Registration Date mismatch: 3138024, 5.705498181818182%\n"
     ]
    }
   ],
   "source": [
    "rm_dom = reg_missmatches['domain'].nunique()\n",
    "print(f\"Proportion of domains with a Registration Date mismatch: {rm_dom}, {rm_dom * 100 / 55_000_000}%\")"
   ]
  },
  {
   "cell_type": "code",
   "execution_count": 33,
   "id": "9de78047-ba0a-4a04-b906-c55524237466",
   "metadata": {},
   "outputs": [
    {
     "name": "stdout",
     "output_type": "stream",
     "text": [
      "Proportion of domains with an Expiration Date mismatch: 2424951, 4.409001818181818%\n"
     ]
    }
   ],
   "source": [
    "em_dom = exp_missmatches['domain'].nunique()\n",
    "print(f\"Proportion of domains with an Expiration Date mismatch: {em_dom}, {em_dom *100 / 55_000_000}%\")"
   ]
  },
  {
   "cell_type": "code",
   "execution_count": 21,
   "id": "cbb918f0-8e66-4ff1-a78e-a701e5b481f1",
   "metadata": {},
   "outputs": [
    {
     "data": {
      "text/html": [
       "<div>\n",
       "<style scoped>\n",
       "    .dataframe tbody tr th:only-of-type {\n",
       "        vertical-align: middle;\n",
       "    }\n",
       "\n",
       "    .dataframe tbody tr th {\n",
       "        vertical-align: top;\n",
       "    }\n",
       "\n",
       "    .dataframe thead th {\n",
       "        text-align: right;\n",
       "    }\n",
       "</style>\n",
       "<table border=\"1\" class=\"dataframe\">\n",
       "  <thead>\n",
       "    <tr style=\"text-align: right;\">\n",
       "      <th></th>\n",
       "      <th>delta</th>\n",
       "      <th>proportion</th>\n",
       "      <th>cumulated</th>\n",
       "    </tr>\n",
       "  </thead>\n",
       "  <tbody>\n",
       "    <tr>\n",
       "      <th>0</th>\n",
       "      <td>-87975.0</td>\n",
       "      <td>1.231084e-07</td>\n",
       "      <td>1.231084e-07</td>\n",
       "    </tr>\n",
       "    <tr>\n",
       "      <th>1</th>\n",
       "      <td>-87743.0</td>\n",
       "      <td>1.231084e-07</td>\n",
       "      <td>2.462168e-07</td>\n",
       "    </tr>\n",
       "    <tr>\n",
       "      <th>2</th>\n",
       "      <td>-86736.0</td>\n",
       "      <td>1.231084e-07</td>\n",
       "      <td>3.693252e-07</td>\n",
       "    </tr>\n",
       "    <tr>\n",
       "      <th>3</th>\n",
       "      <td>-82114.0</td>\n",
       "      <td>1.231084e-07</td>\n",
       "      <td>4.924336e-07</td>\n",
       "    </tr>\n",
       "    <tr>\n",
       "      <th>4</th>\n",
       "      <td>-80202.0</td>\n",
       "      <td>1.231084e-07</td>\n",
       "      <td>6.155420e-07</td>\n",
       "    </tr>\n",
       "    <tr>\n",
       "      <th>...</th>\n",
       "      <td>...</td>\n",
       "      <td>...</td>\n",
       "      <td>...</td>\n",
       "    </tr>\n",
       "    <tr>\n",
       "      <th>17892</th>\n",
       "      <td>88618.0</td>\n",
       "      <td>2.462168e-07</td>\n",
       "      <td>9.999990e-01</td>\n",
       "    </tr>\n",
       "    <tr>\n",
       "      <th>17893</th>\n",
       "      <td>89039.0</td>\n",
       "      <td>2.462168e-07</td>\n",
       "      <td>9.999993e-01</td>\n",
       "    </tr>\n",
       "    <tr>\n",
       "      <th>17894</th>\n",
       "      <td>90243.0</td>\n",
       "      <td>2.462168e-07</td>\n",
       "      <td>9.999995e-01</td>\n",
       "    </tr>\n",
       "    <tr>\n",
       "      <th>17895</th>\n",
       "      <td>90548.0</td>\n",
       "      <td>2.462168e-07</td>\n",
       "      <td>9.999998e-01</td>\n",
       "    </tr>\n",
       "    <tr>\n",
       "      <th>17896</th>\n",
       "      <td>91616.0</td>\n",
       "      <td>2.462168e-07</td>\n",
       "      <td>1.000000e+00</td>\n",
       "    </tr>\n",
       "  </tbody>\n",
       "</table>\n",
       "<p>17897 rows × 3 columns</p>\n",
       "</div>"
      ],
      "text/plain": [
       "         delta    proportion     cumulated\n",
       "0     -87975.0  1.231084e-07  1.231084e-07\n",
       "1     -87743.0  1.231084e-07  2.462168e-07\n",
       "2     -86736.0  1.231084e-07  3.693252e-07\n",
       "3     -82114.0  1.231084e-07  4.924336e-07\n",
       "4     -80202.0  1.231084e-07  6.155420e-07\n",
       "...        ...           ...           ...\n",
       "17892  88618.0  2.462168e-07  9.999990e-01\n",
       "17893  89039.0  2.462168e-07  9.999993e-01\n",
       "17894  90243.0  2.462168e-07  9.999995e-01\n",
       "17895  90548.0  2.462168e-07  9.999998e-01\n",
       "17896  91616.0  2.462168e-07  1.000000e+00\n",
       "\n",
       "[17897 rows x 3 columns]"
      ]
     },
     "execution_count": 21,
     "metadata": {},
     "output_type": "execute_result"
    }
   ],
   "source": [
    "r_deltas = reg_missmatches['delta'].value_counts(normalize=True).sort_index()\n",
    "r_deltas = r_deltas.to_frame(name=\"proportion\").reset_index(names='delta')\n",
    "r_deltas['cumulated'] = r_deltas['proportion'].cumsum()\n",
    "r_deltas"
   ]
  },
  {
   "cell_type": "code",
   "execution_count": 22,
   "id": "7e64789c-aef0-45a8-81b0-7b63f9aa4118",
   "metadata": {},
   "outputs": [
    {
     "data": {
      "text/html": [
       "<div>\n",
       "<style scoped>\n",
       "    .dataframe tbody tr th:only-of-type {\n",
       "        vertical-align: middle;\n",
       "    }\n",
       "\n",
       "    .dataframe tbody tr th {\n",
       "        vertical-align: top;\n",
       "    }\n",
       "\n",
       "    .dataframe thead th {\n",
       "        text-align: right;\n",
       "    }\n",
       "</style>\n",
       "<table border=\"1\" class=\"dataframe\">\n",
       "  <thead>\n",
       "    <tr style=\"text-align: right;\">\n",
       "      <th></th>\n",
       "      <th>delta</th>\n",
       "      <th>proportion</th>\n",
       "      <th>cumulated</th>\n",
       "    </tr>\n",
       "  </thead>\n",
       "  <tbody>\n",
       "    <tr>\n",
       "      <th>0</th>\n",
       "      <td>-86179.0</td>\n",
       "      <td>2.016313e-07</td>\n",
       "      <td>2.016313e-07</td>\n",
       "    </tr>\n",
       "    <tr>\n",
       "      <th>1</th>\n",
       "      <td>-61710.0</td>\n",
       "      <td>2.016313e-07</td>\n",
       "      <td>4.032626e-07</td>\n",
       "    </tr>\n",
       "    <tr>\n",
       "      <th>2</th>\n",
       "      <td>-58703.0</td>\n",
       "      <td>2.016313e-07</td>\n",
       "      <td>6.048938e-07</td>\n",
       "    </tr>\n",
       "    <tr>\n",
       "      <th>3</th>\n",
       "      <td>-54046.0</td>\n",
       "      <td>2.016313e-07</td>\n",
       "      <td>8.065251e-07</td>\n",
       "    </tr>\n",
       "    <tr>\n",
       "      <th>4</th>\n",
       "      <td>-44779.0</td>\n",
       "      <td>2.016313e-07</td>\n",
       "      <td>1.008156e-06</td>\n",
       "    </tr>\n",
       "    <tr>\n",
       "      <th>...</th>\n",
       "      <td>...</td>\n",
       "      <td>...</td>\n",
       "      <td>...</td>\n",
       "    </tr>\n",
       "    <tr>\n",
       "      <th>1023</th>\n",
       "      <td>81115.0</td>\n",
       "      <td>4.032626e-07</td>\n",
       "      <td>9.999986e-01</td>\n",
       "    </tr>\n",
       "    <tr>\n",
       "      <th>1024</th>\n",
       "      <td>82314.0</td>\n",
       "      <td>4.032626e-07</td>\n",
       "      <td>9.999990e-01</td>\n",
       "    </tr>\n",
       "    <tr>\n",
       "      <th>1025</th>\n",
       "      <td>83301.0</td>\n",
       "      <td>4.032626e-07</td>\n",
       "      <td>9.999994e-01</td>\n",
       "    </tr>\n",
       "    <tr>\n",
       "      <th>1026</th>\n",
       "      <td>85481.0</td>\n",
       "      <td>4.032626e-07</td>\n",
       "      <td>9.999998e-01</td>\n",
       "    </tr>\n",
       "    <tr>\n",
       "      <th>1027</th>\n",
       "      <td>86179.0</td>\n",
       "      <td>2.016313e-07</td>\n",
       "      <td>1.000000e+00</td>\n",
       "    </tr>\n",
       "  </tbody>\n",
       "</table>\n",
       "<p>1028 rows × 3 columns</p>\n",
       "</div>"
      ],
      "text/plain": [
       "        delta    proportion     cumulated\n",
       "0    -86179.0  2.016313e-07  2.016313e-07\n",
       "1    -61710.0  2.016313e-07  4.032626e-07\n",
       "2    -58703.0  2.016313e-07  6.048938e-07\n",
       "3    -54046.0  2.016313e-07  8.065251e-07\n",
       "4    -44779.0  2.016313e-07  1.008156e-06\n",
       "...       ...           ...           ...\n",
       "1023  81115.0  4.032626e-07  9.999986e-01\n",
       "1024  82314.0  4.032626e-07  9.999990e-01\n",
       "1025  83301.0  4.032626e-07  9.999994e-01\n",
       "1026  85481.0  4.032626e-07  9.999998e-01\n",
       "1027  86179.0  2.016313e-07  1.000000e+00\n",
       "\n",
       "[1028 rows x 3 columns]"
      ]
     },
     "execution_count": 22,
     "metadata": {},
     "output_type": "execute_result"
    }
   ],
   "source": [
    "e_deltas = exp_missmatches['delta'].value_counts(normalize=True).sort_index()\n",
    "e_deltas = e_deltas.to_frame(name=\"proportion\").reset_index(names='delta')\n",
    "e_deltas['cumulated'] = e_deltas['proportion'].cumsum()\n",
    "e_deltas"
   ]
  },
  {
   "cell_type": "code",
   "execution_count": 23,
   "id": "5e440080-e741-477a-a4e9-41484f3eb535",
   "metadata": {},
   "outputs": [
    {
     "data": {
      "text/html": [
       "<div>\n",
       "<style scoped>\n",
       "    .dataframe tbody tr th:only-of-type {\n",
       "        vertical-align: middle;\n",
       "    }\n",
       "\n",
       "    .dataframe tbody tr th {\n",
       "        vertical-align: top;\n",
       "    }\n",
       "\n",
       "    .dataframe thead th {\n",
       "        text-align: right;\n",
       "    }\n",
       "</style>\n",
       "<table border=\"1\" class=\"dataframe\">\n",
       "  <thead>\n",
       "    <tr style=\"text-align: right;\">\n",
       "      <th></th>\n",
       "      <th>delta</th>\n",
       "      <th>proportion</th>\n",
       "      <th>cumulated</th>\n",
       "      <th>event</th>\n",
       "    </tr>\n",
       "  </thead>\n",
       "  <tbody>\n",
       "    <tr>\n",
       "      <th>0</th>\n",
       "      <td>-86179.0</td>\n",
       "      <td>2.016313e-07</td>\n",
       "      <td>2.016313e-07</td>\n",
       "      <td>Expiration</td>\n",
       "    </tr>\n",
       "    <tr>\n",
       "      <th>1</th>\n",
       "      <td>-61710.0</td>\n",
       "      <td>2.016313e-07</td>\n",
       "      <td>4.032626e-07</td>\n",
       "      <td>Expiration</td>\n",
       "    </tr>\n",
       "    <tr>\n",
       "      <th>2</th>\n",
       "      <td>-58703.0</td>\n",
       "      <td>2.016313e-07</td>\n",
       "      <td>6.048938e-07</td>\n",
       "      <td>Expiration</td>\n",
       "    </tr>\n",
       "    <tr>\n",
       "      <th>3</th>\n",
       "      <td>-54046.0</td>\n",
       "      <td>2.016313e-07</td>\n",
       "      <td>8.065251e-07</td>\n",
       "      <td>Expiration</td>\n",
       "    </tr>\n",
       "    <tr>\n",
       "      <th>4</th>\n",
       "      <td>-44779.0</td>\n",
       "      <td>2.016313e-07</td>\n",
       "      <td>1.008156e-06</td>\n",
       "      <td>Expiration</td>\n",
       "    </tr>\n",
       "    <tr>\n",
       "      <th>...</th>\n",
       "      <td>...</td>\n",
       "      <td>...</td>\n",
       "      <td>...</td>\n",
       "      <td>...</td>\n",
       "    </tr>\n",
       "    <tr>\n",
       "      <th>17892</th>\n",
       "      <td>88618.0</td>\n",
       "      <td>2.462168e-07</td>\n",
       "      <td>9.999990e-01</td>\n",
       "      <td>Registration</td>\n",
       "    </tr>\n",
       "    <tr>\n",
       "      <th>17893</th>\n",
       "      <td>89039.0</td>\n",
       "      <td>2.462168e-07</td>\n",
       "      <td>9.999993e-01</td>\n",
       "      <td>Registration</td>\n",
       "    </tr>\n",
       "    <tr>\n",
       "      <th>17894</th>\n",
       "      <td>90243.0</td>\n",
       "      <td>2.462168e-07</td>\n",
       "      <td>9.999995e-01</td>\n",
       "      <td>Registration</td>\n",
       "    </tr>\n",
       "    <tr>\n",
       "      <th>17895</th>\n",
       "      <td>90548.0</td>\n",
       "      <td>2.462168e-07</td>\n",
       "      <td>9.999998e-01</td>\n",
       "      <td>Registration</td>\n",
       "    </tr>\n",
       "    <tr>\n",
       "      <th>17896</th>\n",
       "      <td>91616.0</td>\n",
       "      <td>2.462168e-07</td>\n",
       "      <td>1.000000e+00</td>\n",
       "      <td>Registration</td>\n",
       "    </tr>\n",
       "  </tbody>\n",
       "</table>\n",
       "<p>18925 rows × 4 columns</p>\n",
       "</div>"
      ],
      "text/plain": [
       "         delta    proportion     cumulated         event\n",
       "0     -86179.0  2.016313e-07  2.016313e-07    Expiration\n",
       "1     -61710.0  2.016313e-07  4.032626e-07    Expiration\n",
       "2     -58703.0  2.016313e-07  6.048938e-07    Expiration\n",
       "3     -54046.0  2.016313e-07  8.065251e-07    Expiration\n",
       "4     -44779.0  2.016313e-07  1.008156e-06    Expiration\n",
       "...        ...           ...           ...           ...\n",
       "17892  88618.0  2.462168e-07  9.999990e-01  Registration\n",
       "17893  89039.0  2.462168e-07  9.999993e-01  Registration\n",
       "17894  90243.0  2.462168e-07  9.999995e-01  Registration\n",
       "17895  90548.0  2.462168e-07  9.999998e-01  Registration\n",
       "17896  91616.0  2.462168e-07  1.000000e+00  Registration\n",
       "\n",
       "[18925 rows x 4 columns]"
      ]
     },
     "execution_count": 23,
     "metadata": {},
     "output_type": "execute_result"
    }
   ],
   "source": [
    "e_deltas['event'] = \"Expiration\"\n",
    "r_deltas['event'] = \"Registration\"\n",
    "deltas = pd.concat([e_deltas, r_deltas])\n",
    "deltas"
   ]
  },
  {
   "cell_type": "code",
   "execution_count": 27,
   "id": "428e21ef-6114-4e38-b21a-afc23bbef414",
   "metadata": {},
   "outputs": [
    {
     "name": "stderr",
     "output_type": "stream",
     "text": [
      "/opt/conda/lib/python3.10/site-packages/rpy2/robjects/pandas2ri.py:54: FutureWarning: iteritems is deprecated and will be removed in a future version. Use .items instead.\n",
      "  for name, values in obj.iteritems():\n"
     ]
    },
    {
     "data": {
      "image/png": "[encoded data removed]"
     },
     "metadata": {},
     "output_type": "display_data"
    }
   ],
   "source": [
    "%%R -i deltas\n",
    "ggplot(data=deltas, aes(x=delta, y=cumulated, linetype=event)) +\n",
    "    geom_line() +\n",
    "    xlim(-15, 15) +\n",
    "    xlab(\"delta (days)\") +\n",
    "    ylab(\"domain share\") +\n",
    "    theme_bw()\n",
    "    \n",
    "ggsave('../article/figs/creation_expiration_time.pdf', units=\"in\", width= 3.3, height=1.5)\n",
    "last_plot()"
   ]
  },
  {
   "cell_type": "code",
   "execution_count": 40,
   "id": "d1e6ddc9-fab4-4e72-b679-5dee1ae950c0",
   "metadata": {},
   "outputs": [
    {
     "name": "stdout",
     "output_type": "stream",
     "text": [
      "0.9780338853460031\n",
      "0.8357530701390459\n"
     ]
    }
   ],
   "source": [
    "print(e_deltas[abs(e_deltas.delta) < 370]['proportion'].sum() )\n",
    "print(r_deltas[abs(r_deltas.delta) < 10]['proportion'].sum() )"
   ]
  },
  {
   "cell_type": "markdown",
   "id": "73b8a320-3b09-480d-8ea8-fcb0cd2528bb",
   "metadata": {
    "jp-MarkdownHeadingCollapsed": true,
    "tags": []
   },
   "source": [
    "### Nameservers"
   ]
  },
  {
   "cell_type": "markdown",
   "id": "25d9d8ce-46ac-40c9-bd8b-b88de5959907",
   "metadata": {},
   "source": [
    "Number of unique domains with a NS missmatch"
   ]
  },
  {
   "cell_type": "code",
   "execution_count": 6,
   "id": "70ff3355-cd37-41f9-9733-803b9798a9a6",
   "metadata": {},
   "outputs": [
    {
     "data": {
      "text/plain": [
       "[(576204,)]"
      ]
     },
     "execution_count": 6,
     "metadata": {},
     "output_type": "execute_result"
    }
   ],
   "source": [
    "missmatch_cur.execute(\"SELECT COUNT(DISTINCT(domain)) FROM nameservers\")\n",
    "missmatch_cur.fetchall()"
   ]
  },
  {
   "cell_type": "markdown",
   "id": "5cce2808-cd5e-4ce5-82aa-52ee598050bf",
   "metadata": {},
   "source": [
    "The different missmatching possibilities:\n",
    "\n",
    "- $Left \\subset Right$ : Left is a subset of Right\n",
    "- $Left \\supset Right$ : Right is a subset of Left\n",
    "- $Left \\cap Right \\neq \\emptyset$ : Left and Right do not match but they have servers in common\n",
    "- $Left \\cap Right = \\emptyset$ : Left and Right have nothing in common"
   ]
  },
  {
   "cell_type": "code",
   "execution_count": 6,
   "id": "fed8dbe6-fa65-47f4-88cf-9670f18b9d0d",
   "metadata": {},
   "outputs": [],
   "source": [
    "import pandas as pd\n",
    "\n",
    "missmatch_cur.execute(\"SELECT nameservers.domain, l.mode, nameservers.left_val, r.mode, nameservers.right_val \"\n",
    "                             \"FROM nameservers \"\n",
    "                             \"JOIN source.parsed AS l ON nameservers.left_id=l.rowid \"\n",
    "                             \"JOIN source.parsed AS r ON nameservers.right_id=r.rowid\")\n",
    "\n",
    "ns_missmatches = pd.DataFrame(missmatch_cur.fetchall(), columns=['domain', 'left_mode', 'left_ns', 'right_mode', 'right_ns'])"
   ]
  },
  {
   "cell_type": "code",
   "execution_count": 7,
   "id": "9756f751-13c2-437d-8277-158929305aa1",
   "metadata": {},
   "outputs": [],
   "source": [
    "def missmatch_case(ns1, ns2):\n",
    "    ns1 = set(ns1.split(','))\n",
    "    ns2 = set(ns2.split(','))\n",
    "    \n",
    "    if ns1 == ns2:\n",
    "        # This should not happend, but just in case...\n",
    "        return \"Equal\"\n",
    "    elif ns1.issubset(ns2):\n",
    "        return \"LeftSubRight\"\n",
    "    elif ns2.issubset(ns1):\n",
    "        return \"RightSubLeft\"\n",
    "    elif not ns1.isdisjoint(ns2):\n",
    "        return \"Intersect\"\n",
    "    else:\n",
    "        return \"Disjoint\"\n",
    "    \n",
    "\n",
    "ns_missmatches['match_case'] = ns_missmatches.apply(lambda row: missmatch_case(row['left_ns'], row['right_ns']), axis=1)"
   ]
  },
  {
   "cell_type": "code",
   "execution_count": 21,
   "id": "c08707c9-78ea-42a1-b3eb-f4cc7aa71d14",
   "metadata": {},
   "outputs": [
    {
     "name": "stdout",
     "output_type": "stream",
     "text": [
      "match_case\n",
      "Disjoint         680942\n",
      "RightSubLeft     274864\n",
      "Intersect         48693\n",
      "LeftSubRight      39769\n",
      "Total           1044268\n",
      "Inclusion        314633\n",
      "dtype: int64\n",
      "match_case\n",
      "Disjoint         65.207590\n",
      "RightSubLeft     26.321213\n",
      "Intersect         4.662883\n",
      "LeftSubRight      3.808314\n",
      "Total           100.000000\n",
      "Inclusion        30.129526\n",
      "dtype: float64\n"
     ]
    }
   ],
   "source": [
    "by_case = ns_missmatches.value_counts('match_case')\n",
    "by_case['Total'] = by_case.sum()\n",
    "by_case['Inclusion'] = by_case['RightSubLeft'] + by_case['LeftSubRight']\n",
    "print(by_case)\n",
    "print(by_case * 100 / by_case['Total'])"
   ]
  },
  {
   "cell_type": "code",
   "execution_count": 23,
   "id": "5e1f218c-f5c4-497b-a830-cf9cceafa25d",
   "metadata": {},
   "outputs": [
    {
     "name": "stdout",
     "output_type": "stream",
     "text": [
      "match_case\n",
      "Disjoint        343994\n",
      "Intersect        23934\n",
      "LeftSubRight     24928\n",
      "RightSubLeft    199905\n",
      "Total           573790\n",
      "Inclusion       224833\n",
      "Name: domain, dtype: int64\n",
      "match_case\n",
      "Disjoint         59.951202\n",
      "Intersect         4.171212\n",
      "LeftSubRight      4.344447\n",
      "RightSubLeft     34.839401\n",
      "Total           100.000000\n",
      "Inclusion        39.183848\n",
      "Name: domain, dtype: float64\n"
     ]
    }
   ],
   "source": [
    "by_case = ns_missmatches.groupby('match_case')['domain'].nunique()\n",
    "by_case['Total'] = ns_missmatches['domain'].nunique()\n",
    "by_case['Inclusion'] = by_case['RightSubLeft'] + by_case['LeftSubRight']\n",
    "print(by_case)\n",
    "print(by_case * 100 / by_case['Total'])"
   ]
  },
  {
   "cell_type": "code",
   "execution_count": 8,
   "id": "6c26e3a4-c9a2-4968-8039-ba8ca9048a51",
   "metadata": {},
   "outputs": [
    {
     "data": {
      "text/plain": [
       "left_mode  right_mode\n",
       "whois      rdap          705956\n",
       "rdap       rdap          177801\n",
       "whois      whois         160511\n",
       "dtype: int64"
      ]
     },
     "execution_count": 8,
     "metadata": {},
     "output_type": "execute_result"
    }
   ],
   "source": [
    "by_mode = ns_missmatches.value_counts(['left_mode', 'right_mode'])\n",
    "by_mode"
   ]
  },
  {
   "cell_type": "code",
   "execution_count": 9,
   "id": "5a562136-4cef-4fb2-be3e-46cfa4f8cdbe",
   "metadata": {},
   "outputs": [
    {
     "data": {
      "text/plain": [
       "left_mode  right_mode\n",
       "whois      rdap          67.602952\n",
       "rdap       rdap          17.026376\n",
       "whois      whois         15.370671\n",
       "dtype: float64"
      ]
     },
     "execution_count": 9,
     "metadata": {},
     "output_type": "execute_result"
    }
   ],
   "source": [
    "by_mode * 100 / by_mode.sum()"
   ]
  },
  {
   "cell_type": "markdown",
   "id": "3ff0b433-24fe-4088-aba9-2b1e979df5c7",
   "metadata": {
    "tags": []
   },
   "source": [
    "### Mails"
   ]
  },
  {
   "cell_type": "code",
   "execution_count": 4,
   "id": "59f461d0-6e0e-4f10-9a56-b0035269f653",
   "metadata": {},
   "outputs": [
    {
     "data": {
      "text/html": [
       "<div>\n",
       "<style scoped>\n",
       "    .dataframe tbody tr th:only-of-type {\n",
       "        vertical-align: middle;\n",
       "    }\n",
       "\n",
       "    .dataframe tbody tr th {\n",
       "        vertical-align: top;\n",
       "    }\n",
       "\n",
       "    .dataframe thead th {\n",
       "        text-align: right;\n",
       "    }\n",
       "</style>\n",
       "<table border=\"1\" class=\"dataframe\">\n",
       "  <thead>\n",
       "    <tr style=\"text-align: right;\">\n",
       "      <th></th>\n",
       "      <th>domain</th>\n",
       "      <th>left_mode</th>\n",
       "      <th>left_mail</th>\n",
       "      <th>right_mode</th>\n",
       "      <th>right_mail</th>\n",
       "    </tr>\n",
       "  </thead>\n",
       "  <tbody>\n",
       "    <tr>\n",
       "      <th>0</th>\n",
       "      <td>csprogresso.com</td>\n",
       "      <td>whois</td>\n",
       "      <td>abuse@gmo.jp</td>\n",
       "      <td>whois</td>\n",
       "      <td>abuse@gmo.jp,reg-domain@nttbiz.jp</td>\n",
       "    </tr>\n",
       "    <tr>\n",
       "      <th>1</th>\n",
       "      <td>organicbeautyvixen.com</td>\n",
       "      <td>whois</td>\n",
       "      <td>support@namebright.com</td>\n",
       "      <td>whois</td>\n",
       "      <td>abuse@namebright.com,domains@hugedomains.com</td>\n",
       "    </tr>\n",
       "    <tr>\n",
       "      <th>2</th>\n",
       "      <td>hmznz.com</td>\n",
       "      <td>whois</td>\n",
       "      <td>rtr-security-threats@realtimeregister.com</td>\n",
       "      <td>whois</td>\n",
       "      <td>complaint@gname.com</td>\n",
       "    </tr>\n",
       "    <tr>\n",
       "      <th>3</th>\n",
       "      <td>dhanishthanidhi.com</td>\n",
       "      <td>whois</td>\n",
       "      <td>abuse-contact@publicdomainregistry.com</td>\n",
       "      <td>whois</td>\n",
       "      <td>abuse-contact@publicdomainregistry.com,akatiya...</td>\n",
       "    </tr>\n",
       "    <tr>\n",
       "      <th>4</th>\n",
       "      <td>dhanishthanidhi.com</td>\n",
       "      <td>whois</td>\n",
       "      <td>abuse-contact@publicdomainregistry.com</td>\n",
       "      <td>whois</td>\n",
       "      <td>abuse-contact@publicdomainregistry.com,akatiya...</td>\n",
       "    </tr>\n",
       "  </tbody>\n",
       "</table>\n",
       "</div>"
      ],
      "text/plain": [
       "                   domain left_mode  \\\n",
       "0         csprogresso.com     whois   \n",
       "1  organicbeautyvixen.com     whois   \n",
       "2               hmznz.com     whois   \n",
       "3     dhanishthanidhi.com     whois   \n",
       "4     dhanishthanidhi.com     whois   \n",
       "\n",
       "                                   left_mail right_mode  \\\n",
       "0                               abuse@gmo.jp      whois   \n",
       "1                     support@namebright.com      whois   \n",
       "2  rtr-security-threats@realtimeregister.com      whois   \n",
       "3     abuse-contact@publicdomainregistry.com      whois   \n",
       "4     abuse-contact@publicdomainregistry.com      whois   \n",
       "\n",
       "                                          right_mail  \n",
       "0                  abuse@gmo.jp,reg-domain@nttbiz.jp  \n",
       "1       abuse@namebright.com,domains@hugedomains.com  \n",
       "2                                complaint@gname.com  \n",
       "3  abuse-contact@publicdomainregistry.com,akatiya...  \n",
       "4  abuse-contact@publicdomainregistry.com,akatiya...  "
      ]
     },
     "execution_count": 4,
     "metadata": {},
     "output_type": "execute_result"
    }
   ],
   "source": [
    "import pandas as pd\n",
    "\n",
    "#missmatch_cur.execute(\"SELECT emails.domain, l.mode, emails.left_val, r.mode, emails.right_val \"\n",
    "#                             \"FROM emails \"\n",
    "#                             \"JOIN source.parsed AS l ON emails.left_id=l.rowid \"\n",
    "#                             \"JOIN source.parsed AS r ON emails.right_id=r.rowid\")\n",
    "\n",
    "#mail_missmatches = pd.DataFrame(missmatch_cur.fetchall(), columns=['domain', 'left_mode', 'left_mail', 'right_mode', 'right_mail'])\n",
    "mail_missmatches = pd.read_csv('../data/scans/22_12_05/mails.csv', sep='|', names=['domain', 'left_mode', 'left_mail', 'right_mode', 'right_mail'],\n",
    "                              dtype={'domain': 'str', 'left_mode': 'str', 'left_mail':'str', 'right_mode':'str', 'right_mail':'str'})\n",
    "mail_missmatches.head()"
   ]
  },
  {
   "cell_type": "code",
   "execution_count": 5,
   "id": "ae9fd7ff-7f22-4693-b4bd-d2546b87395b",
   "metadata": {},
   "outputs": [],
   "source": [
    "mail_missmatches.fillna('', inplace=True)"
   ]
  },
  {
   "cell_type": "code",
   "execution_count": 6,
   "id": "08f03a9e-7f5a-4746-a101-f0897ee31241",
   "metadata": {},
   "outputs": [
    {
     "data": {
      "text/html": [
       "<div>\n",
       "<style scoped>\n",
       "    .dataframe tbody tr th:only-of-type {\n",
       "        vertical-align: middle;\n",
       "    }\n",
       "\n",
       "    .dataframe tbody tr th {\n",
       "        vertical-align: top;\n",
       "    }\n",
       "\n",
       "    .dataframe thead th {\n",
       "        text-align: right;\n",
       "    }\n",
       "</style>\n",
       "<table border=\"1\" class=\"dataframe\">\n",
       "  <thead>\n",
       "    <tr style=\"text-align: right;\">\n",
       "      <th></th>\n",
       "      <th>domain</th>\n",
       "      <th>left_mode</th>\n",
       "      <th>left_mail</th>\n",
       "      <th>right_mode</th>\n",
       "      <th>right_mail</th>\n",
       "      <th>match_case</th>\n",
       "      <th>domain_match_case</th>\n",
       "    </tr>\n",
       "  </thead>\n",
       "  <tbody>\n",
       "    <tr>\n",
       "      <th>0</th>\n",
       "      <td>csprogresso.com</td>\n",
       "      <td>whois</td>\n",
       "      <td>abuse@gmo.jp</td>\n",
       "      <td>whois</td>\n",
       "      <td>abuse@gmo.jp,reg-domain@nttbiz.jp</td>\n",
       "      <td>Inclusion</td>\n",
       "      <td>Inclusion</td>\n",
       "    </tr>\n",
       "    <tr>\n",
       "      <th>1</th>\n",
       "      <td>organicbeautyvixen.com</td>\n",
       "      <td>whois</td>\n",
       "      <td>support@namebright.com</td>\n",
       "      <td>whois</td>\n",
       "      <td>abuse@namebright.com,domains@hugedomains.com</td>\n",
       "      <td>Disjoint</td>\n",
       "      <td>Inclusion</td>\n",
       "    </tr>\n",
       "    <tr>\n",
       "      <th>2</th>\n",
       "      <td>hmznz.com</td>\n",
       "      <td>whois</td>\n",
       "      <td>rtr-security-threats@realtimeregister.com</td>\n",
       "      <td>whois</td>\n",
       "      <td>complaint@gname.com</td>\n",
       "      <td>Disjoint</td>\n",
       "      <td>Disjoint</td>\n",
       "    </tr>\n",
       "    <tr>\n",
       "      <th>3</th>\n",
       "      <td>dhanishthanidhi.com</td>\n",
       "      <td>whois</td>\n",
       "      <td>abuse-contact@publicdomainregistry.com</td>\n",
       "      <td>whois</td>\n",
       "      <td>abuse-contact@publicdomainregistry.com,akatiya...</td>\n",
       "      <td>Inclusion</td>\n",
       "      <td>Inclusion</td>\n",
       "    </tr>\n",
       "    <tr>\n",
       "      <th>4</th>\n",
       "      <td>dhanishthanidhi.com</td>\n",
       "      <td>whois</td>\n",
       "      <td>abuse-contact@publicdomainregistry.com</td>\n",
       "      <td>whois</td>\n",
       "      <td>abuse-contact@publicdomainregistry.com,akatiya...</td>\n",
       "      <td>Inclusion</td>\n",
       "      <td>Inclusion</td>\n",
       "    </tr>\n",
       "  </tbody>\n",
       "</table>\n",
       "</div>"
      ],
      "text/plain": [
       "                   domain left_mode  \\\n",
       "0         csprogresso.com     whois   \n",
       "1  organicbeautyvixen.com     whois   \n",
       "2               hmznz.com     whois   \n",
       "3     dhanishthanidhi.com     whois   \n",
       "4     dhanishthanidhi.com     whois   \n",
       "\n",
       "                                   left_mail right_mode  \\\n",
       "0                               abuse@gmo.jp      whois   \n",
       "1                     support@namebright.com      whois   \n",
       "2  rtr-security-threats@realtimeregister.com      whois   \n",
       "3     abuse-contact@publicdomainregistry.com      whois   \n",
       "4     abuse-contact@publicdomainregistry.com      whois   \n",
       "\n",
       "                                          right_mail match_case  \\\n",
       "0                  abuse@gmo.jp,reg-domain@nttbiz.jp  Inclusion   \n",
       "1       abuse@namebright.com,domains@hugedomains.com   Disjoint   \n",
       "2                                complaint@gname.com   Disjoint   \n",
       "3  abuse-contact@publicdomainregistry.com,akatiya...  Inclusion   \n",
       "4  abuse-contact@publicdomainregistry.com,akatiya...  Inclusion   \n",
       "\n",
       "  domain_match_case  \n",
       "0         Inclusion  \n",
       "1         Inclusion  \n",
       "2          Disjoint  \n",
       "3         Inclusion  \n",
       "4         Inclusion  "
      ]
     },
     "execution_count": 6,
     "metadata": {},
     "output_type": "execute_result"
    }
   ],
   "source": [
    "def missmatch_case(m1, m2, only_domain=False):\n",
    "    if only_domain:\n",
    "        # Remove the part before the @, to avoid detecting the \"hidden for privacy\" proxies\n",
    "        m1 = set(m.split('@')[1] for m in m1.split(',') if '@' in m)\n",
    "        m2 = set(m.split('@')[1] for m in m2.split(',') if '@' in m)\n",
    "    else:\n",
    "        m1 = set(m for m in m1.split(',') if '@' in m)\n",
    "        m2 = set(m for m in m2.split(',') if '@' in m)\n",
    "    \n",
    "    \n",
    "    if m1 == m2:\n",
    "        # This should not happend, but just in case...\n",
    "        return \"Equal\"\n",
    "    elif m1.issubset(m2) or m2.issubset(m1):\n",
    "        return \"Inclusion\"\n",
    "    elif not m1.isdisjoint(m2):\n",
    "        return \"Intersect\"\n",
    "    else:\n",
    "        return \"Disjoint\"\n",
    "\n",
    "\n",
    "mail_missmatches['match_case'] = mail_missmatches.apply(lambda row: missmatch_case(row['left_mail'], row['right_mail']), axis=1)\n",
    "mail_missmatches['domain_match_case'] = mail_missmatches.apply(lambda row: missmatch_case(row['left_mail'], row['right_mail'], only_domain=True), axis=1)\n",
    "\n",
    "mail_missmatches.head()"
   ]
  },
  {
   "cell_type": "code",
   "execution_count": 7,
   "id": "3808db93-1020-4d4c-80cc-33606f341121",
   "metadata": {},
   "outputs": [
    {
     "name": "stdout",
     "output_type": "stream",
     "text": [
      "Counting the different cases of intersection\n",
      "match_case\n",
      "Disjoint      4924766\n",
      "Equal               3\n",
      "Inclusion    15124483\n",
      "Intersect      557491\n",
      "Total        18958820\n",
      "Name: domain, dtype: int64\n",
      "match_case\n",
      "Disjoint      25.976121\n",
      "Equal          0.000016\n",
      "Inclusion     79.775445\n",
      "Intersect      2.940536\n",
      "Total        100.000000\n",
      "Name: domain, dtype: float64\n"
     ]
    }
   ],
   "source": [
    "print(\"Counting the different cases of intersection\")\n",
    "cases = mail_missmatches.groupby('match_case')['domain'].nunique()\n",
    "cases['Total'] = mail_missmatches['domain'].nunique()\n",
    "print(cases)\n",
    "print(cases * 100 / cases['Total'])"
   ]
  },
  {
   "cell_type": "code",
   "execution_count": 8,
   "id": "71107ac5-0672-423a-84f8-f763df1a07a3",
   "metadata": {},
   "outputs": [
    {
     "name": "stdout",
     "output_type": "stream",
     "text": [
      "domain_match_case\n",
      "Disjoint      2019860\n",
      "Equal         4058613\n",
      "Inclusion    14543230\n",
      "Intersect      232488\n",
      "Total        18958820\n",
      "Name: domain, dtype: int64\n",
      "domain_match_case\n",
      "Disjoint      10.653933\n",
      "Equal         21.407519\n",
      "Inclusion     76.709574\n",
      "Intersect      1.226279\n",
      "Total        100.000000\n",
      "Name: domain, dtype: float64\n"
     ]
    }
   ],
   "source": [
    "cases = mail_missmatches.groupby('domain_match_case')['domain'].nunique()\n",
    "cases['Total'] = mail_missmatches['domain'].nunique()\n",
    "print(cases)\n",
    "print(cases*100/cases['Total'])"
   ]
  },
  {
   "cell_type": "code",
   "execution_count": 145,
   "id": "02d26a9d-f27f-4f29-a885-97e060c0cdc3",
   "metadata": {},
   "outputs": [
    {
     "data": {
      "text/plain": [
       "3.6724727272727273"
      ]
     },
     "execution_count": 145,
     "metadata": {},
     "output_type": "execute_result"
    }
   ],
   "source": [
    "2_019_860 * 100 / 55_000_000"
   ]
  },
  {
   "cell_type": "code",
   "execution_count": 21,
   "id": "ae5b6ae0-917a-489d-b9bc-5090d64e32fc",
   "metadata": {},
   "outputs": [
    {
     "data": {
      "text/plain": [
       "left_mode  right_mode\n",
       "whois      rdap          0.518898\n",
       "           whois         0.279537\n",
       "rdap       rdap          0.201565\n",
       "dtype: float64"
      ]
     },
     "execution_count": 21,
     "metadata": {},
     "output_type": "execute_result"
    }
   ],
   "source": [
    "mail_missmatches[mail_missmatches.match_case == \"Disjoint\"].value_counts(['left_mode', 'right_mode'], normalize=True)"
   ]
  },
  {
   "cell_type": "markdown",
   "id": "b18e7ce0-f317-4623-ab68-0024a36e38f0",
   "metadata": {},
   "source": [
    "### Iana ID and Registrar"
   ]
  },
  {
   "cell_type": "code",
   "execution_count": 43,
   "id": "46a55370-221e-44d7-8da9-77227e24188d",
   "metadata": {},
   "outputs": [
    {
     "data": {
      "text/html": [
       "<div>\n",
       "<style scoped>\n",
       "    .dataframe tbody tr th:only-of-type {\n",
       "        vertical-align: middle;\n",
       "    }\n",
       "\n",
       "    .dataframe tbody tr th {\n",
       "        vertical-align: top;\n",
       "    }\n",
       "\n",
       "    .dataframe thead th {\n",
       "        text-align: right;\n",
       "    }\n",
       "</style>\n",
       "<table border=\"1\" class=\"dataframe\">\n",
       "  <thead>\n",
       "    <tr style=\"text-align: right;\">\n",
       "      <th></th>\n",
       "      <th>domain</th>\n",
       "      <th>left_mode</th>\n",
       "      <th>left_id</th>\n",
       "      <th>right_mode</th>\n",
       "      <th>right_id</th>\n",
       "    </tr>\n",
       "  </thead>\n",
       "  <tbody>\n",
       "    <tr>\n",
       "      <th>0</th>\n",
       "      <td>conversationmusic.com</td>\n",
       "      <td>whois</td>\n",
       "      <td>1441</td>\n",
       "      <td>whois</td>\n",
       "      <td>3354</td>\n",
       "    </tr>\n",
       "    <tr>\n",
       "      <th>1</th>\n",
       "      <td>leapcent.com</td>\n",
       "      <td>whois</td>\n",
       "      <td>1915</td>\n",
       "      <td>rdap</td>\n",
       "      <td>1556</td>\n",
       "    </tr>\n",
       "    <tr>\n",
       "      <th>2</th>\n",
       "      <td>conversationmusic.com</td>\n",
       "      <td>whois</td>\n",
       "      <td>3354</td>\n",
       "      <td>rdap</td>\n",
       "      <td>1441</td>\n",
       "    </tr>\n",
       "    <tr>\n",
       "      <th>3</th>\n",
       "      <td>ybzbqo4.cyou</td>\n",
       "      <td>whois</td>\n",
       "      <td>1915</td>\n",
       "      <td>rdap</td>\n",
       "      <td>1556</td>\n",
       "    </tr>\n",
       "    <tr>\n",
       "      <th>4</th>\n",
       "      <td>ybzbqo4.cyou</td>\n",
       "      <td>whois</td>\n",
       "      <td>1915</td>\n",
       "      <td>rdap</td>\n",
       "      <td>1556</td>\n",
       "    </tr>\n",
       "    <tr>\n",
       "      <th>...</th>\n",
       "      <td>...</td>\n",
       "      <td>...</td>\n",
       "      <td>...</td>\n",
       "      <td>...</td>\n",
       "      <td>...</td>\n",
       "    </tr>\n",
       "    <tr>\n",
       "      <th>264579</th>\n",
       "      <td>ridewihgps.com</td>\n",
       "      <td>rdap</td>\n",
       "      <td>1915</td>\n",
       "      <td>rdap</td>\n",
       "      <td>1556</td>\n",
       "    </tr>\n",
       "    <tr>\n",
       "      <th>264580</th>\n",
       "      <td>ayden.vip</td>\n",
       "      <td>rdap</td>\n",
       "      <td>1915</td>\n",
       "      <td>rdap</td>\n",
       "      <td>1556</td>\n",
       "    </tr>\n",
       "    <tr>\n",
       "      <th>264581</th>\n",
       "      <td>tujieguo.com</td>\n",
       "      <td>rdap</td>\n",
       "      <td>1915</td>\n",
       "      <td>rdap</td>\n",
       "      <td>1556</td>\n",
       "    </tr>\n",
       "    <tr>\n",
       "      <th>264582</th>\n",
       "      <td>xcrgjs.cyou</td>\n",
       "      <td>rdap</td>\n",
       "      <td>1915</td>\n",
       "      <td>rdap</td>\n",
       "      <td>1556</td>\n",
       "    </tr>\n",
       "    <tr>\n",
       "      <th>264583</th>\n",
       "      <td>ywbxuq.icu</td>\n",
       "      <td>rdap</td>\n",
       "      <td>1915</td>\n",
       "      <td>rdap</td>\n",
       "      <td>1556</td>\n",
       "    </tr>\n",
       "  </tbody>\n",
       "</table>\n",
       "<p>264584 rows × 5 columns</p>\n",
       "</div>"
      ],
      "text/plain": [
       "                       domain left_mode  left_id right_mode  right_id\n",
       "0       conversationmusic.com     whois     1441      whois      3354\n",
       "1                leapcent.com     whois     1915       rdap      1556\n",
       "2       conversationmusic.com     whois     3354       rdap      1441\n",
       "3                ybzbqo4.cyou     whois     1915       rdap      1556\n",
       "4                ybzbqo4.cyou     whois     1915       rdap      1556\n",
       "...                       ...       ...      ...        ...       ...\n",
       "264579         ridewihgps.com      rdap     1915       rdap      1556\n",
       "264580              ayden.vip      rdap     1915       rdap      1556\n",
       "264581           tujieguo.com      rdap     1915       rdap      1556\n",
       "264582            xcrgjs.cyou      rdap     1915       rdap      1556\n",
       "264583             ywbxuq.icu      rdap     1915       rdap      1556\n",
       "\n",
       "[264584 rows x 5 columns]"
      ]
     },
     "execution_count": 43,
     "metadata": {},
     "output_type": "execute_result"
    }
   ],
   "source": [
    "import pandas as pd\n",
    "\n",
    "iana_missmatches = pd.read_sql(\n",
    "    \"SELECT iana_id.domain, l.mode, iana_id.left_val, r.mode, iana_id.right_val \"\n",
    "    \"FROM iana_id \"\n",
    "    \"JOIN source.parsed AS l ON iana_id.left_id=l.rowid \"\n",
    "    \"JOIN source.parsed AS r ON iana_id.right_id=r.rowid \", missmatch_db)\n",
    "iana_missmatches.columns = [\"domain\", \"left_mode\", \"left_iana\", \"right_mode\", \"right_iana\"]\n",
    "iana_missmatches"
   ]
  },
  {
   "cell_type": "code",
   "execution_count": 48,
   "id": "5cc9ea40-1438-463d-a3fb-f07bc16a7265",
   "metadata": {},
   "outputs": [
    {
     "name": "stdout",
     "output_type": "stream",
     "text": [
      "IANA ID mismatches : 106813 domains (0.19420545454545454%)\n"
     ]
    }
   ],
   "source": [
    "iana_dom = iana_missmatches['domain'].nunique()\n",
    "print(f\"IANA ID mismatches : {iana_dom} domains ({iana_dom *100/55_000_000 }%)\")  "
   ]
  },
  {
   "cell_type": "code",
   "execution_count": 45,
   "id": "25a847df-58b9-46f3-9aa5-bb1425a76908",
   "metadata": {},
   "outputs": [
    {
     "data": {
      "text/plain": [
       "left_mode  right_mode\n",
       "whois      rdap          157862\n",
       "rdap       rdap          101662\n",
       "whois      whois           5060\n",
       "dtype: int64"
      ]
     },
     "execution_count": 45,
     "metadata": {},
     "output_type": "execute_result"
    }
   ],
   "source": [
    "iana_missmatches.value_counts(['left_mode', 'right_mode'])"
   ]
  },
  {
   "cell_type": "code",
   "execution_count": 55,
   "id": "62ca3352-f201-4b32-a280-046d67f830f8",
   "metadata": {},
   "outputs": [],
   "source": [
    "# To find which iana ids mismatch, sort the values before\n",
    "iana_missmatches['min_iana'] = iana_missmatches[['left_iana', 'right_iana']].min(axis=1)\n",
    "iana_missmatches['max_iana'] = iana_missmatches[['left_iana', 'right_iana']].max(axis=1)"
   ]
  },
  {
   "cell_type": "code",
   "execution_count": 56,
   "id": "9eac03a0-a460-406c-a9b4-942a4374a553",
   "metadata": {},
   "outputs": [
    {
     "data": {
      "text/plain": [
       "min_iana  max_iana\n",
       "1556      1915        0.912799\n",
       "3951      5555555     0.042017\n",
       "1556      3824        0.023641\n",
       "600       735         0.004936\n",
       "1564      2487        0.002653\n",
       "                        ...   \n",
       "292       299         0.000004\n",
       "299       433         0.000004\n",
       "          1052        0.000004\n",
       "          1387        0.000004\n",
       "1441      3483        0.000004\n",
       "Length: 307, dtype: float64"
      ]
     },
     "execution_count": 56,
     "metadata": {},
     "output_type": "execute_result"
    }
   ],
   "source": [
    "iana_missmatches.value_counts(['min_iana', 'max_iana'], normalize=True)"
   ]
  },
  {
   "cell_type": "markdown",
   "id": "698e575a-80cc-48cc-9af4-9d917f129b4b",
   "metadata": {
    "tags": []
   },
   "source": [
    "# Who is Right ?"
   ]
  },
  {
   "cell_type": "markdown",
   "id": "bfeeac3d-572a-43e5-966e-2bdb06151f2b",
   "metadata": {
    "tags": []
   },
   "source": [
    "## Nameservers"
   ]
  },
  {
   "cell_type": "markdown",
   "id": "b37eddbb-67f0-4f9e-b402-6e6b58c2308b",
   "metadata": {},
   "source": [
    "`ns_rescan.db` tables :\n",
    "\n",
    "Table `parsed` contains the collected and parsed WHOIS and RDAP entries :\n",
    "```sqlite\n",
    "domain|TEXT\n",
    "mode|TEXT\n",
    "scan_id|TEXT\n",
    "scan_depth|INTEGER\n",
    "nameservers|TEXT\n",
    "```\n",
    "\n",
    "Table `missmatch` contains the missmatches between entries from a same domain :\n",
    "```sqlite\n",
    "domain|TEXT\n",
    "left_id|INTEGER\n",
    "right_id|INTEGER\n",
    "left_ns|TEXT\n",
    "right_ns|TEXT\n",
    "```\n",
    "With `left_id` and `right_id` being the row ids of the entries in the `parsed` table\n",
    "\n",
    "Table `dns` contains the NS entries of the domain, collected at registry level in the DNS\n",
    "```sqlite\n",
    "domain|TEXT\n",
    "status|TEXT\n",
    "nameservers|TEXT\n",
    "```"
   ]
  },
  {
   "cell_type": "code",
   "execution_count": 30,
   "id": "011e08c6-abea-4179-9f40-91e8f6c74997",
   "metadata": {},
   "outputs": [],
   "source": [
    "import sqlite3\n",
    "\n",
    "ns_db_path = \"../data/ns_rescan_2/ns_rescan.db\"\n",
    "ns_db = sqlite3.connect(ns_db_path, isolation_level=\"EXCLUSIVE\")\n",
    "ns_cur = ns_db.cursor()"
   ]
  },
  {
   "cell_type": "code",
   "execution_count": 78,
   "id": "453fbf94-0b39-4721-a238-4371f483e006",
   "metadata": {},
   "outputs": [],
   "source": [
    "import pandas as pd\n",
    "ns_missmatches = pd.read_sql(\"SELECT missmatch.domain, dns.nameservers, l.mode, l.scan_depth, missmatch.left_ns, r.mode, r.scan_depth, missmatch.right_ns \"\n",
    "                             \"FROM missmatch \"\n",
    "                             \"JOIN dns ON missmatch.domain = dns.domain \"\n",
    "                             \"JOIN parsed AS l ON missmatch.left_id=l.rowid \"\n",
    "                             \"JOIN parsed AS r ON missmatch.right_id=r.rowid \"\n",
    "                             \"WHERE dns.status = 'NOERROR'\", ns_db)\n",
    "ns_missmatches.columns = [\"domain\", \"dns_ns\", \"left_mode\", \"left_depth\", \"left_ns\", \"right_mode\", \"right_depth\", \"right_ns\"]\n"
   ]
  },
  {
   "cell_type": "code",
   "execution_count": 95,
   "id": "8b50f0df-fd6d-44d4-af7c-25479821f59c",
   "metadata": {},
   "outputs": [],
   "source": [
    "# Depth of -1 means that it was the last recursive call. Replace it by 5 as no depth go bigger than 1, and it makes comparison easier\n",
    "ns_missmatches = ns_missmatches.applymap(lambda v: 5 if v == -1 else v)"
   ]
  },
  {
   "cell_type": "code",
   "execution_count": 79,
   "id": "9b47a1b4-6080-4070-8db3-586fd1a91dca",
   "metadata": {},
   "outputs": [
    {
     "data": {
      "text/html": [
       "<div>\n",
       "<style scoped>\n",
       "    .dataframe tbody tr th:only-of-type {\n",
       "        vertical-align: middle;\n",
       "    }\n",
       "\n",
       "    .dataframe tbody tr th {\n",
       "        vertical-align: top;\n",
       "    }\n",
       "\n",
       "    .dataframe thead th {\n",
       "        text-align: right;\n",
       "    }\n",
       "</style>\n",
       "<table border=\"1\" class=\"dataframe\">\n",
       "  <thead>\n",
       "    <tr style=\"text-align: right;\">\n",
       "      <th></th>\n",
       "      <th>domain</th>\n",
       "      <th>dns_ns</th>\n",
       "      <th>left_mode</th>\n",
       "      <th>left_depth</th>\n",
       "      <th>left_ns</th>\n",
       "      <th>right_mode</th>\n",
       "      <th>right_depth</th>\n",
       "      <th>right_ns</th>\n",
       "      <th>who_is_right</th>\n",
       "    </tr>\n",
       "  </thead>\n",
       "  <tbody>\n",
       "    <tr>\n",
       "      <th>0</th>\n",
       "      <td>hinescounsel.com</td>\n",
       "      <td>ns-unused-9078.fastdomain.com,ns-unused-9079.f...</td>\n",
       "      <td>rdap</td>\n",
       "      <td>0</td>\n",
       "      <td>ns-unused-9078.fastdomain.com,ns-unused-9079.f...</td>\n",
       "      <td>rdap</td>\n",
       "      <td>-1</td>\n",
       "      <td>ns1.1marketinghost.com,ns2.1marketinghost.com</td>\n",
       "      <td>Perfect Left</td>\n",
       "    </tr>\n",
       "    <tr>\n",
       "      <th>1</th>\n",
       "      <td>hospicandelustraznych.cz</td>\n",
       "      <td>ns.forpsi.cz,ns.forpsi.it,ns.forpsi.net</td>\n",
       "      <td>rdap</td>\n",
       "      <td>-1</td>\n",
       "      <td>ns.forpsi.cz,ns.forpsi.it,ns.forpsi.net</td>\n",
       "      <td>whois</td>\n",
       "      <td>-1</td>\n",
       "      <td>,ns.forpsi.cz,ns.forpsi.it,ns.forpsi.net</td>\n",
       "      <td>Perfect Left</td>\n",
       "    </tr>\n",
       "    <tr>\n",
       "      <th>2</th>\n",
       "      <td>zeiner.no</td>\n",
       "      <td>ns01.no.brand.one.com,ns02.no.brand.one.com</td>\n",
       "      <td>rdap</td>\n",
       "      <td>-1</td>\n",
       "      <td>ns01.no.brand.one.com,ns02.no.brand.one.com</td>\n",
       "      <td>whois</td>\n",
       "      <td>-1</td>\n",
       "      <td>nsno2078h-norid,nsno2079h-norid</td>\n",
       "      <td>Perfect Left</td>\n",
       "    </tr>\n",
       "    <tr>\n",
       "      <th>3</th>\n",
       "      <td>etx.studio</td>\n",
       "      <td>ns-1031.awsdns-00.org,ns-1636.awsdns-12.co.uk,...</td>\n",
       "      <td>rdap</td>\n",
       "      <td>0</td>\n",
       "      <td>ns-1031.awsdns-00.org,ns-1636.awsdns-12.co.uk,...</td>\n",
       "      <td>rdap</td>\n",
       "      <td>-1</td>\n",
       "      <td>ns-1031.awsdns-00.org,ns-314.awsdns-39.com,ns-...</td>\n",
       "      <td>Perfect Left</td>\n",
       "    </tr>\n",
       "    <tr>\n",
       "      <th>4</th>\n",
       "      <td>sangocongnghiepvietnam.com</td>\n",
       "      <td>ns1.dotvndns.vn,ns2.dotvndns.vn,nsbak.dotvndns...</td>\n",
       "      <td>rdap</td>\n",
       "      <td>0</td>\n",
       "      <td>ns1.dotvndns.vn,ns2.dotvndns.vn,nsbak.dotvndns...</td>\n",
       "      <td>whois</td>\n",
       "      <td>-1</td>\n",
       "      <td>ns1.dotvndns.vn,ns2.dotvndns.vndnssec:unsigned...</td>\n",
       "      <td>Perfect Left</td>\n",
       "    </tr>\n",
       "  </tbody>\n",
       "</table>\n",
       "</div>"
      ],
      "text/plain": [
       "                       domain  \\\n",
       "0            hinescounsel.com   \n",
       "1    hospicandelustraznych.cz   \n",
       "2                   zeiner.no   \n",
       "3                  etx.studio   \n",
       "4  sangocongnghiepvietnam.com   \n",
       "\n",
       "                                              dns_ns left_mode  left_depth  \\\n",
       "0  ns-unused-9078.fastdomain.com,ns-unused-9079.f...      rdap           0   \n",
       "1            ns.forpsi.cz,ns.forpsi.it,ns.forpsi.net      rdap          -1   \n",
       "2        ns01.no.brand.one.com,ns02.no.brand.one.com      rdap          -1   \n",
       "3  ns-1031.awsdns-00.org,ns-1636.awsdns-12.co.uk,...      rdap           0   \n",
       "4  ns1.dotvndns.vn,ns2.dotvndns.vn,nsbak.dotvndns...      rdap           0   \n",
       "\n",
       "                                             left_ns right_mode  right_depth  \\\n",
       "0  ns-unused-9078.fastdomain.com,ns-unused-9079.f...       rdap           -1   \n",
       "1            ns.forpsi.cz,ns.forpsi.it,ns.forpsi.net      whois           -1   \n",
       "2        ns01.no.brand.one.com,ns02.no.brand.one.com      whois           -1   \n",
       "3  ns-1031.awsdns-00.org,ns-1636.awsdns-12.co.uk,...       rdap           -1   \n",
       "4  ns1.dotvndns.vn,ns2.dotvndns.vn,nsbak.dotvndns...      whois           -1   \n",
       "\n",
       "                                            right_ns  who_is_right  \n",
       "0      ns1.1marketinghost.com,ns2.1marketinghost.com  Perfect Left  \n",
       "1           ,ns.forpsi.cz,ns.forpsi.it,ns.forpsi.net  Perfect Left  \n",
       "2                    nsno2078h-norid,nsno2079h-norid  Perfect Left  \n",
       "3  ns-1031.awsdns-00.org,ns-314.awsdns-39.com,ns-...  Perfect Left  \n",
       "4  ns1.dotvndns.vn,ns2.dotvndns.vndnssec:unsigned...  Perfect Left  "
      ]
     },
     "execution_count": 79,
     "metadata": {},
     "output_type": "execute_result"
    }
   ],
   "source": [
    "def who_is_right(left, right, dns):\n",
    "    left = set(left.split(','))\n",
    "    right = set(right.split(','))\n",
    "    dns = set(dns.split(','))\n",
    "    if left == right:\n",
    "        return \"No differences\"\n",
    "    if left == dns:\n",
    "        return \"Perfect Left\"\n",
    "    elif right == dns:\n",
    "        return \"Perfect Right\"\n",
    "    else:\n",
    "        d_in_l = dns.issubset(left) or left.issubset(dns)\n",
    "        d_in_r = dns.issubset(right) or right.issubset(dns)\n",
    "        \n",
    "        if d_in_l and d_in_r:\n",
    "            return \"Common Subset\"\n",
    "        elif d_in_l:\n",
    "            return \"Subset Left\"\n",
    "        elif d_in_r:\n",
    "            return \"Subset Right\"\n",
    "        else:\n",
    "            d_int_l = not dns.isdisjoint(left)\n",
    "            d_int_r = not dns.isdisjoint(right)\n",
    "            \n",
    "            if d_int_l and d_int_r:\n",
    "                return \"Common Intersection\"\n",
    "            elif d_int_l:\n",
    "                return \"Intersection Left\"\n",
    "            elif d_int_r:\n",
    "                return \"Intersection Right\"\n",
    "            else:\n",
    "                return \"Disjoint\"\n",
    "            \n",
    "\n",
    "ns_missmatches['who_is_right'] = ns_missmatches.apply(lambda row: who_is_right(row['left_ns'], row['right_ns'], row['dns_ns']), axis=1)\n",
    "ns_missmatches.head()"
   ]
  },
  {
   "cell_type": "code",
   "execution_count": 80,
   "id": "74f014c4-9577-43b6-9fef-f1aa85f2d35a",
   "metadata": {},
   "outputs": [
    {
     "data": {
      "text/plain": [
       "left_mode  right_mode\n",
       "rdap       whois         74.851899\n",
       "whois      whois         14.783191\n",
       "rdap       rdap          10.364910\n",
       "dtype: float64"
      ]
     },
     "execution_count": 80,
     "metadata": {},
     "output_type": "execute_result"
    }
   ],
   "source": [
    "ns_missmatches.value_counts(['left_mode', 'right_mode'], normalize=True) * 100"
   ]
  },
  {
   "cell_type": "code",
   "execution_count": 81,
   "id": "da68dee4-e309-47e8-8fb3-139eec3ee31e",
   "metadata": {},
   "outputs": [
    {
     "data": {
      "text/plain": [
       "who_is_right\n",
       "Perfect Left           76.482518\n",
       "Perfect Right          22.901278\n",
       "No differences          0.497205\n",
       "Disjoint                0.063121\n",
       "Subset Left             0.022937\n",
       "Subset Right            0.022247\n",
       "Common Subset           0.004312\n",
       "Common Intersection     0.003104\n",
       "Intersection Right      0.002242\n",
       "Intersection Left       0.001035\n",
       "dtype: float64"
      ]
     },
     "execution_count": 81,
     "metadata": {},
     "output_type": "execute_result"
    }
   ],
   "source": [
    "ns_missmatches.value_counts('who_is_right', normalize=True) * 100"
   ]
  },
  {
   "cell_type": "code",
   "execution_count": 82,
   "id": "5f961420-7464-446d-948c-b57a809ae428",
   "metadata": {},
   "outputs": [
    {
     "name": "stdout",
     "output_type": "stream",
     "text": [
      "Total number of entries :  579841\n",
      "Number of unique domains :  365521\n"
     ]
    }
   ],
   "source": [
    "print(\"Total number of entries : \", ns_missmatches['domain'].count())\n",
    "print(\"Number of unique domains : \", ns_missmatches['domain'].nunique())"
   ]
  },
  {
   "cell_type": "markdown",
   "id": "c15d83e8-73b6-4a63-8995-586a87f600d0",
   "metadata": {},
   "source": [
    "Now that we know which side is right, now lets translate it to WHOIS or RDAP.\n",
    "This will only make sense when the missmatch is between two different modes"
   ]
  },
  {
   "cell_type": "code",
   "execution_count": 84,
   "id": "be3f6b01-c289-4063-b0ce-54965a52a622",
   "metadata": {},
   "outputs": [],
   "source": [
    "def valid_mode(row):\n",
    "        if row['who_is_right'] == \"Perfect Left\":\n",
    "            return row['left_mode']\n",
    "        elif row['who_is_right'] == \"Perfect Right\":\n",
    "            return row['right_mode']\n",
    "        else:\n",
    "            return \"None\"\n",
    "\n",
    "ns_missmatches['valid_mode'] = ns_missmatches.apply(valid_mode, axis=1) "
   ]
  },
  {
   "cell_type": "code",
   "execution_count": 86,
   "id": "3d0012c9-fba2-4283-9f54-e83465f5709d",
   "metadata": {},
   "outputs": [
    {
     "data": {
      "text/plain": [
       "valid_mode\n",
       "rdap     78.482427\n",
       "whois    20.961149\n",
       "None      0.556423\n",
       "dtype: float64"
      ]
     },
     "execution_count": 86,
     "metadata": {},
     "output_type": "execute_result"
    }
   ],
   "source": [
    "ns_missmatches[ns_missmatches.left_mode != ns_missmatches.right_mode].value_counts('valid_mode', normalize=True)*100"
   ]
  },
  {
   "cell_type": "markdown",
   "id": "06e14ed5-a6e6-4545-9597-ac211c414102",
   "metadata": {},
   "source": [
    "For the case where both modes are the same, we want to know which depth was right"
   ]
  },
  {
   "cell_type": "code",
   "execution_count": 98,
   "id": "d9ee220d-d912-44a9-994b-6e081fec2247",
   "metadata": {},
   "outputs": [
    {
     "data": {
      "text/plain": [
       "Thin     99.197635\n",
       "None      0.794135\n",
       "Thick     0.008229\n",
       "dtype: float64"
      ]
     },
     "execution_count": 98,
     "metadata": {},
     "output_type": "execute_result"
    }
   ],
   "source": [
    "def thin_thick(valid, other):\n",
    "    if valid > other:\n",
    "        return \"Thick\"\n",
    "    elif valid < other:\n",
    "        return \"Thin\"\n",
    "    else:\n",
    "        # Should not happend\n",
    "        return \"Same\"\n",
    "\n",
    "def valid_depth(row):\n",
    "    if row['who_is_right'] == \"Perfect Left\":\n",
    "        return thin_thick(row['left_depth'], row['right_depth'])\n",
    "    elif row['who_is_right'] == \"Perfect Right\":\n",
    "        return thin_thick(row['right_depth'], row['left_depth'])\n",
    "    else:\n",
    "        return \"None\"\n",
    "\n",
    "ns_missmatches[ns_missmatches.left_mode == ns_missmatches.right_mode].apply(valid_depth, axis=1).value_counts(normalize=True)*100"
   ]
  },
  {
   "cell_type": "markdown",
   "id": "83bb496b-c35d-46b2-9afa-003ce6e217a7",
   "metadata": {
    "jp-MarkdownHeadingCollapsed": true,
    "tags": []
   },
   "source": [
    "## IANA ID & Registrars"
   ]
  },
  {
   "cell_type": "markdown",
   "id": "306ed665-bf52-46c7-8942-b363316c278b",
   "metadata": {},
   "source": [
    "Find the canonical name of the domains when there is a mismatch"
   ]
  },
  {
   "cell_type": "code",
   "execution_count": 137,
   "id": "7fbf29a4-5cc0-40fb-90fd-9b848b240fe0",
   "metadata": {},
   "outputs": [],
   "source": [
    "missmatch_cur.execute(\"UPDATE registrar SET \"\n",
    "            \"left_cname = (SELECT registrar_cname.cname FROM registrar_cname WHERE registrar.left_name = registrar_cname.name), \"\n",
    "            \"right_cname = (SELECT registrar_cname.cname FROM registrar_cname WHERE registrar.right_name = registrar_cname.name) \"\n",
    "            \"WHERE left_cname IS NULL OR right_cname IS NULL\")\n",
    "missmatch_db.commit()"
   ]
  },
  {
   "cell_type": "code",
   "execution_count": 111,
   "id": "6f5e0f4c-3869-4cec-8573-2be1e093871c",
   "metadata": {},
   "outputs": [],
   "source": [
    "missmatch_cur.execute(\"DELETE FROM registrar WHERE left_cname = right_cname\")\n",
    "missmatch_db.commit()"
   ]
  },
  {
   "cell_type": "code",
   "execution_count": 113,
   "id": "7ec8469c-de29-429a-8a4d-54bebe2d68e4",
   "metadata": {},
   "outputs": [
    {
     "name": "stdout",
     "output_type": "stream",
     "text": [
      "canonical name mapping deleted 58.871688913198014% of entries\n"
     ]
    }
   ],
   "source": [
    "del_count = 37754148\n",
    "rem_count = 26375400\n",
    "print(f\"canonical name mapping deleted {100 * del_count / (del_count + rem_count)}% of entries\")"
   ]
  },
  {
   "cell_type": "code",
   "execution_count": 130,
   "id": "d1fbdaad-81ad-492f-9122-67bea0ea19f8",
   "metadata": {},
   "outputs": [
    {
     "data": {
      "text/html": [
       "<div>\n",
       "<style scoped>\n",
       "    .dataframe tbody tr th:only-of-type {\n",
       "        vertical-align: middle;\n",
       "    }\n",
       "\n",
       "    .dataframe tbody tr th {\n",
       "        vertical-align: top;\n",
       "    }\n",
       "\n",
       "    .dataframe thead th {\n",
       "        text-align: right;\n",
       "    }\n",
       "</style>\n",
       "<table border=\"1\" class=\"dataframe\">\n",
       "  <thead>\n",
       "    <tr style=\"text-align: right;\">\n",
       "      <th></th>\n",
       "      <th>domain</th>\n",
       "      <th>left_mode</th>\n",
       "      <th>left_iana</th>\n",
       "      <th>left_cname</th>\n",
       "      <th>right_mode</th>\n",
       "      <th>right_iana</th>\n",
       "      <th>right_cname</th>\n",
       "    </tr>\n",
       "  </thead>\n",
       "  <tbody>\n",
       "    <tr>\n",
       "      <th>0</th>\n",
       "      <td>cafelifeskills.net</td>\n",
       "      <td>whois</td>\n",
       "      <td>886</td>\n",
       "      <td>Domain.com, LLC</td>\n",
       "      <td>whois</td>\n",
       "      <td>-1</td>\n",
       "      <td>None</td>\n",
       "    </tr>\n",
       "    <tr>\n",
       "      <th>1</th>\n",
       "      <td>brookieandreese.com</td>\n",
       "      <td>whois</td>\n",
       "      <td>69</td>\n",
       "      <td>Tucows Domains Inc.</td>\n",
       "      <td>whois</td>\n",
       "      <td>-1</td>\n",
       "      <td>None</td>\n",
       "    </tr>\n",
       "    <tr>\n",
       "      <th>2</th>\n",
       "      <td>hmshb.no</td>\n",
       "      <td>whois</td>\n",
       "      <td>-1</td>\n",
       "      <td>None</td>\n",
       "      <td>rdap</td>\n",
       "      <td>-1</td>\n",
       "      <td>Domeneshop AS dba domainnameshop.com</td>\n",
       "    </tr>\n",
       "    <tr>\n",
       "      <th>3</th>\n",
       "      <td>northcheshirecouriers.uk</td>\n",
       "      <td>whois</td>\n",
       "      <td>-1</td>\n",
       "      <td>None</td>\n",
       "      <td>rdap</td>\n",
       "      <td>-1</td>\n",
       "      <td>None</td>\n",
       "    </tr>\n",
       "    <tr>\n",
       "      <th>4</th>\n",
       "      <td>revolutionstudios.com</td>\n",
       "      <td>whois</td>\n",
       "      <td>9</td>\n",
       "      <td>Register.com, Inc.</td>\n",
       "      <td>rdap</td>\n",
       "      <td>-1</td>\n",
       "      <td>None</td>\n",
       "    </tr>\n",
       "    <tr>\n",
       "      <th>...</th>\n",
       "      <td>...</td>\n",
       "      <td>...</td>\n",
       "      <td>...</td>\n",
       "      <td>...</td>\n",
       "      <td>...</td>\n",
       "      <td>...</td>\n",
       "      <td>...</td>\n",
       "    </tr>\n",
       "    <tr>\n",
       "      <th>26375395</th>\n",
       "      <td>tonnevoldskogen.com</td>\n",
       "      <td>rdap</td>\n",
       "      <td>-1</td>\n",
       "      <td>None</td>\n",
       "      <td>rdap</td>\n",
       "      <td>269</td>\n",
       "      <td>Key-Systems GmbH</td>\n",
       "    </tr>\n",
       "    <tr>\n",
       "      <th>26375396</th>\n",
       "      <td>youle810.com</td>\n",
       "      <td>rdap</td>\n",
       "      <td>-1</td>\n",
       "      <td>None</td>\n",
       "      <td>rdap</td>\n",
       "      <td>625</td>\n",
       "      <td>Name.com, Inc.</td>\n",
       "    </tr>\n",
       "    <tr>\n",
       "      <th>26375397</th>\n",
       "      <td>barrymccockiner.com</td>\n",
       "      <td>rdap</td>\n",
       "      <td>1479</td>\n",
       "      <td>NameSilo, LLC</td>\n",
       "      <td>rdap</td>\n",
       "      <td>-1</td>\n",
       "      <td>None</td>\n",
       "    </tr>\n",
       "    <tr>\n",
       "      <th>26375398</th>\n",
       "      <td>hailong0317.com</td>\n",
       "      <td>rdap</td>\n",
       "      <td>-1</td>\n",
       "      <td>None</td>\n",
       "      <td>rdap</td>\n",
       "      <td>1479</td>\n",
       "      <td>NameSilo, LLC</td>\n",
       "    </tr>\n",
       "    <tr>\n",
       "      <th>26375399</th>\n",
       "      <td>nyackstrut.com</td>\n",
       "      <td>rdap</td>\n",
       "      <td>3827</td>\n",
       "      <td>Squarespace Domains LLC</td>\n",
       "      <td>rdap</td>\n",
       "      <td>-1</td>\n",
       "      <td>None</td>\n",
       "    </tr>\n",
       "  </tbody>\n",
       "</table>\n",
       "<p>26375400 rows × 7 columns</p>\n",
       "</div>"
      ],
      "text/plain": [
       "                            domain left_mode  left_iana  \\\n",
       "0               cafelifeskills.net     whois        886   \n",
       "1              brookieandreese.com     whois         69   \n",
       "2                         hmshb.no     whois         -1   \n",
       "3         northcheshirecouriers.uk     whois         -1   \n",
       "4            revolutionstudios.com     whois          9   \n",
       "...                            ...       ...        ...   \n",
       "26375395       tonnevoldskogen.com      rdap         -1   \n",
       "26375396              youle810.com      rdap         -1   \n",
       "26375397       barrymccockiner.com      rdap       1479   \n",
       "26375398           hailong0317.com      rdap         -1   \n",
       "26375399            nyackstrut.com      rdap       3827   \n",
       "\n",
       "                       left_cname right_mode  right_iana  \\\n",
       "0                 Domain.com, LLC      whois          -1   \n",
       "1             Tucows Domains Inc.      whois          -1   \n",
       "2                            None       rdap          -1   \n",
       "3                            None       rdap          -1   \n",
       "4              Register.com, Inc.       rdap          -1   \n",
       "...                           ...        ...         ...   \n",
       "26375395                     None       rdap         269   \n",
       "26375396                     None       rdap         625   \n",
       "26375397            NameSilo, LLC       rdap          -1   \n",
       "26375398                     None       rdap        1479   \n",
       "26375399  Squarespace Domains LLC       rdap          -1   \n",
       "\n",
       "                                   right_cname  \n",
       "0                                         None  \n",
       "1                                         None  \n",
       "2         Domeneshop AS dba domainnameshop.com  \n",
       "3                                         None  \n",
       "4                                         None  \n",
       "...                                        ...  \n",
       "26375395                      Key-Systems GmbH  \n",
       "26375396                        Name.com, Inc.  \n",
       "26375397                                  None  \n",
       "26375398                         NameSilo, LLC  \n",
       "26375399                                  None  \n",
       "\n",
       "[26375400 rows x 7 columns]"
      ]
     },
     "execution_count": 130,
     "metadata": {},
     "output_type": "execute_result"
    }
   ],
   "source": [
    "missmatch_cur.execute(\"SELECT registrar.domain, l.mode, left_iana, left_cname, r.mode, right_iana, right_cname \"\n",
    "                        \"FROM registrar \"\n",
    "                        \"JOIN source.parsed AS l ON registrar.left_rowid=l.rowid \"\n",
    "                        \"JOIN source.parsed AS r ON registrar.right_rowid=r.rowid \")\n",
    "registrar = pd.DataFrame(missmatch_cur.fetchall(), columns=['domain', 'left_mode', 'left_iana', 'left_cname', 'right_mode', 'right_iana', 'right_cname'])\n",
    "registrar"
   ]
  },
  {
   "cell_type": "code",
   "execution_count": 133,
   "id": "6ddf881c-7027-4f31-868a-379234469562",
   "metadata": {},
   "outputs": [],
   "source": [
    "total = registrar['domain'].nunique()"
   ]
  },
  {
   "cell_type": "code",
   "execution_count": 134,
   "id": "ecaa4d10-1ec0-4b9a-b428-c01433f2f603",
   "metadata": {},
   "outputs": [
    {
     "data": {
      "text/plain": [
       "left_mode  right_mode\n",
       "rdap       rdap          0.483258\n",
       "whois      rdap          0.963385\n",
       "           whois         0.484011\n",
       "Name: domain, dtype: float64"
      ]
     },
     "execution_count": 134,
     "metadata": {},
     "output_type": "execute_result"
    }
   ],
   "source": [
    "registrar.groupby(['left_mode', 'right_mode'])['domain'].nunique() / total"
   ]
  },
  {
   "cell_type": "code",
   "execution_count": 123,
   "id": "e9db9def-f58c-448f-a275-166ddc628ef8",
   "metadata": {},
   "outputs": [],
   "source": [
    "both_na = registrar[registrar.left_cname.isna() & registrar.right_cname.isna()]['domain'].nunique()\n",
    "one_na = registrar[registrar.left_cname.isna() ^ registrar.right_cname.isna()]['domain'].nunique()\n",
    "none_na = registrar[~registrar.left_cname.isna() & ~registrar.right_cname.isna()]['domain'].nunique()\n",
    "total = registrar['domain'].nunique()"
   ]
  },
  {
   "cell_type": "code",
   "execution_count": 124,
   "id": "27d139fa-2319-4c04-8361-a0eeb841b7ee",
   "metadata": {},
   "outputs": [
    {
     "name": "stdout",
     "output_type": "stream",
     "text": [
      "2.1299392615846586\n",
      "96.91313875808518\n",
      "0.9569219803301562\n"
     ]
    }
   ],
   "source": [
    "print(both_na*100/total)\n",
    "print(one_na*100/total)\n",
    "print(none_na*100/total)"
   ]
  },
  {
   "cell_type": "code",
   "execution_count": 136,
   "id": "52667161-a7cf-42c0-b1df-2490cf0d5221",
   "metadata": {},
   "outputs": [
    {
     "data": {
      "text/plain": [
       "0.11715750147518658"
      ]
     },
     "execution_count": 136,
     "metadata": {},
     "output_type": "execute_result"
    }
   ],
   "source": [
    "registrar[registrar.left_iana == registrar.right_iana]['domain'].nunique() / total"
   ]
  },
  {
   "cell_type": "markdown",
   "id": "59dfd126-a214-4fc1-aa03-f5900c0c9e7c",
   "metadata": {},
   "source": [
    "# Missing data stats"
   ]
  },
  {
   "cell_type": "markdown",
   "id": "09de00f2-1302-485d-a656-4f1d2a308f60",
   "metadata": {},
   "source": [
    "## Creation date"
   ]
  },
  {
   "cell_type": "code",
   "execution_count": 20,
   "id": "482473a0-4857-4dfc-970f-beb2587a4b86",
   "metadata": {},
   "outputs": [
    {
     "ename": "OperationalError",
     "evalue": "no such column: mode",
     "output_type": "error",
     "traceback": [
      "\u001b[0;31m---------------------------------------------------------------------------\u001b[0m",
      "\u001b[0;31mOperationalError\u001b[0m                          Traceback (most recent call last)",
      "Cell \u001b[0;32mIn [20], line 1\u001b[0m\n\u001b[0;32m----> 1\u001b[0m parsed_cur\u001b[38;5;241m.\u001b[39mexecute(\u001b[38;5;124m\"\u001b[39m\u001b[38;5;124mSELECT domain, mode FROM parsed_2 WHERE creation_date IS NULL\u001b[39m\u001b[38;5;124m\"\u001b[39m)\n\u001b[1;32m      2\u001b[0m creation_missing \u001b[38;5;241m=\u001b[39m pd\u001b[38;5;241m.\u001b[39mDataFrame(parsed_cur\u001b[38;5;241m.\u001b[39mfetchall(), columns\u001b[38;5;241m=\u001b[39m[\u001b[38;5;124m\"\u001b[39m\u001b[38;5;124mdomain\u001b[39m\u001b[38;5;124m\"\u001b[39m, \u001b[38;5;124m\"\u001b[39m\u001b[38;5;124mmode\u001b[39m\u001b[38;5;124m\"\u001b[39m])\n\u001b[1;32m      3\u001b[0m \u001b[38;5;28mprint\u001b[39m(\u001b[38;5;28mlen\u001b[39m(creation_missing))\n",
      "\u001b[0;31mOperationalError\u001b[0m: no such column: mode"
     ]
    }
   ],
   "source": [
    "parsed_cur.execute(\"SELECT domain, mode FROM parsed_2 WHERE creation_date IS NULL\")\n",
    "creation_missing = pd.DataFrame(parsed_cur.fetchall(), columns=[\"domain\", \"mode\"])\n",
    "print(len(creation_missing))"
   ]
  },
  {
   "cell_type": "code",
   "execution_count": 4,
   "id": "4f769574-bede-4164-9e22-4a8aa12a7532",
   "metadata": {},
   "outputs": [
    {
     "name": "stdout",
     "output_type": "stream",
     "text": [
      "Creation date entry error rate :  0.7767815859148003\n",
      "Creation date domain error rate :  2.2007052566113927\n"
     ]
    }
   ],
   "source": [
    "print(\"Creation date entry error rate : \", 100*len(creation_missing)/total_entries)\n",
    "print(\"Creation date domain error rate : \", 100*len(set(creation_missing))/total_domains)"
   ]
  },
  {
   "cell_type": "markdown",
   "id": "7ab09454-3724-47f8-a7d9-b0029700c4d4",
   "metadata": {},
   "source": [
    "## Expiration date"
   ]
  },
  {
   "cell_type": "code",
   "execution_count": 5,
   "id": "635e2321-261d-4d6b-a569-035fc50af494",
   "metadata": {},
   "outputs": [
    {
     "name": "stdout",
     "output_type": "stream",
     "text": [
      "1614597\n"
     ]
    }
   ],
   "source": [
    "parsed_cur.execute(\"SELECT domain FROM parsed_2 WHERE expiration_date IS NULL\")\n",
    "expiration_missing = parsed_cur.fetchall()\n",
    "print(len(expiration_missing))"
   ]
  },
  {
   "cell_type": "code",
   "execution_count": 6,
   "id": "e026398a-72f8-43db-8108-de224f9f9e02",
   "metadata": {},
   "outputs": [
    {
     "name": "stdout",
     "output_type": "stream",
     "text": [
      "Expiration date entry error rate :  1.034422957651372\n",
      "Expiration date domain error rate :  2.6805523419739896\n"
     ]
    }
   ],
   "source": [
    "print(\"Expiration date entry error rate : \", 100*len(expiration_missing)/total_entries)\n",
    "print(\"Expiration date domain error rate : \", 100*len(set(expiration_missing))/total_domains)"
   ]
  },
  {
   "cell_type": "markdown",
   "id": "48976302-724d-4681-afc3-ca3afbaa750a",
   "metadata": {},
   "source": [
    "## Nameservers"
   ]
  },
  {
   "cell_type": "code",
   "execution_count": 14,
   "id": "d4687279-e28e-4469-9188-cdf4e9c245f0",
   "metadata": {},
   "outputs": [
    {
     "name": "stdout",
     "output_type": "stream",
     "text": [
      "4980159\n"
     ]
    }
   ],
   "source": [
    "parsed_cur.execute(\"SELECT domain FROM parsed_2 WHERE nameservers == ''\")\n",
    "ns_missing = parsed_cur.fetchall()\n",
    "print(len(ns_missing))"
   ]
  },
  {
   "cell_type": "code",
   "execution_count": 15,
   "id": "5d3335c2-e7ef-44ba-a976-4f44a5f94c44",
   "metadata": {},
   "outputs": [
    {
     "name": "stdout",
     "output_type": "stream",
     "text": [
      "NS entry error rate :  3.1906356833030776\n",
      "NS domain error rate :  6.575470999328815\n"
     ]
    }
   ],
   "source": [
    "print(\"NS entry error rate : \", 100*len(ns_missing)/total_entries)\n",
    "print(\"NS domain error rate : \", 100*len(set(ns_missing))/total_domains)"
   ]
  },
  {
   "cell_type": "markdown",
   "id": "c72a4425-f86d-4295-8325-492e0f2519a1",
   "metadata": {},
   "source": [
    "## IANA ID"
   ]
  },
  {
   "cell_type": "code",
   "execution_count": 16,
   "id": "ce27f068-b274-47c1-a7cb-2a525c5707a4",
   "metadata": {},
   "outputs": [
    {
     "name": "stdout",
     "output_type": "stream",
     "text": [
      "9269912\n"
     ]
    }
   ],
   "source": [
    "parsed_cur.execute(\"SELECT domain FROM parsed_2 WHERE iana_id IS NULL\")\n",
    "iana_missing = parsed_cur.fetchall()\n",
    "print(len(iana_missing))"
   ]
  },
  {
   "cell_type": "code",
   "execution_count": 17,
   "id": "976a3e58-f588-4f8a-828b-a7085089df0c",
   "metadata": {},
   "outputs": [
    {
     "name": "stdout",
     "output_type": "stream",
     "text": [
      "IANA entry error rate :  5.938949340428568\n",
      "IANA domain error rate :  13.663345280145707\n"
     ]
    }
   ],
   "source": [
    "print(\"IANA entry error rate : \", 100*len(iana_missing)/total_entries)\n",
    "print(\"IANA domain error rate : \", 100*len(set(iana_missing))/total_domains)"
   ]
  },
  {
   "cell_type": "markdown",
   "id": "c3ff2ba0-1539-4c7a-a37d-3bc4bac9a64d",
   "metadata": {},
   "source": [
    "## Emails\n",
    "For emails, we count the number of entries where we found no emails in the whole entry"
   ]
  },
  {
   "cell_type": "code",
   "execution_count": 18,
   "id": "6e68aeea-4fdf-41b6-a2b9-bdf8b1d1348a",
   "metadata": {},
   "outputs": [
    {
     "name": "stdout",
     "output_type": "stream",
     "text": [
      "12274448\n"
     ]
    }
   ],
   "source": [
    "parsed_cur.execute(\"SELECT domain FROM parsed_2 WHERE emails == ''\")\n",
    "emails_missing = parsed_cur.fetchall()\n",
    "print(len(emails_missing))"
   ]
  },
  {
   "cell_type": "code",
   "execution_count": 19,
   "id": "2af5bfcf-d047-4be2-a51b-d9e05d80d6dc",
   "metadata": {},
   "outputs": [
    {
     "name": "stdout",
     "output_type": "stream",
     "text": [
      "Mail entry error rate :  7.86386374042437\n",
      "Mail domain error rate :  14.783815409252167\n"
     ]
    }
   ],
   "source": [
    "print(\"Mail entry error rate : \", 100*len(emails_missing)/total_entries)\n",
    "print(\"Mail domain error rate : \", 100*len(set(emails_missing))/total_domains)"
   ]
  },
  {
   "cell_type": "code",
   "execution_count": null,
   "id": "1cff4712-145a-446d-892e-262c01e3c9b2",
   "metadata": {},
   "outputs": [],
   "source": []
  }
 ],
 "metadata": {
  "kernelspec": {
   "display_name": "Python 3 (ipykernel)",
   "language": "python",
   "name": "python3"
  },
  "language_info": {
   "codemirror_mode": {
    "name": "ipython",
    "version": 3
   },
   "file_extension": ".py",
   "mimetype": "text/x-python",
   "name": "python",
   "nbconvert_exporter": "python",
   "pygments_lexer": "ipython3",
   "version": "3.9.2"
  }
 },
 "nbformat": 4,
 "nbformat_minor": 5
}
